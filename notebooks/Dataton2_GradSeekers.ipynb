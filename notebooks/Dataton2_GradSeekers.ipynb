{
 "cells": [
  {
   "cell_type": "markdown",
   "metadata": {
    "id": "MLji9o16uNoU"
   },
   "source": [
    "# Партнерская задача: тематическая классификация текстов"
   ]
  },
  {
   "cell_type": "code",
   "execution_count": 3,
   "metadata": {
    "colab": {
     "base_uri": "https://localhost:8080/"
    },
    "executionInfo": {
     "elapsed": 5355,
     "status": "ok",
     "timestamp": 1745934976820,
     "user": {
      "displayName": "A Martynov",
      "userId": "06661356698018382046"
     },
     "user_tz": -180
    },
    "id": "lc1cZuHeBVUN",
    "outputId": "053b6e6c-6651-4abd-bef9-454701ba45ec"
   },
   "outputs": [
    {
     "name": "stdout",
     "output_type": "stream",
     "text": [
      "Collecting emoji\n",
      "  Using cached emoji-2.14.1-py3-none-any.whl.metadata (5.7 kB)\n",
      "Using cached emoji-2.14.1-py3-none-any.whl (590 kB)\n",
      "Installing collected packages: emoji\n",
      "Successfully installed emoji-2.14.1\n"
     ]
    }
   ],
   "source": [
    "!pip install emoji"
   ]
  },
  {
   "cell_type": "code",
   "execution_count": 7,
   "metadata": {},
   "outputs": [
    {
     "name": "stdout",
     "output_type": "stream",
     "text": [
      "Collecting inflect\n",
      "  Downloading inflect-7.5.0-py3-none-any.whl.metadata (24 kB)\n",
      "Requirement already satisfied: more_itertools>=8.5.0 in c:\\anaconda3\\lib\\site-packages (from inflect) (10.1.0)\n",
      "Collecting typeguard>=4.0.1 (from inflect)\n",
      "  Downloading typeguard-4.4.2-py3-none-any.whl.metadata (3.8 kB)\n",
      "Requirement already satisfied: typing_extensions>=4.10.0 in c:\\anaconda3\\lib\\site-packages (from typeguard>=4.0.1->inflect) (4.11.0)\n",
      "Downloading inflect-7.5.0-py3-none-any.whl (35 kB)\n",
      "Downloading typeguard-4.4.2-py3-none-any.whl (35 kB)\n",
      "Installing collected packages: typeguard, inflect\n",
      "Successfully installed inflect-7.5.0 typeguard-4.4.2\n"
     ]
    }
   ],
   "source": [
    "!pip install inflect"
   ]
  },
  {
   "cell_type": "code",
   "execution_count": 17,
   "metadata": {
    "colab": {
     "base_uri": "https://localhost:8080/"
    },
    "executionInfo": {
     "elapsed": 13,
     "status": "ok",
     "timestamp": 1745934978063,
     "user": {
      "displayName": "A Martynov",
      "userId": "06661356698018382046"
     },
     "user_tz": -180
    },
    "id": "488q9BW7wgM8",
    "outputId": "a870e80f-c6ce-410a-e1de-116bbe0928ca"
   },
   "outputs": [
    {
     "name": "stderr",
     "output_type": "stream",
     "text": [
      "[nltk_data] Downloading package stopwords to\n",
      "[nltk_data]     C:\\Users\\avmar\\AppData\\Roaming\\nltk_data...\n",
      "[nltk_data]   Package stopwords is already up-to-date!\n",
      "[nltk_data] Downloading package wordnet to\n",
      "[nltk_data]     C:\\Users\\avmar\\AppData\\Roaming\\nltk_data...\n",
      "[nltk_data]   Package wordnet is already up-to-date!\n"
     ]
    }
   ],
   "source": [
    "import numpy as np\n",
    "import pandas as pd\n",
    "import matplotlib.pyplot as plt\n",
    "import seaborn as sns\n",
    "\n",
    "# import pymorphy2 - требуется лицензия MIT\n",
    "import re\n",
    "\n",
    "import emoji\n",
    "import inflect\n",
    "import nltk\n",
    "nltk.download('stopwords')\n",
    "nltk.download('wordnet')\n",
    "from nltk.corpus import stopwords\n",
    "from nltk.stem.snowball import RussianStemmer"
   ]
  },
  {
   "cell_type": "code",
   "execution_count": null,
   "metadata": {},
   "outputs": [],
   "source": [
    "pip install emoji inflect nltk"
   ]
  },
  {
   "cell_type": "code",
   "execution_count": null,
   "metadata": {},
   "outputs": [],
   "source": [
    "pip freeze | grep -E \"pandas|numpy|matplotlib|seaborn|scikit-learn|scipy\" >> requirements.txt"
   ]
  },
  {
   "cell_type": "code",
   "execution_count": null,
   "metadata": {},
   "outputs": [],
   "source": [
    "pip freeze | Select-String -Pattern \"pandas|numpy|matplotlib|seaborn|scikit-learn|scipy\" | Out-File -Append -FilePath requirements.txt"
   ]
  },
  {
   "cell_type": "code",
   "execution_count": null,
   "metadata": {},
   "outputs": [],
   "source": [
    "pip freeze | findstr \"pandas numpy matplotlib seaborn scikit-learn scipy\" >> requirements.txt"
   ]
  },
  {
   "cell_type": "markdown",
   "metadata": {
    "id": "6Nqe7Fp0uxJl"
   },
   "source": [
    "## 1. Исследование датасета и предобработка данных"
   ]
  },
  {
   "cell_type": "markdown",
   "metadata": {
    "id": "G4itzOJvuYbd"
   },
   "source": [
    "даны 6 датасетов (каждый датасет - отдельный класс) + описание\n",
    "\n",
    "разделение \"текст поста\", video2text [OCR], speech2text [ASR]"
   ]
  },
  {
   "cell_type": "code",
   "execution_count": 107,
   "metadata": {
    "executionInfo": {
     "elapsed": 4144,
     "status": "ok",
     "timestamp": 1745934983818,
     "user": {
      "displayName": "A Martynov",
      "userId": "06661356698018382046"
     },
     "user_tz": -180
    },
    "id": "iaDJdEqguPEu"
   },
   "outputs": [],
   "source": [
    "df1 = pd.read_csv('https://github.com/martetten/Dataton_2/raw/main/data/raw/1.csv')\n",
    "df2 = pd.read_csv('https://github.com/martetten/Dataton_2/raw/main/data/raw/2.csv')\n",
    "df3 = pd.read_csv('https://github.com/martetten/Dataton_2/raw/main/data/raw/3.csv')\n",
    "df4 = pd.read_csv('https://github.com/martetten/Dataton_2/raw/main/data/raw/4.csv')\n",
    "df5 = pd.read_csv('https://github.com/martetten/Dataton_2/raw/main/data/raw/5.csv')\n",
    "df6 = pd.read_csv('https://github.com/martetten/Dataton_2/raw/main/data/raw/6.csv')"
   ]
  },
  {
   "cell_type": "code",
   "execution_count": 108,
   "metadata": {
    "colab": {
     "base_uri": "https://localhost:8080/"
    },
    "executionInfo": {
     "elapsed": 276,
     "status": "ok",
     "timestamp": 1745934984096,
     "user": {
      "displayName": "A Martynov",
      "userId": "06661356698018382046"
     },
     "user_tz": -180
    },
    "id": "kBVfkTU0zvOA",
    "outputId": "f5158e16-d255-4dfe-b3b9-9144ad2125ec"
   },
   "outputs": [
    {
     "name": "stdout",
     "output_type": "stream",
     "text": [
      "<class 'pandas.core.frame.DataFrame'>\n",
      "RangeIndex: 1000 entries, 0 to 999\n",
      "Data columns (total 3 columns):\n",
      " #   Column       Non-Null Count  Dtype \n",
      "---  ------       --------------  ----- \n",
      " 0   doc_text     1000 non-null   object\n",
      " 1   image2text   568 non-null    object\n",
      " 2   speech2text  338 non-null    object\n",
      "dtypes: object(3)\n",
      "memory usage: 23.6+ KB\n",
      "None\n",
      "<class 'pandas.core.frame.DataFrame'>\n",
      "RangeIndex: 1000 entries, 0 to 999\n",
      "Data columns (total 3 columns):\n",
      " #   Column       Non-Null Count  Dtype \n",
      "---  ------       --------------  ----- \n",
      " 0   doc_text     1000 non-null   object\n",
      " 1   image2text   418 non-null    object\n",
      " 2   speech2text  191 non-null    object\n",
      "dtypes: object(3)\n",
      "memory usage: 23.6+ KB\n",
      "None\n",
      "<class 'pandas.core.frame.DataFrame'>\n",
      "RangeIndex: 1000 entries, 0 to 999\n",
      "Data columns (total 3 columns):\n",
      " #   Column       Non-Null Count  Dtype \n",
      "---  ------       --------------  ----- \n",
      " 0   doc_text     1000 non-null   object\n",
      " 1   image2text   521 non-null    object\n",
      " 2   speech2text  202 non-null    object\n",
      "dtypes: object(3)\n",
      "memory usage: 23.6+ KB\n",
      "None\n",
      "<class 'pandas.core.frame.DataFrame'>\n",
      "RangeIndex: 1000 entries, 0 to 999\n",
      "Data columns (total 3 columns):\n",
      " #   Column       Non-Null Count  Dtype \n",
      "---  ------       --------------  ----- \n",
      " 0   doc_text     1000 non-null   object\n",
      " 1   image2text   678 non-null    object\n",
      " 2   speech2text  342 non-null    object\n",
      "dtypes: object(3)\n",
      "memory usage: 23.6+ KB\n",
      "None\n",
      "<class 'pandas.core.frame.DataFrame'>\n",
      "RangeIndex: 1000 entries, 0 to 999\n",
      "Data columns (total 3 columns):\n",
      " #   Column       Non-Null Count  Dtype \n",
      "---  ------       --------------  ----- \n",
      " 0   doc_text     1000 non-null   object\n",
      " 1   image2text   622 non-null    object\n",
      " 2   speech2text  202 non-null    object\n",
      "dtypes: object(3)\n",
      "memory usage: 23.6+ KB\n",
      "None\n",
      "<class 'pandas.core.frame.DataFrame'>\n",
      "RangeIndex: 1000 entries, 0 to 999\n",
      "Data columns (total 3 columns):\n",
      " #   Column       Non-Null Count  Dtype \n",
      "---  ------       --------------  ----- \n",
      " 0   doc_text     1000 non-null   object\n",
      " 1   image2text   613 non-null    object\n",
      " 2   speech2text  596 non-null    object\n",
      "dtypes: object(3)\n",
      "memory usage: 23.6+ KB\n",
      "None\n"
     ]
    }
   ],
   "source": [
    "print(df1.info())\n",
    "print(df2.info())\n",
    "print(df3.info())\n",
    "print(df4.info())\n",
    "print(df5.info())\n",
    "print(df6.info())"
   ]
  },
  {
   "cell_type": "code",
   "execution_count": null,
   "metadata": {
    "id": "87UdRa9mzeBE"
   },
   "outputs": [],
   "source": [
    "# df1 = df1.drop(columns='class')"
   ]
  },
  {
   "cell_type": "code",
   "execution_count": 148,
   "metadata": {
    "executionInfo": {
     "elapsed": 8,
     "status": "ok",
     "timestamp": 1745936637489,
     "user": {
      "displayName": "A Martynov",
      "userId": "06661356698018382046"
     },
     "user_tz": -180
    },
    "id": "NiUWxqOAy2X4"
   },
   "outputs": [],
   "source": [
    "df1['class'] = 1\n",
    "df2['class'] = 2\n",
    "df3['class'] = 3\n",
    "df4['class'] = 4\n",
    "df5['class'] = 5\n",
    "df6['class'] = 6"
   ]
  },
  {
   "cell_type": "code",
   "execution_count": 178,
   "metadata": {
    "executionInfo": {
     "elapsed": 10,
     "status": "ok",
     "timestamp": 1745937296460,
     "user": {
      "displayName": "A Martynov",
      "userId": "06661356698018382046"
     },
     "user_tz": -180
    },
    "id": "1XfaD3rvzFDp"
   },
   "outputs": [],
   "source": [
    "df_gen = pd.concat([df1, df2, df3, df4, df5, df6]).reset_index()"
   ]
  },
  {
   "cell_type": "code",
   "execution_count": 150,
   "metadata": {
    "colab": {
     "base_uri": "https://localhost:8080/",
     "height": 206
    },
    "executionInfo": {
     "elapsed": 17,
     "status": "ok",
     "timestamp": 1745936639357,
     "user": {
      "displayName": "A Martynov",
      "userId": "06661356698018382046"
     },
     "user_tz": -180
    },
    "id": "W0hgdLNszpz_",
    "outputId": "377f6ba4-5dc5-4f49-aec8-0a4ffcf80684"
   },
   "outputs": [
    {
     "data": {
      "application/vnd.google.colaboratory.intrinsic+json": {
       "summary": "{\n  \"name\": \"df_gen\",\n  \"rows\": 5,\n  \"fields\": [\n    {\n      \"column\": \"index\",\n      \"properties\": {\n        \"dtype\": \"number\",\n        \"std\": 1,\n        \"min\": 995,\n        \"max\": 999,\n        \"num_unique_values\": 5,\n        \"samples\": [\n          996,\n          999,\n          997\n        ],\n        \"semantic_type\": \"\",\n        \"description\": \"\"\n      }\n    },\n    {\n      \"column\": \"doc_text\",\n      \"properties\": {\n        \"dtype\": \"string\",\n        \"num_unique_values\": 5,\n        \"samples\": [\n          \"\\u041e\\u0441\\u0442\\u043e\\u0440\\u043e\\u0436\\u043d\\u043e \\u043f\\u0440\\u043e\\u043f\\u0430\\u043b\\u0430 \\u0441\\u043e\\u0431\\u0430\\u043a\\u0430! #\\u0430\\u043b\\u0435\\u043a\\u0441\\u0435\\u0439\\u0449\\u0435\\u0440\\u0431\\u0430\\u043a\\u043e\\u0432 #\\u0449\\u0435\\u0440\\u0431\\u0430\\u043a\\u043e\\u0432 #\\u0437\\u0430\\u0431\\u043e\\u0440\\u044b\",\n          \"\\u0414\\u0435\\u0432\\u043e\\u0447\\u043a\\u0438, \\u043d\\u0443 \\u043c\\u044b?!  @katiashmatia \\u043f\\u0440\\u0430\\u0432\\u0438\\u043b\\u044c\\u043d\\u043e \\u043f\\u043e\\u0441\\u0442\\u0443\\u043f\\u0438\\u043b\\u0430?\\ud83e\\uddf8  #\\u044e\\u043c\\u043e\\u0440 #\\u0441\\u043c\\u0435\\u0448\\u043d\\u043e #\\u0432\\u0430\\u0439\\u043d #\\u0438\\u0434\\u0430\\u0433\\u0430\\u043b\\u0438\\u0447\",\n          \"\\u0414\\u043b\\u044f \\u0432\\u0430\\u0448\\u0438\\u0445 \\u043e\\u0433\\u043e\\u043d\\u0451\\u0447\\u043a\\u043e\\u0432\\ud83d\\udd25\"\n        ],\n        \"semantic_type\": \"\",\n        \"description\": \"\"\n      }\n    },\n    {\n      \"column\": \"image2text\",\n      \"properties\": {\n        \"dtype\": \"string\",\n        \"num_unique_values\": 3,\n        \"samples\": [\n          \"(\\u043f\\u0430\\u043f\\u0443\\u0441\\u043e\\u0432^ \\u0445\",\n          \"v \\u043a \\u0432\\u0438\\u0434\\u0435\\u043e\",\n          \"\\u043e 6\"\n        ],\n        \"semantic_type\": \"\",\n        \"description\": \"\"\n      }\n    },\n    {\n      \"column\": \"speech2text\",\n      \"properties\": {\n        \"dtype\": \"string\",\n        \"num_unique_values\": 5,\n        \"samples\": [\n          \"\\u0412\\u0441\\u0435\\u0433\\u0434\\u0430 \\u043e\\u0447\\u0435\\u043d\\u044c \\u043e\\u0431\\u0438\\u0434\\u043d\\u043e \\u0447\\u0438\\u0442\\u0430\\u0442\\u044c \\u043f\\u043e\\u0434\\u043e\\u0431\\u043d\\u044b\\u0435 \\u0440\\u043e\\u0434\\u043d\\u044b\\u0435 \\u043e\\u0431\\u044a\\u044f\\u0432\\u043b\\u0435\\u043d\\u0438\\u044f \\u0412\\u0435\\u0434\\u044c \\u0441\\u0440\\u0430\\u0437\\u0443 \\u0441\\u0442\\u0430\\u043d\\u043e\\u0432\\u0438\\u0442\\u0441\\u044f \\u0433\\u0440\\u0443\\u0441\\u0442\\u043d\\u043e, \\u0447\\u0442\\u043e \\u0432\\u044b \\u043b\\u0435\\u0437\\u0435\\u0442\\u0435 \\u0432 \\u043a\\u0443\\u0441\\u0442\\u0430\\u0445, \\u0433\\u0434\\u0435 \\u043c\\u043e\\u0433\\u0443\\u0442 \\u043d\\u0430\\u043f\\u0440\\u043e\\u0447\\u044c \\u043e\\u0442\\u043a\\u0443\\u0441\\u0438\\u0442\\u044c \\u0432\\u0441\\u0435 \\u044f\\u0439\\u0446\\u0430 \\u0418 \\u0432\\u043e\\u0442 \\u043f\\u0440\\u0435\\u0434\\u0441\\u0442\\u0430\\u0432\\u044c\\u0442\\u0435, \\u0442\\u0430 \\u0441\\u0430\\u043c\\u0430\\u044f \\u043f\\u0440\\u043e\\u043f\\u0430\\u0432\\u0448\\u0430\\u044f \\u0441\\u043e\\u0431\\u0430\\u043a\\u0430 \\u0432\\u043e\\u0437\\u0432\\u0440\\u0430\\u0449\\u0430\\u043b\\u0430\\u0441\\u044c \\u0432 \\u043a\\u0443\\u0441\\u0442\\u043e\\u043a \\u0438 \\u0443\\u0436\\u0435 \\u043f\\u043e\\u0432\\u0430\\u043b\\u0438\\u043b\\u0430\\u0441\\u044c \\u043d\\u0430 \\u0432\\u0430\\u0448\\u0438 \\u044f\\u0439\\u0446\\u0430 \\u0427\\u0442\\u043e \\u0434\\u0435\\u043b\\u0430\\u0442\\u044c, \\u0435\\u0441\\u043b\\u0438 \\u043f\\u0435\\u0440\\u0435\\u0434 \\u0432\\u0430\\u043c\\u0438 \\u043e\\u0442\\u043a\\u0440\\u044b\\u0432\\u0430\\u0435\\u0442\\u0441\\u044f \\u043e\\u0433\\u0440\\u043e\\u043c\\u043d\\u044b\\u0439 \\u0440\\u0430\\u0437\\u043c\\u0435\\u0440\\u043d\\u044b\\u0439 \\u0437\\u0430\\u0431\\u043e\\u0440? \\u0418 \\u0432 \\u0432\\u0430\\u0448\\u0438\\u0445 \\u0441\\u043b\\u0443\\u0447\\u0430\\u044f \\u0441\\u043e\\u0431\\u0430\\u043a\\u0430 \\u0436\\u0434\\u0430\\u0442\\u044c \\u043d\\u0435 \\u043b\\u044e\\u0431\\u0438\\u0442, \\u0438 \\u0436\\u0434\\u0430\\u0442\\u044c \\u043e\\u043d\\u0430 \\u043d\\u0435 \\u0431\\u0443\\u0434\\u0435\\u0442, \\u043d\\u0435 \\u043f\\u0440\\u0438\\u0433\\u043e\\u0432\\u043e\\u0440\\u0438\\u0442, \\u043d\\u0435 \\u043f\\u0440\\u0438\\u0433\\u043e\\u0432\\u043e\\u0440\\u0438\\u0442 \\u041d\\u0430\\u043c \\u043d\\u0430\\u0434\\u043e \\u043f\\u0440\\u043e\\u0441\\u0442\\u043e \\u043e\\u0442\\u0440\\u0430\\u0432\\u0438\\u0442\\u044c\\u0441\\u044f \\u043d\\u0430 \\u0432\\u0435\\u0440\\u0445 \\u0415\\u0434\\u0438\\u043d\\u0441\\u0442\\u0432\\u0435\\u043d\\u043d\\u0430\\u044f \\u0432\\u0435\\u0449\\u042c \\u0442\\u043e\\u0436\\u0435 \\u0442\\u0430\\u043a\\u043e\\u0432\\u0430, \\u0447\\u0442\\u043e \\u0432\\u0441\\u0435 \\u0440\\u0443\\u043a\\u0438 \\u043e\\u0442\\u0441\\u0442\\u0435\\u0433\\u043d\\u0443\\u0442 \\u0440\\u043e\\u0432\\u043d\\u043e \\u0442\\u0430\\u043a \\u0418 \\u0432\\u043e\\u0442 \\u0442\\u0430\\u043a \\u043c\\u043e\\u0433\\u0443\\u0442 \\u0441\\u0435\\u0431\\u044f \\u043d\\u0435 \\u043f\\u043e\\u0434\\u0441\\u0442\\u0430\\u0432\\u0438\\u0442\\u044c \\u0427\\u0442\\u043e \\u0434\\u0435\\u043b\\u0430\\u0442\\u044c? \\u0410 \\u043e\\u0447\\u0435\\u043d\\u044c \\u043f\\u0440\\u043e\\u0441\\u0442\\u043e! \\u0417\\u0430\\u043d\\u0438\\u043c\\u0430\\u0435\\u043c \\u0433\\u043e\\u0440\\u0438\\u0437\\u043e\\u043d\\u0442\\u0430\\u043b\\u044c\\u043d\\u043e\\u0435 \\u043f\\u043e\\u043b\\u043e\\u0436\\u0435\\u043d\\u0438\\u0435 \\u0438 \\u043f\\u0435\\u0440\\u0435\\u043b\\u0435\\u0437\\u0430\\u0435\\u043c \\u0447\\u0435\\u0440\\u0435\\u0437 \\u0437\\u0430\\u0431\\u043e\\u0440 \\u041a\\u0430\\u043a \\u0431\\u0443\\u0434\\u0442\\u043e \\u0431\\u044b \\u043b\\u0435\\u0437\\u0442\\u044c \\u043f\\u043e \\u0432\\u044b\\u0441\\u043e\\u043c\\u0443 \\u0437\\u0430\\u0431\\u043e\\u0440\\u0443 \\u041d\\u043e\\u0433\\u0438 \\u0441\\u0442\\u043e\\u044f\\u0442, \\u0434\\u0435\\u0440\\u0436\\u0430\\u0442\\u0441\\u044c, \\u0438 \\u0432\\u0441\\u0435 \\u043e\\u0447\\u0435\\u043d\\u044c \\u0443\\u0434\\u043e\\u0431\\u043d\\u043e \\u0418 \\u0434\\u0435\\u0442\\u043a\\u0438-\\u0442\\u043e \\u043c\\u044b \\u0437\\u0430\\u043b\\u0435\\u0437\\u0430\\u043b\\u0438 \\u0432\\u0435\\u0440\\u0442\\u0438\\u043a\\u0430\\u043b\\u044c\\u043d\\u043e, \\u043d\\u0430\\u043c \\u0431\\u044b \\u043d\\u0435 \\u0431\\u044b\\u043b\\u043e \\u0441 \\u0442\\u0435\\u0445 \\u043f\\u043e\\u0440 \\u043d\\u0435 \\u043f\\u043e\\u0434\\u0441\\u0442\\u0430\\u0432\\u0438\\u0442\\u044c \\u043d\\u043e\\u0433\\u0438 \\u0410 \\u0442\\u0430\\u043a \\u044f \\u043f\\u0440\\u0430\\u043a\\u0442\\u0438\\u0447\\u0435\\u0441\\u043a\\u0438 \\u0431\\u0443\\u0434\\u0443 \\u043b\\u0435\\u0432\\u044b\\u043c \\u043f\\u043e \\u043b\\u0435\\u0441\\u0442\\u043d\\u0438\\u0446\\u0435, \\u043d\\u043e \\u0442\\u043e\\u043b\\u044c\\u043a\\u043e \\u0432\\u0431\\u043e\\u043a \\u0421\\u043e\\u0431\\u0430\\u043a\\u0430 \\u0442\\u0435\\u043c \\u0432\\u0440\\u0435\\u043c\\u0435\\u043d\\u0435\\u043c \\u0443\\u0436\\u0435 \\u043b\\u0430\\u0435\\u0442, \\u0442\\u0430\\u043a \\u043a\\u0430\\u043a \\u0442\\u0435\\u0431\\u044f \\u0441\\u043e\\u0431\\u0430\\u043a \\u0432\\u043e\\u043b\\u043d\\u0443\\u044e\\u0442 \\u0412\\u0435\\u0434\\u044c \\u043c\\u044b \\u0441\\u0431\\u0435\\u0436\\u0430\\u043b\\u0438 \\u043e\\u0442 \\u043d\\u0435\\u0435 \\u0418 \\u043b\\u0443\\u0447\\u0448\\u0435 \\u043e\\u0441\\u0442\\u0430\\u0432\\u0438\\u043c \\u044d\\u0442\\u0438 \\u044f\\u0439\\u0446\\u0430, \\u0447\\u0435\\u043c \\u043e\\u0441\\u0442\\u0430\\u0432\\u0438\\u043c \\u0438\\u0445 \\u0435\\u0439 \\u0421\\u043f\\u0443\\u0441\\u043a\\u0430\\u0435\\u043c\\u0441\\u044f \\u043f\\u043e \\u0441\\u0430\\u043c\\u043e\\u043c\\u0443 \\u0436\\u0435 \\u043c\\u0435\\u0442\\u043e\\u0434\\u0443 \\u0414\\u0435\\u0440\\u0436\\u0438\\u043c\\u0441\\u044f, \\u0435\\u0441\\u043b\\u0438 \\u0445\\u043e\\u0447\\u0435\\u0448\\u044c \\u043f\\u043e\\u0435\\u0445\\u0430\\u043b\\u0438 \\u0432\\u043d\\u0438\\u0437 \\u0420\\u0430\\u0437 \\u0414\\u0435\\u0440\\u0436\\u0438\\u0441\\u044c \\u041d\\u0443 \\u0447\\u0442\\u043e \\u0436, \\u0441\\u043e\\u0431\\u0441\\u0442\\u0432\\u0435\\u043d\\u043d\\u043e, \\u043e\\u0433\\u043e\\u043d\\u044c \\u0437\\u0434\\u0435\\u0441\\u044c!\",\n          \"\\u043c\\u0438\\u043b\\u0430\\u044f \\u043e\\u043d \\u043d\\u0435 \\u043e\\u0442\\u0432\\u0435\\u0447\\u0430\\u0435\\u0442 \\u043c\\u043d\\u0435 \\u043d\\u0430 \\u0441\\u043e\\u043e\\u0431\\u0449\\u0435\\u043d\\u0438\\u044f \\u0443\\u0436\\u0435 \\u0447\\u0435\\u0442\\u044b\\u0440\\u0435 \\u043c\\u0438\\u043d\\u0443\\u0442\\u044b \\u0442\\u0440\\u0438\\u0434\\u0446\\u0430\\u0442\\u044c \\u0434\\u0432\\u0435 \\u0441\\u0435\\u043a\\u0443\\u043d\\u0434\\u044b \\u0442\\u0440\\u0438\\u0434\\u0446\\u0430\\u0442\\u044c \\u0442\\u0440\\u0438 \\u0441\\u0435\\u043a\\u0443\\u043d\\u0434\\u044b \\u0442\\u0440\\u0438\\u0434\\u0446\\u0430\\u0442\\u044c \\u043f\\u043e\\u0442\\u0438\\u0448\\u0435 \\u044f \\u043f\\u043e\\u043d\\u044f\\u043b\\u0430 \\u0447\\u0442\\u043e \\u0442\\u044b \\u0435\\u043c\\u0443 \\u043d\\u0430\\u043f\\u0438\\u0441\\u0430\\u043b\\u0430 \\u0441\\u0435\\u0439\\u0447\\u0430\\u0441 \\u0442\\u0432\\u043e\\u0435 \\u043f\\u043e\\u0441\\u043b\\u0435\\u0434\\u043d\\u0435\\u0435 \\u0441\\u043e\\u043e\\u0431\\u0449\\u0435\\u043d\\u0438\\u0435 \\u043d\\u0435 \\u043f\\u0438\\u0448\\u0438 \\u043c\\u043d\\u0435 \\u0431\\u043e\\u043b\\u044c\\u0448\\u0435 \\u043d\\u0438\\u043a\\u043e\\u0433\\u0434\\u0430 \\u0432 \\u0436\\u0438\\u0437\\u043d\\u0438 \\u0443\\u0440\\u043e\\u0434 \\u0434\\u0435\\u0439\\u0441\\u0442\\u0432\\u0438\\u0442\\u0435\\u043b\\u044c\\u043d\\u043e \\u0441\\u0442\\u0440\\u0430\\u043d\\u043d\\u043e \\u0447\\u0442\\u043e \\u043e\\u043d \\u0442\\u0435\\u0431\\u0435 \\u043d\\u0435 \\u043f\\u0438\\u0448\\u0435\\u0442 \\u044f \\u0441\\u0435\\u0439\\u0447\\u0430\\u0441 \\u043f\\u0440\\u0435\\u0434\\u043b\\u043e\\u0436\\u0443 \\u0431\\u0435\\u0437\\u0443\\u043c\\u043d\\u0443\\u044e \\u043c\\u044b\\u0441\\u043b\\u044c \\u043a\\u0430\\u0440\\u0430\\u043e\\u043a\\u0435 \\u0441 \\u0442\\u044e\\u043b\\u044c\\u043f\\u0430\\u043d\\u0441\\u043a\\u0438\\u043c \\u0434\\u0443\\u0440\\u043e\\u0447\\u043a\\u0430 \\u044d\\u0442\\u043e \\u043e\\u0431\\u044b\\u0447\\u043d\\u0430\\u044f \\u043c\\u044b\\u0441\\u043b\\u044c \\u043c\\u043e\\u0436\\u0435\\u0442 \\u043c\\u043d\\u0435 \\u0435\\u0433\\u043e \\u0440\\u0430\\u0437\\u0431\\u043b\\u043e\\u043a\\u0438\\u0440\\u043e\\u0432\\u0430\\u0442\\u044c \\u043a\\u0430\\u0442\\u0435\\u0440\\u0438\\u043d\\u0430 \\u0442\\u044b \\u0437\\u0430\\u0431\\u043b\\u043e\\u043a\\u0438\\u0440\\u043e\\u0432\\u0430\\u043b\\u0430 \\u043c\\u0443\\u0436\\u0447\\u0438\\u043d\\u0443 \\u0438 \\u0436\\u0434\\u0435\\u0448\\u044c \\u043e\\u0442 \\u043d\\u0435\\u0433\\u043e \\u0441\\u043c\\u0441 \\u0434\\u0430 \\u043d\\u043e \\u0435\\u0441\\u043b\\u0438 \\u0447\\u0435\\u043b\\u043e\\u0432\\u0435\\u0447\\u0435\\u043a \\u043b\\u044e\\u0431\\u0438\\u0442 \\u043e\\u043d \\u043d\\u0430\\u0439\\u0434\\u0435\\u0442 \\u043b\\u0430\\u0437\\u0435\\u0435\\u0447\\u043a\\u0443 \\u044d\\u0442\\u043e \\u043f\\u0440\\u0430\\u0432\\u0434\\u0430 \\u043a\\u043e\\u0433\\u0434\\u0430 \\u044f \\u0440\\u0430\\u0441\\u0441\\u0442\\u0430\\u043b\\u0430\\u0441\\u044c \\u0441 \\u0431\\u043e\\u0440\\u0438\\u0441\\u043e\\u043c \\u0437\\u0430\\u0431\\u043b\\u043e\\u043a\\u0438\\u0440\\u043e\\u0432\\u0430\\u043b\\u0430 \\u0435\\u0433\\u043e \\u0443 \\u043c\\u0435\\u043d\\u044f \\u0437\\u0430\\u0441\\u0442\\u0440\\u044f\\u043b\\u0430 \\u043f\\u0435\\u0447\\u0435\\u043d\\u044c \\u043d\\u0435\\u0442 \\u044d\\u0442\\u043e \\u0430\\u0440\\u0442\\u0440\\u0438\\u0442 \\u0441\\u043b\\u0443\\u0448\\u0430\\u0439 \\u0440\\u0430\\u0437\\u0431\\u043b\\u043e\\u043a\\u0438\\u0440\\u0443\\u0439 \\u043f\\u0430\\u0440\\u043d\\u044f \\u0442\\u0435\\u0431\\u0435 \\u0442\\u0440\\u0438\\u0434\\u0446\\u0430\\u0442\\u044c \\u0432\\u043e\\u0441\\u0435\\u043c\\u044c \\u043b\\u0435\\u0442\",\n          \"\\u043d\\u0430 \\u0442\\u0435\\u043b\\u0435\\u0444\\u043e\\u043d\\u0430\\u0445 \\u043e\\u0433\\u043e\\u043d\\u0451\\u0447\\u043a\\u0438 \\u0432\\u0434\\u0440\\u0443\\u0433 \\u0437\\u0430\\u0436\\u0438\\u0433\\u0430\\u0435\\u0442 \\u043f\\u043e\\u043b\\u043d\\u044b\\u0439 \\u0437\\u0430\\u043b \\u043d\\u0443 \\u0436\\u0435, \\u043d\\u0443 \\u0436\\u0435! \\u043d\\u0430 \\u0442\\u0435\\u043b\\u0435\\u0444\\u043e\\u043d\\u0430\\u0445 \\u043e\\u0433\\u043e\\u043d\\u044c\\u043a\\u0438 \\u0432\\u0434\\u0440\\u0443\\u0433 \\u0437\\u0430\\u0436\\u0438\\u0433\\u0430\\u0435\\u0442 \\u043f\\u043e\\u043b\\u043d\\u044b\\u0439 \\u0437\\u0430\\u043b \\u043d\\u0443, \\u043d\\u0430\\u043a\\u043e\\u043d\\u0435\\u0446-\\u0442\\u043e \\u043f\\u043e\\u043d\\u044f\\u043b\\u0438 \\u0437\\u0432\\u0435\\u0437\\u0434\\u044b \\u0433\\u043e\\u0440\\u044f\\u0442 \\u0432 \\u0444\\u0438\\u043d\\u0430\\u043b \\u0432 \\u043e\\u0431\\u043e\\u0434\\u043d\\u0443\\u044e \\u043b\\u0435\\u0432\\u0443\\u044e \\u0440\\u0443\\u043a\\u0443 \\u0434\\u0430\\u0432\\u0430\\u0439\\u0442\\u0435 \\u0432\\u0441\\u0435 \\u0432\\u044b\\u0448\\u0435 \\u0442\\u044f\\u043d\\u0443\\u0442\\u044c \\u0438 \\u044d\\u0442\\u0443 \\u0436\\u0435 \\u0440\\u0443\\u043a\\u0443 \\u043a\\u043b\\u0430\\u0434\\u0438\\u0442\\u0435 \\u0440\\u0430\\u0437\\u0440\\u0435\\u0437\\u0430\\u0442\\u044c \\u0441\\u043b\\u0435\\u0432\\u0430 \\u043d\\u0430 \\u0433\\u0440\\u0443\\u0434\\u0438 \\u0434\\u0435\\u0440\\u0436\\u0438\\u0442\\u0435, \\u0434\\u0435\\u0440\\u0436\\u0438\\u0442\\u0435, \\u043d\\u0435 \\u0443\\u0431\\u0438\\u0440\\u0430\\u0439\\u0442\\u0435 \\u044d\\u0442\\u043e \\u0425\\u0430\\u0440\\u043b\\u0430\\u043d\\u043e\\u0432\\u0443 \\u043d\\u0430\\u0448 \\u043f\\u043e\\u043a\\u043e\\u043d \\u0447\\u0443\\u0432\\u0441\\u0442\\u0432\\u0435\\u043d\\u043d\\u043e \\u043f\\u0435\\u0440\\u0435\\u043a\\u0430\\u0442 \\u0434\\u043e\\u0440\\u043e\\u0433\\u0438 \\u043d\\u0435 \\u0437\\u0430\\u043a\\u0440\\u0443\\u0447\\u0430\\u043b \\u0442\\u0430\\u043a \\u0437\\u0430\\u0431\\u043e\\u0442 \\u0432\\u0441\\u0451! \\u0431\\u0440\\u0430\\u0432\\u043e! \\u043a\\u043b\\u0430\\u0441\\u0441\\u043d\\u043e, \\u043a\\u043b\\u0430\\u0441\\u0441\\u043d\\u043e! \\u0430 \\u0441\\u044b\\u0433\\u0440\\u0430\\u0439 \\u0435\\u0449\\u0451 \\u0447\\u0442\\u043e-\\u043d\\u0438\\u0431\\u0443\\u0434\\u044c! \\u043d\\u0435 \\u043d\\u0430\\u0434\\u043e! \\u0434\\u0440\\u0443\\u0437\\u044c\\u044f!\"\n        ],\n        \"semantic_type\": \"\",\n        \"description\": \"\"\n      }\n    },\n    {\n      \"column\": \"class\",\n      \"properties\": {\n        \"dtype\": \"number\",\n        \"std\": 0,\n        \"min\": 6,\n        \"max\": 6,\n        \"num_unique_values\": 1,\n        \"samples\": [\n          6\n        ],\n        \"semantic_type\": \"\",\n        \"description\": \"\"\n      }\n    }\n  ]\n}",
       "type": "dataframe"
      },
      "text/html": [
       "\n",
       "  <div id=\"df-9b11bf22-8677-4ae3-b5f1-70f25bdd9397\" class=\"colab-df-container\">\n",
       "    <div>\n",
       "<style scoped>\n",
       "    .dataframe tbody tr th:only-of-type {\n",
       "        vertical-align: middle;\n",
       "    }\n",
       "\n",
       "    .dataframe tbody tr th {\n",
       "        vertical-align: top;\n",
       "    }\n",
       "\n",
       "    .dataframe thead th {\n",
       "        text-align: right;\n",
       "    }\n",
       "</style>\n",
       "<table border=\"1\" class=\"dataframe\">\n",
       "  <thead>\n",
       "    <tr style=\"text-align: right;\">\n",
       "      <th></th>\n",
       "      <th>index</th>\n",
       "      <th>doc_text</th>\n",
       "      <th>image2text</th>\n",
       "      <th>speech2text</th>\n",
       "      <th>class</th>\n",
       "    </tr>\n",
       "  </thead>\n",
       "  <tbody>\n",
       "    <tr>\n",
       "      <th>5995</th>\n",
       "      <td>995</td>\n",
       "      <td>Отказали ноги, стандартная ситуация!  #щербако...</td>\n",
       "      <td>NaN</td>\n",
       "      <td>Ночь, ожидания, холод, боль, словно я раскол, ...</td>\n",
       "      <td>6</td>\n",
       "    </tr>\n",
       "    <tr>\n",
       "      <th>5996</th>\n",
       "      <td>996</td>\n",
       "      <td>Осторожно пропала собака! #алексейщербаков #ще...</td>\n",
       "      <td>(папусов^ х</td>\n",
       "      <td>Всегда очень обидно читать подобные родные объ...</td>\n",
       "      <td>6</td>\n",
       "    </tr>\n",
       "    <tr>\n",
       "      <th>5997</th>\n",
       "      <td>997</td>\n",
       "      <td>Для ваших огонёчков🔥</td>\n",
       "      <td>v к видео</td>\n",
       "      <td>на телефонах огонёчки вдруг зажигает полный за...</td>\n",
       "      <td>6</td>\n",
       "    </tr>\n",
       "    <tr>\n",
       "      <th>5998</th>\n",
       "      <td>998</td>\n",
       "      <td>#зиминарулит 😂😂😂 #актрисатеатраикино  #виктори...</td>\n",
       "      <td>о 6</td>\n",
       "      <td>Что вы умеете делать? Всё. Стрелять, варить ха...</td>\n",
       "      <td>6</td>\n",
       "    </tr>\n",
       "    <tr>\n",
       "      <th>5999</th>\n",
       "      <td>999</td>\n",
       "      <td>Девочки, ну мы?!  @katiashmatia правильно пост...</td>\n",
       "      <td>NaN</td>\n",
       "      <td>милая он не отвечает мне на сообщения уже четы...</td>\n",
       "      <td>6</td>\n",
       "    </tr>\n",
       "  </tbody>\n",
       "</table>\n",
       "</div>\n",
       "    <div class=\"colab-df-buttons\">\n",
       "\n",
       "  <div class=\"colab-df-container\">\n",
       "    <button class=\"colab-df-convert\" onclick=\"convertToInteractive('df-9b11bf22-8677-4ae3-b5f1-70f25bdd9397')\"\n",
       "            title=\"Convert this dataframe to an interactive table.\"\n",
       "            style=\"display:none;\">\n",
       "\n",
       "  <svg xmlns=\"http://www.w3.org/2000/svg\" height=\"24px\" viewBox=\"0 -960 960 960\">\n",
       "    <path d=\"M120-120v-720h720v720H120Zm60-500h600v-160H180v160Zm220 220h160v-160H400v160Zm0 220h160v-160H400v160ZM180-400h160v-160H180v160Zm440 0h160v-160H620v160ZM180-180h160v-160H180v160Zm440 0h160v-160H620v160Z\"/>\n",
       "  </svg>\n",
       "    </button>\n",
       "\n",
       "  <style>\n",
       "    .colab-df-container {\n",
       "      display:flex;\n",
       "      gap: 12px;\n",
       "    }\n",
       "\n",
       "    .colab-df-convert {\n",
       "      background-color: #E8F0FE;\n",
       "      border: none;\n",
       "      border-radius: 50%;\n",
       "      cursor: pointer;\n",
       "      display: none;\n",
       "      fill: #1967D2;\n",
       "      height: 32px;\n",
       "      padding: 0 0 0 0;\n",
       "      width: 32px;\n",
       "    }\n",
       "\n",
       "    .colab-df-convert:hover {\n",
       "      background-color: #E2EBFA;\n",
       "      box-shadow: 0px 1px 2px rgba(60, 64, 67, 0.3), 0px 1px 3px 1px rgba(60, 64, 67, 0.15);\n",
       "      fill: #174EA6;\n",
       "    }\n",
       "\n",
       "    .colab-df-buttons div {\n",
       "      margin-bottom: 4px;\n",
       "    }\n",
       "\n",
       "    [theme=dark] .colab-df-convert {\n",
       "      background-color: #3B4455;\n",
       "      fill: #D2E3FC;\n",
       "    }\n",
       "\n",
       "    [theme=dark] .colab-df-convert:hover {\n",
       "      background-color: #434B5C;\n",
       "      box-shadow: 0px 1px 3px 1px rgba(0, 0, 0, 0.15);\n",
       "      filter: drop-shadow(0px 1px 2px rgba(0, 0, 0, 0.3));\n",
       "      fill: #FFFFFF;\n",
       "    }\n",
       "  </style>\n",
       "\n",
       "    <script>\n",
       "      const buttonEl =\n",
       "        document.querySelector('#df-9b11bf22-8677-4ae3-b5f1-70f25bdd9397 button.colab-df-convert');\n",
       "      buttonEl.style.display =\n",
       "        google.colab.kernel.accessAllowed ? 'block' : 'none';\n",
       "\n",
       "      async function convertToInteractive(key) {\n",
       "        const element = document.querySelector('#df-9b11bf22-8677-4ae3-b5f1-70f25bdd9397');\n",
       "        const dataTable =\n",
       "          await google.colab.kernel.invokeFunction('convertToInteractive',\n",
       "                                                    [key], {});\n",
       "        if (!dataTable) return;\n",
       "\n",
       "        const docLinkHtml = 'Like what you see? Visit the ' +\n",
       "          '<a target=\"_blank\" href=https://colab.research.google.com/notebooks/data_table.ipynb>data table notebook</a>'\n",
       "          + ' to learn more about interactive tables.';\n",
       "        element.innerHTML = '';\n",
       "        dataTable['output_type'] = 'display_data';\n",
       "        await google.colab.output.renderOutput(dataTable, element);\n",
       "        const docLink = document.createElement('div');\n",
       "        docLink.innerHTML = docLinkHtml;\n",
       "        element.appendChild(docLink);\n",
       "      }\n",
       "    </script>\n",
       "  </div>\n",
       "\n",
       "\n",
       "    <div id=\"df-26e001e1-6228-4213-a40b-5bd0eec92b2d\">\n",
       "      <button class=\"colab-df-quickchart\" onclick=\"quickchart('df-26e001e1-6228-4213-a40b-5bd0eec92b2d')\"\n",
       "                title=\"Suggest charts\"\n",
       "                style=\"display:none;\">\n",
       "\n",
       "<svg xmlns=\"http://www.w3.org/2000/svg\" height=\"24px\"viewBox=\"0 0 24 24\"\n",
       "     width=\"24px\">\n",
       "    <g>\n",
       "        <path d=\"M19 3H5c-1.1 0-2 .9-2 2v14c0 1.1.9 2 2 2h14c1.1 0 2-.9 2-2V5c0-1.1-.9-2-2-2zM9 17H7v-7h2v7zm4 0h-2V7h2v10zm4 0h-2v-4h2v4z\"/>\n",
       "    </g>\n",
       "</svg>\n",
       "      </button>\n",
       "\n",
       "<style>\n",
       "  .colab-df-quickchart {\n",
       "      --bg-color: #E8F0FE;\n",
       "      --fill-color: #1967D2;\n",
       "      --hover-bg-color: #E2EBFA;\n",
       "      --hover-fill-color: #174EA6;\n",
       "      --disabled-fill-color: #AAA;\n",
       "      --disabled-bg-color: #DDD;\n",
       "  }\n",
       "\n",
       "  [theme=dark] .colab-df-quickchart {\n",
       "      --bg-color: #3B4455;\n",
       "      --fill-color: #D2E3FC;\n",
       "      --hover-bg-color: #434B5C;\n",
       "      --hover-fill-color: #FFFFFF;\n",
       "      --disabled-bg-color: #3B4455;\n",
       "      --disabled-fill-color: #666;\n",
       "  }\n",
       "\n",
       "  .colab-df-quickchart {\n",
       "    background-color: var(--bg-color);\n",
       "    border: none;\n",
       "    border-radius: 50%;\n",
       "    cursor: pointer;\n",
       "    display: none;\n",
       "    fill: var(--fill-color);\n",
       "    height: 32px;\n",
       "    padding: 0;\n",
       "    width: 32px;\n",
       "  }\n",
       "\n",
       "  .colab-df-quickchart:hover {\n",
       "    background-color: var(--hover-bg-color);\n",
       "    box-shadow: 0 1px 2px rgba(60, 64, 67, 0.3), 0 1px 3px 1px rgba(60, 64, 67, 0.15);\n",
       "    fill: var(--button-hover-fill-color);\n",
       "  }\n",
       "\n",
       "  .colab-df-quickchart-complete:disabled,\n",
       "  .colab-df-quickchart-complete:disabled:hover {\n",
       "    background-color: var(--disabled-bg-color);\n",
       "    fill: var(--disabled-fill-color);\n",
       "    box-shadow: none;\n",
       "  }\n",
       "\n",
       "  .colab-df-spinner {\n",
       "    border: 2px solid var(--fill-color);\n",
       "    border-color: transparent;\n",
       "    border-bottom-color: var(--fill-color);\n",
       "    animation:\n",
       "      spin 1s steps(1) infinite;\n",
       "  }\n",
       "\n",
       "  @keyframes spin {\n",
       "    0% {\n",
       "      border-color: transparent;\n",
       "      border-bottom-color: var(--fill-color);\n",
       "      border-left-color: var(--fill-color);\n",
       "    }\n",
       "    20% {\n",
       "      border-color: transparent;\n",
       "      border-left-color: var(--fill-color);\n",
       "      border-top-color: var(--fill-color);\n",
       "    }\n",
       "    30% {\n",
       "      border-color: transparent;\n",
       "      border-left-color: var(--fill-color);\n",
       "      border-top-color: var(--fill-color);\n",
       "      border-right-color: var(--fill-color);\n",
       "    }\n",
       "    40% {\n",
       "      border-color: transparent;\n",
       "      border-right-color: var(--fill-color);\n",
       "      border-top-color: var(--fill-color);\n",
       "    }\n",
       "    60% {\n",
       "      border-color: transparent;\n",
       "      border-right-color: var(--fill-color);\n",
       "    }\n",
       "    80% {\n",
       "      border-color: transparent;\n",
       "      border-right-color: var(--fill-color);\n",
       "      border-bottom-color: var(--fill-color);\n",
       "    }\n",
       "    90% {\n",
       "      border-color: transparent;\n",
       "      border-bottom-color: var(--fill-color);\n",
       "    }\n",
       "  }\n",
       "</style>\n",
       "\n",
       "      <script>\n",
       "        async function quickchart(key) {\n",
       "          const quickchartButtonEl =\n",
       "            document.querySelector('#' + key + ' button');\n",
       "          quickchartButtonEl.disabled = true;  // To prevent multiple clicks.\n",
       "          quickchartButtonEl.classList.add('colab-df-spinner');\n",
       "          try {\n",
       "            const charts = await google.colab.kernel.invokeFunction(\n",
       "                'suggestCharts', [key], {});\n",
       "          } catch (error) {\n",
       "            console.error('Error during call to suggestCharts:', error);\n",
       "          }\n",
       "          quickchartButtonEl.classList.remove('colab-df-spinner');\n",
       "          quickchartButtonEl.classList.add('colab-df-quickchart-complete');\n",
       "        }\n",
       "        (() => {\n",
       "          let quickchartButtonEl =\n",
       "            document.querySelector('#df-26e001e1-6228-4213-a40b-5bd0eec92b2d button');\n",
       "          quickchartButtonEl.style.display =\n",
       "            google.colab.kernel.accessAllowed ? 'block' : 'none';\n",
       "        })();\n",
       "      </script>\n",
       "    </div>\n",
       "    </div>\n",
       "  </div>\n"
      ],
      "text/plain": [
       "      index                                           doc_text   image2text  \\\n",
       "5995    995  Отказали ноги, стандартная ситуация!  #щербако...          NaN   \n",
       "5996    996  Осторожно пропала собака! #алексейщербаков #ще...  (папусов^ х   \n",
       "5997    997                               Для ваших огонёчков🔥    v к видео   \n",
       "5998    998  #зиминарулит 😂😂😂 #актрисатеатраикино  #виктори...          о 6   \n",
       "5999    999  Девочки, ну мы?!  @katiashmatia правильно пост...          NaN   \n",
       "\n",
       "                                            speech2text  class  \n",
       "5995  Ночь, ожидания, холод, боль, словно я раскол, ...      6  \n",
       "5996  Всегда очень обидно читать подобные родные объ...      6  \n",
       "5997  на телефонах огонёчки вдруг зажигает полный за...      6  \n",
       "5998  Что вы умеете делать? Всё. Стрелять, варить ха...      6  \n",
       "5999  милая он не отвечает мне на сообщения уже четы...      6  "
      ]
     },
     "execution_count": 150,
     "metadata": {},
     "output_type": "execute_result"
    }
   ],
   "source": [
    "df_gen.tail()"
   ]
  },
  {
   "cell_type": "markdown",
   "metadata": {
    "id": "jRQwA9L4u-21"
   },
   "source": [
    "- очистка от символов, ссылок, смайликов\n",
    "- удаление повторов\n",
    "- преобразование OneHotEncoding?"
   ]
  },
  {
   "cell_type": "code",
   "execution_count": 112,
   "metadata": {
    "colab": {
     "base_uri": "https://localhost:8080/"
    },
    "executionInfo": {
     "elapsed": 4,
     "status": "ok",
     "timestamp": 1745934993372,
     "user": {
      "displayName": "A Martynov",
      "userId": "06661356698018382046"
     },
     "user_tz": -180
    },
    "id": "JTrxhjX-09a-",
    "outputId": "9895bfe4-367a-4796-fd4c-715ccccdaf7a"
   },
   "outputs": [
    {
     "name": "stdout",
     "output_type": "stream",
     "text": [
      "<class 'pandas.core.frame.DataFrame'>\n",
      "RangeIndex: 6000 entries, 0 to 5999\n",
      "Data columns (total 5 columns):\n",
      " #   Column       Non-Null Count  Dtype \n",
      "---  ------       --------------  ----- \n",
      " 0   index        6000 non-null   int64 \n",
      " 1   doc_text     6000 non-null   object\n",
      " 2   image2text   3420 non-null   object\n",
      " 3   speech2text  1871 non-null   object\n",
      " 4   class        6000 non-null   int64 \n",
      "dtypes: int64(2), object(3)\n",
      "memory usage: 234.5+ KB\n"
     ]
    }
   ],
   "source": [
    "df_gen.info()"
   ]
  },
  {
   "cell_type": "markdown",
   "metadata": {
    "id": "rhHZDXDlEiL2"
   },
   "source": [
    "Функция для преобразования эмоджи в их текстовые описания и очищает получившийся текст"
   ]
  },
  {
   "cell_type": "code",
   "execution_count": 179,
   "metadata": {
    "executionInfo": {
     "elapsed": 4,
     "status": "ok",
     "timestamp": 1745937298752,
     "user": {
      "displayName": "A Martynov",
      "userId": "06661356698018382046"
     },
     "user_tz": -180
    },
    "id": "CFSOzwJ2DopU"
   },
   "outputs": [],
   "source": [
    "def extract_emojis(text):\n",
    "    \"\"\"Извлекает эмодзи из текста и возвращает их текстовые описания через запятую\"\"\"\n",
    "    if not isinstance(text, str):\n",
    "        return np.nan\n",
    "\n",
    "    # Находим все эмодзи в тексте\n",
    "    emoji_chars = [c for c in text if c in emoji.EMOJI_DATA]\n",
    "\n",
    "    if not emoji_chars:\n",
    "        return np.nan\n",
    "\n",
    "    # Преобразуем эмодзи в текстовые описания (без : и _)\n",
    "    emoji_descriptions = [\n",
    "        emoji.demojize(e, delimiters=(\" \", \" \"))\n",
    "        .replace(\":\", \"\").replace(\"_\", \" \")\n",
    "        .strip()\n",
    "        for e in emoji_chars\n",
    "    ]\n",
    "\n",
    "    # Объединяем через запятую\n",
    "    return \", \".join(emoji_descriptions)"
   ]
  },
  {
   "cell_type": "code",
   "execution_count": 180,
   "metadata": {
    "executionInfo": {
     "elapsed": 7,
     "status": "ok",
     "timestamp": 1745937299515,
     "user": {
      "displayName": "A Martynov",
      "userId": "06661356698018382046"
     },
     "user_tz": -180
    },
    "id": "p0ChZl_G7NM4"
   },
   "outputs": [],
   "source": [
    "def remove_emojis(text):\n",
    "    \"\"\"Удаляет все эмодзи из текста\"\"\"\n",
    "    if not isinstance(text, str):\n",
    "        return np.nan\n",
    "    return emoji.replace_emoji(text, replace=\"\")"
   ]
  },
  {
   "cell_type": "markdown",
   "metadata": {
    "id": "gGWI9Eq-DS7W"
   },
   "source": [
    "Функция для предварительной очистки и нормализации текста"
   ]
  },
  {
   "cell_type": "code",
   "execution_count": 181,
   "metadata": {
    "executionInfo": {
     "elapsed": 9,
     "status": "ok",
     "timestamp": 1745937300563,
     "user": {
      "displayName": "A Martynov",
      "userId": "06661356698018382046"
     },
     "user_tz": -180
    },
    "id": "Pff4fAMrBJ92"
   },
   "outputs": [],
   "source": [
    "def base_clean_text(text: str):\n",
    "    if not isinstance(text, str):\n",
    "        return np.nan\n",
    "\n",
    "    text = text.lower()\n",
    "\n",
    "    # Удаляем URL, хэштеги, упоминания ДО split()\n",
    "    text = re.sub(r'(https?://\\S+)|(#\\w+)|(@\\w+)', '', text)\n",
    "\n",
    "    # Удаляем скобки/кавычки, мешающие обработке\n",
    "    text = re.sub(r'[()\\[\\]{}\"\\']', '', text)\n",
    "\n",
    "    # Оставляем только буквы и пробелы\n",
    "    text = re.sub(r'[^\\sа-яёa-z]', '', text)\n",
    "\n",
    "    # Убираем повторы букв (например, \"привееет\" -> \"привет\")\n",
    "    text = re.sub(r'(.)\\1{2,}', r'\\1', text)\n",
    "\n",
    "    stop_words = set(stopwords.words('russian'))\n",
    "    temp = inflect.engine()\n",
    "    words = []\n",
    "\n",
    "    for word in text.split():\n",
    "        if word.isdigit():\n",
    "            words.append(temp.number_to_words(word))\n",
    "        elif word and word not in stop_words:  # игнорируем пустые строки и стоп-слова\n",
    "            words.append(word)\n",
    "\n",
    "    return ' '.join(words) if words else np.nan"
   ]
  },
  {
   "cell_type": "markdown",
   "metadata": {
    "id": "RzFaseF3DziV"
   },
   "source": [
    "Функция для приведения слов к их корневой форме"
   ]
  },
  {
   "cell_type": "code",
   "execution_count": 182,
   "metadata": {
    "executionInfo": {
     "elapsed": 6,
     "status": "ok",
     "timestamp": 1745937301542,
     "user": {
      "displayName": "A Martynov",
      "userId": "06661356698018382046"
     },
     "user_tz": -180
    },
    "id": "nZQsieodDzy2"
   },
   "outputs": [],
   "source": [
    "def stem_russian_text(text):\n",
    "    stemmer = RussianStemmer()\n",
    "    words = text.split()\n",
    "    stemmed_words = []\n",
    "    for word in words:\n",
    "        if re.match('[а-яА-Я]', word):\n",
    "            stemmed_word = stemmer.stem(word)\n",
    "            stemmed_words.append(stemmed_word)\n",
    "        else:\n",
    "            stemmed_words.append(word)\n",
    "    return ' '.join(stemmed_words)"
   ]
  },
  {
   "cell_type": "markdown",
   "metadata": {
    "id": "-tAWydQHEAED"
   },
   "source": []
  },
  {
   "cell_type": "code",
   "execution_count": 183,
   "metadata": {
    "executionInfo": {
     "elapsed": 242,
     "status": "ok",
     "timestamp": 1745937302831,
     "user": {
      "displayName": "A Martynov",
      "userId": "06661356698018382046"
     },
     "user_tz": -180
    },
    "id": "7lpgJTTQ7Qzt"
   },
   "outputs": [],
   "source": [
    "df_gen['emojis_doc_text'] = df_gen['doc_text'].apply(extract_emojis)"
   ]
  },
  {
   "cell_type": "code",
   "execution_count": 163,
   "metadata": {
    "colab": {
     "base_uri": "https://localhost:8080/",
     "height": 459
    },
    "executionInfo": {
     "elapsed": 14,
     "status": "ok",
     "timestamp": 1745936708103,
     "user": {
      "displayName": "A Martynov",
      "userId": "06661356698018382046"
     },
     "user_tz": -180
    },
    "id": "qDZPtGRr7fjw",
    "outputId": "c87cd956-c08d-4fb4-b2b4-51e04b57d6b1"
   },
   "outputs": [
    {
     "data": {
      "text/html": [
       "<div>\n",
       "<style scoped>\n",
       "    .dataframe tbody tr th:only-of-type {\n",
       "        vertical-align: middle;\n",
       "    }\n",
       "\n",
       "    .dataframe tbody tr th {\n",
       "        vertical-align: top;\n",
       "    }\n",
       "\n",
       "    .dataframe thead th {\n",
       "        text-align: right;\n",
       "    }\n",
       "</style>\n",
       "<table border=\"1\" class=\"dataframe\">\n",
       "  <thead>\n",
       "    <tr style=\"text-align: right;\">\n",
       "      <th></th>\n",
       "      <th>emojis_doc_text</th>\n",
       "    </tr>\n",
       "  </thead>\n",
       "  <tbody>\n",
       "    <tr>\n",
       "      <th>0</th>\n",
       "      <td>no one under eighteen, smiling cat with heart-...</td>\n",
       "    </tr>\n",
       "    <tr>\n",
       "      <th>1</th>\n",
       "      <td>star, star, star</td>\n",
       "    </tr>\n",
       "    <tr>\n",
       "      <th>2</th>\n",
       "      <td>NaN</td>\n",
       "    </tr>\n",
       "    <tr>\n",
       "      <th>3</th>\n",
       "      <td>flexed biceps</td>\n",
       "    </tr>\n",
       "    <tr>\n",
       "      <th>4</th>\n",
       "      <td>NaN</td>\n",
       "    </tr>\n",
       "    <tr>\n",
       "      <th>...</th>\n",
       "      <td>...</td>\n",
       "    </tr>\n",
       "    <tr>\n",
       "      <th>5995</th>\n",
       "      <td>NaN</td>\n",
       "    </tr>\n",
       "    <tr>\n",
       "      <th>5996</th>\n",
       "      <td>NaN</td>\n",
       "    </tr>\n",
       "    <tr>\n",
       "      <th>5997</th>\n",
       "      <td>fire</td>\n",
       "    </tr>\n",
       "    <tr>\n",
       "      <th>5998</th>\n",
       "      <td>face with tears of joy, face with tears of joy...</td>\n",
       "    </tr>\n",
       "    <tr>\n",
       "      <th>5999</th>\n",
       "      <td>teddy bear</td>\n",
       "    </tr>\n",
       "  </tbody>\n",
       "</table>\n",
       "<p>6000 rows × 1 columns</p>\n",
       "</div><br><label><b>dtype:</b> object</label>"
      ],
      "text/plain": [
       "0       no one under eighteen, smiling cat with heart-...\n",
       "1                                        star, star, star\n",
       "2                                                     NaN\n",
       "3                                           flexed biceps\n",
       "4                                                     NaN\n",
       "                              ...                        \n",
       "5995                                                  NaN\n",
       "5996                                                  NaN\n",
       "5997                                                 fire\n",
       "5998    face with tears of joy, face with tears of joy...\n",
       "5999                                           teddy bear\n",
       "Name: emojis_doc_text, Length: 6000, dtype: object"
      ]
     },
     "execution_count": 163,
     "metadata": {},
     "output_type": "execute_result"
    }
   ],
   "source": [
    "df_gen['emojis_doc_text']"
   ]
  },
  {
   "cell_type": "code",
   "execution_count": 184,
   "metadata": {
    "executionInfo": {
     "elapsed": 2119,
     "status": "ok",
     "timestamp": 1745937311144,
     "user": {
      "displayName": "A Martynov",
      "userId": "06661356698018382046"
     },
     "user_tz": -180
    },
    "id": "Q0IbzO_U7jOy"
   },
   "outputs": [],
   "source": [
    "df_gen['doc_text'] = df_gen['doc_text'].apply(remove_emojis)"
   ]
  },
  {
   "cell_type": "code",
   "execution_count": 185,
   "metadata": {
    "colab": {
     "base_uri": "https://localhost:8080/",
     "height": 459
    },
    "executionInfo": {
     "elapsed": 11,
     "status": "ok",
     "timestamp": 1745937311157,
     "user": {
      "displayName": "A Martynov",
      "userId": "06661356698018382046"
     },
     "user_tz": -180
    },
    "id": "bdbWlV8d8As6",
    "outputId": "b5555edc-f241-4797-f78a-1759223b7745"
   },
   "outputs": [
    {
     "data": {
      "text/html": [
       "<div>\n",
       "<style scoped>\n",
       "    .dataframe tbody tr th:only-of-type {\n",
       "        vertical-align: middle;\n",
       "    }\n",
       "\n",
       "    .dataframe tbody tr th {\n",
       "        vertical-align: top;\n",
       "    }\n",
       "\n",
       "    .dataframe thead th {\n",
       "        text-align: right;\n",
       "    }\n",
       "</style>\n",
       "<table border=\"1\" class=\"dataframe\">\n",
       "  <thead>\n",
       "    <tr style=\"text-align: right;\">\n",
       "      <th></th>\n",
       "      <th>doc_text</th>\n",
       "    </tr>\n",
       "  </thead>\n",
       "  <tbody>\n",
       "    <tr>\n",
       "      <th>0</th>\n",
       "      <td>Твой лучший секс спрятан здесь   Делюсь канало...</td>\n",
       "    </tr>\n",
       "    <tr>\n",
       "      <th>1</th>\n",
       "      <td>Кнопка: START(https://t.me/major/start?start...</td>\n",
       "    </tr>\n",
       "    <tr>\n",
       "      <th>2</th>\n",
       "      <td>А продолжение где? Правильно. В моем сообществ...</td>\n",
       "    </tr>\n",
       "    <tr>\n",
       "      <th>3</th>\n",
       "      <td>Тем временем моя авторская телега уверенно в т...</td>\n",
       "    </tr>\n",
       "    <tr>\n",
       "      <th>4</th>\n",
       "      <td>У меня есть двоюродная сестра, у нее есть сын ...</td>\n",
       "    </tr>\n",
       "    <tr>\n",
       "      <th>...</th>\n",
       "      <td>...</td>\n",
       "    </tr>\n",
       "    <tr>\n",
       "      <th>5995</th>\n",
       "      <td>Отказали ноги, стандартная ситуация!  #щербако...</td>\n",
       "    </tr>\n",
       "    <tr>\n",
       "      <th>5996</th>\n",
       "      <td>Осторожно пропала собака! #алексейщербаков #ще...</td>\n",
       "    </tr>\n",
       "    <tr>\n",
       "      <th>5997</th>\n",
       "      <td>Для ваших огонёчков</td>\n",
       "    </tr>\n",
       "    <tr>\n",
       "      <th>5998</th>\n",
       "      <td>#зиминарулит  #актрисатеатраикино  #викторията...</td>\n",
       "    </tr>\n",
       "    <tr>\n",
       "      <th>5999</th>\n",
       "      <td>Девочки, ну мы?!  @katiashmatia правильно пост...</td>\n",
       "    </tr>\n",
       "  </tbody>\n",
       "</table>\n",
       "<p>6000 rows × 1 columns</p>\n",
       "</div><br><label><b>dtype:</b> object</label>"
      ],
      "text/plain": [
       "0       Твой лучший секс спрятан здесь   Делюсь канало...\n",
       "1         Кнопка: START(https://t.me/major/start?start...\n",
       "2       А продолжение где? Правильно. В моем сообществ...\n",
       "3       Тем временем моя авторская телега уверенно в т...\n",
       "4       У меня есть двоюродная сестра, у нее есть сын ...\n",
       "                              ...                        \n",
       "5995    Отказали ноги, стандартная ситуация!  #щербако...\n",
       "5996    Осторожно пропала собака! #алексейщербаков #ще...\n",
       "5997                                  Для ваших огонёчков\n",
       "5998    #зиминарулит  #актрисатеатраикино  #викторията...\n",
       "5999    Девочки, ну мы?!  @katiashmatia правильно пост...\n",
       "Name: doc_text, Length: 6000, dtype: object"
      ]
     },
     "execution_count": 185,
     "metadata": {},
     "output_type": "execute_result"
    }
   ],
   "source": [
    "df_gen['doc_text']"
   ]
  },
  {
   "cell_type": "code",
   "execution_count": 191,
   "metadata": {
    "colab": {
     "base_uri": "https://localhost:8080/",
     "height": 35
    },
    "executionInfo": {
     "elapsed": 44,
     "status": "ok",
     "timestamp": 1745937347745,
     "user": {
      "displayName": "A Martynov",
      "userId": "06661356698018382046"
     },
     "user_tz": -180
    },
    "id": "OFU1vtzC8I_S",
    "outputId": "b1050c54-9617-4bfe-bfff-ce08211e6c3d"
   },
   "outputs": [
    {
     "data": {
      "application/vnd.google.colaboratory.intrinsic+json": {
       "type": "string"
      },
      "text/plain": [
       "'кнопка start'"
      ]
     },
     "execution_count": 191,
     "metadata": {},
     "output_type": "execute_result"
    }
   ],
   "source": [
    "df_gen.iloc[1]['cleaned_doc_text']"
   ]
  },
  {
   "cell_type": "code",
   "execution_count": 186,
   "metadata": {
    "executionInfo": {
     "elapsed": 1953,
     "status": "ok",
     "timestamp": 1745937318078,
     "user": {
      "displayName": "A Martynov",
      "userId": "06661356698018382046"
     },
     "user_tz": -180
    },
    "id": "391AanjmfKux"
   },
   "outputs": [],
   "source": [
    "for col in ['doc_text', 'image2text', 'speech2text']:\n",
    "    df_gen[f'cleaned_{col}'] = [base_clean_text(x) if isinstance(x, str) else np.nan\n",
    "                                 for x in df_gen[col]]"
   ]
  },
  {
   "cell_type": "code",
   "execution_count": 189,
   "metadata": {
    "colab": {
     "base_uri": "https://localhost:8080/",
     "height": 789
    },
    "executionInfo": {
     "elapsed": 188,
     "status": "ok",
     "timestamp": 1745937325548,
     "user": {
      "displayName": "A Martynov",
      "userId": "06661356698018382046"
     },
     "user_tz": -180
    },
    "id": "S7VON5wYieHz",
    "outputId": "b9487989-fcd2-4611-a69f-bdb50ef4eb59"
   },
   "outputs": [
    {
     "data": {
      "application/vnd.google.colaboratory.intrinsic+json": {
       "summary": "{\n  \"name\": \"df_gen\",\n  \"rows\": 6000,\n  \"fields\": [\n    {\n      \"column\": \"index\",\n      \"properties\": {\n        \"dtype\": \"number\",\n        \"std\": 288,\n        \"min\": 0,\n        \"max\": 999,\n        \"num_unique_values\": 1000,\n        \"samples\": [\n          521,\n          737,\n          740\n        ],\n        \"semantic_type\": \"\",\n        \"description\": \"\"\n      }\n    },\n    {\n      \"column\": \"doc_text\",\n      \"properties\": {\n        \"dtype\": \"string\",\n        \"num_unique_values\": 5383,\n        \"samples\": [\n          \"logikamarkova https://t.me/logikamarkova/10249    \\u041d\\u0430\\u0434\\u0435\\u0436\\u0434\\u0438\\u043d \\u0441\\u043c\\u043e\\u0433 \\u043e\\u0431\\u043c\\u0430\\u043d\\u0443\\u0442\\u044c \\u0425\\u043e\\u0434\\u043e\\u0440\\u043a\\u043e\\u0432\\u0441\\u043a\\u043e\\u0433\\u043e \\u0438 \\u0431\\u0440\\u0438\\u0442\\u0430\\u043d\\u0441\\u043a\\u0443\\u044e \\u0440\\u0430\\u0437\\u0432\\u0435\\u0434\\u043a\\u0443? \\u041e\\u043f\\u044b\\u0442\\u043d\\u044b\\u0435 \\u043a\\u043e\\u043d\\u0441\\u043f\\u0438\\u0440\\u043e\\u043b\\u043e\\u0433\\u0438 \\u0441\\u0447\\u0438\\u0442\\u0430\\u044e\\u0442, \\u0447\\u0442\\u043e \\u041d\\u0430\\u0434\\u0435\\u0436\\u0434\\u0438\\u043d \\u043b\\u043e\\u0432\\u043a\\u043e \\u0443\\u0448\\u0451\\u043b \\u0438\\u0437 \\u043b\\u043e\\u0432\\u0443\\u0448\\u043a\\u0438. \\u041a\\u0430\\u043a\\u043e\\u0439 \\u043b\\u043e\\u0432\\u0443\\u0448\\u043a\\u0438?  \\u041b\\u044e\\u0434\\u0438 \\u0437\\u0430\\u043f\\u0430\\u0434\\u043d\\u044b\\u0445 \\u0441\\u043f\\u0435\\u0446\\u0441\\u043b\\u0443\\u0436\\u0431 \\u0441\\u043e\\u0431\\u0440\\u0430\\u043b\\u0438 \\u041d\\u0430\\u0434\\u0435\\u0436\\u0434\\u0438\\u043d\\u0443 \\u043f\\u043e\\u0434\\u043f\\u0438\\u0441\\u0438 \\u0438 \\u0445\\u043e\\u0442\\u0435\\u043b\\u0438 \\u0435\\u0433\\u043e \\u0440\\u0435\\u0433\\u0438\\u0441\\u0442\\u0440\\u0430\\u0446\\u0438\\u0438, - \\u0430 \\u043f\\u043e\\u0442\\u043e\\u043c \\u0433\\u0440\\u043e\\u0445\\u043d\\u0443\\u0442\\u044c \\u0435\\u0433\\u043e \\u043a\\u0430\\u043a \\\" \\u0441\\u0430\\u043a\\u0440\\u0430\\u043b\\u044c\\u043d\\u0443\\u044e \\u0436\\u0435\\u0440\\u0442\\u0432\\u0443\\\" \\u0438 \\u0442\\u0430\\u043a \\u043f\\u043e\\u0434\\u043e\\u0440\\u0432\\u0430\\u0442\\u044c \\u043b\\u0435\\u0433\\u0438\\u0442\\u0438\\u043c\\u043d\\u043e\\u0441\\u0442\\u044c \\u0432\\u044b\\u0431\\u043e\\u0440\\u043e\\u0432 \\u041f\\u0443\\u0442\\u0438\\u043d\\u0430.  \\u0410 \\u041d\\u0430\\u0434\\u0435\\u0436\\u0434\\u0438\\u043d \\u043e\\u0447\\u0435\\u043d\\u044c \\u0443\\u043c\\u043d\\u043e \\u0441\\u0434\\u0430\\u043b \\u0444\\u0430\\u043b\\u044c\\u0448\\u0438\\u0432\\u044b\\u0435 \\u043f\\u043e\\u0434\\u043f\\u0438\\u0441\\u0438, \\u0447\\u0442\\u043e\\u0431\\u044b \\u0435\\u0433\\u043e \\u043d\\u0435 \\u0437\\u0430\\u0440\\u0435\\u0433\\u0438\\u0441\\u0442\\u0440\\u0438\\u0440\\u043e\\u0432\\u0430\\u043b\\u0438. \\u0418 \\u0442\\u0430\\u043a \\u041d\\u0430\\u0434\\u0435\\u0436\\u0434\\u0438\\u043d \\u0432\\u0441\\u0435\\u043c \\u043f\\u043e\\u043a\\u0430\\u0437\\u0430\\u043b \\u0441\\u0435\\u0431\\u044f \\u043a\\u0430\\u043a \\u0441\\u0443\\u043f\\u0435\\u0440 \\u043f\\u043e\\u043b\\u0438\\u0442\\u0438\\u043a\\u0430 \\u0438 \\u0441\\u043f\\u0430\\u0441 \\u0441\\u0435\\u0431\\u044f \\u043e\\u0442 \\u0440\\u043e\\u043b\\u0438 \\\"\\u0441\\u0430\\u043a\\u0440\\u0430\\u043b\\u044c\\u043d\\u043e\\u0439 \\u0436\\u0435\\u0440\\u0442\\u0432\\u044b \\\". \\u0423\\u043c\\u0451\\u043d \\u041d\\u0430\\u0434\\u0435\\u0436\\u0434\\u0438\\u043d! \\u0421\\u043c\\u043e\\u0433 \\u043e\\u0431\\u043c\\u0430\\u043d\\u0443\\u0442\\u044c \\u0431\\u0440\\u0438\\u0442\\u0430\\u043d\\u0441\\u043a\\u0438\\u0435 \\u0441\\u043f\\u0435\\u0446\\u0441\\u043b\\u0443\\u0436\\u0431\\u044b!\",\n          \"\\u0412 \\u044d\\u0442\\u043e\\u0442 \\u0434\\u0435\\u043d\\u044c \\u043d\\u0435\\u043c\\u043d\\u043e\\u0433\\u043e \\u0433\\u0440\\u0443\\u0449\\u0443 \\u0438\\u0437-\\u0437\\u0430 \\u041e\\u043b\\u0438\\u043c\\u043f\\u0438\\u0430\\u0434\\u044b. \\u041f\\u043e\\u0432\\u0435\\u0440\\u044c\\u0442\\u0435, \\u044d\\u043d\\u0435\\u0440\\u0433\\u0435\\u0442\\u0438\\u0447\\u0435\\u0441\\u043a\\u0438 \\u043e\\u043d\\u0438 \\u043a\\u0440\\u0443\\u0447\\u0435 \\u0415\\u0432\\u0440\\u043e \\u0438 \\u0427\\u041c. \\u041d\\u0443, \\u0434\\u043b\\u044f \\u043c\\u0435\\u043d\\u044f.  \\u0412\\u0441\\u044f \\u044d\\u043d\\u0435\\u0440\\u0433\\u0438\\u044f \\u043a\\u043e\\u043d\\u0446\\u0435\\u043d\\u0442\\u0440\\u0438\\u0440\\u0443\\u0435\\u0442\\u0441\\u044f \\u0432 \\u043e\\u0434\\u043d\\u043e\\u043c \\u043c\\u0435\\u0441\\u0442\\u0435, \\u0430 \\u043d\\u0435 \\u0440\\u0430\\u0441\\u0441\\u0435\\u044f\\u043d\\u0430 \\u043f\\u043e \\u0433\\u043e\\u0440\\u043e\\u0434\\u0430\\u043c \\u0438 \\u0434\\u0430\\u0436\\u0435 \\u0441\\u0442\\u0440\\u0430\\u043d\\u0430\\u043c. \\u041c\\u0443\\u043b\\u044c\\u0442\\u0438\\u043a\\u0443\\u043b\\u044c\\u0442\\u0443\\u0440\\u043d\\u043e\\u0441\\u0442\\u044c, \\u0440\\u0430\\u0437\\u043d\\u044b\\u0435 \\u0441\\u0442\\u0440\\u0430\\u043d\\u044b, \\u043b\\u044e\\u0434\\u0438, \\u0431\\u043e\\u043b\\u0435\\u043b\\u044b, \\u0440\\u0430\\u0437\\u043d\\u044b\\u0435 \\u043a\\u043e\\u043d\\u0442\\u0438\\u043d\\u0435\\u043d\\u0442\\u044b. \\u041f\\u0440\\u043e \\u0443\\u0447\\u0430\\u0441\\u0442\\u043d\\u0438\\u043a\\u043e\\u0432-\\u043a\\u0430\\u043c\\u0438\\u043a\\u0430\\u0434\\u0437\\u0435, \\u0443 \\u043a\\u043e\\u0442\\u043e\\u0440\\u044b\\u0445 \\u0441\\u0430\\u043c\\u044b\\u0439 \\u0433\\u043b\\u0430\\u0432\\u043d\\u044b\\u0439 \\u0441\\u0442\\u0430\\u0440\\u0442 \\u0437\\u0430 4 \\u0433\\u043e\\u0434\\u0430, \\u0442\\u044b\\u0449\\u0443 \\u0440\\u0430\\u0437 \\u043f\\u0438\\u0441\\u0430\\u043b. \\u0412 \\u043c\\u043e\\u0451\\u043c \\u043b\\u044e\\u0431\\u0438\\u043c\\u043e\\u043c \\u0434\\u0437\\u044e\\u0434\\u043e \\u0433\\u043b\\u0430\\u0432\\u043d\\u043e\\u0435 \\u0441\\u043e\\u0431\\u044b\\u0442\\u0438\\u0435 \\u043a\\u0430\\u0440\\u044c\\u0435\\u0440\\u044b \\u043c\\u043e\\u0436\\u0435\\u0442 \\u043f\\u0440\\u043e\\u0434\\u043b\\u0438\\u0442\\u044c\\u0441\\u044f 10 \\u0441\\u0435\\u043a\\u0443\\u043d\\u0434. \\u0412\\u044b\\u0448\\u0435\\u043b, \\u043f\\u0440\\u043e\\u043c\\u043e\\u0440\\u0433\\u0430\\u043b - \\u0432\\u0441\\u0451, \\u0438\\u043f\\u043f\\u043e\\u043d. \\u0418 \\u043d\\u0430\\u043f\\u0440\\u044f\\u0436\\u0435\\u043d\\u0438\\u0435 \\u0443 \\u043b\\u044e\\u0434\\u0435\\u0439 \\u0431\\u0435\\u0448\\u0435\\u043d\\u043e\\u0435: \\u0432\\u043e \\u043c\\u043d\\u043e\\u0433\\u0438\\u0445 \\u0432\\u0438\\u0434\\u0430\\u0445 \\u0433\\u0435\\u0440\\u043e\\u0435\\u043c \\u0441\\u0442\\u0440\\u0430\\u043d\\u044b \\u0438 \\u043c\\u0438\\u0440\\u043e\\u0432\\u043e\\u0439 \\u0437\\u0432\\u0435\\u0437\\u0434\\u043e\\u0439 \\u043c\\u043e\\u0436\\u0435\\u0448\\u044c \\u0441\\u0442\\u0430\\u0442\\u044c \\u0442\\u043e\\u043b\\u044c\\u043a\\u043e \\u0437\\u0434\\u0435\\u0441\\u044c.  \\u0423 \\u043c\\u0435\\u043d\\u044f \\u0431\\u044b\\u043b\\u0438 \\u0434\\u0432\\u0435 \\u041e\\u043b\\u0438\\u043c\\u043f\\u0438\\u0430\\u0434\\u044b \\u0441 \\u043c\\u0435\\u0441\\u0442\\u0430: \\u043b\\u043e\\u043d\\u0434\\u043e\\u043d\\u0441\\u043a\\u0430\\u044f \\u0438 \\u0441\\u043e\\u0447\\u0438\\u043d\\u0441\\u043a\\u0430\\u044f. \\u0412 12-\\u043c \\u043a\\u043e\\u043c\\u043c\\u0435\\u043d\\u0442\\u0438\\u043b \\u0434\\u0437\\u044e\\u0434\\u043e, \\u0431\\u043e\\u0440\\u044c\\u0431\\u0443, \\u0442\\u0445\\u044d\\u043a\\u0432\\u043e\\u043d\\u0434\\u043e, \\u0432 14-\\u043c - \\u043f\\u0440\\u044b\\u0436\\u043a\\u0438 \\u043d\\u0430 \\u043b\\u044b\\u0436\\u0430\\u0445 \\u0441 \\u0442\\u0440\\u0430\\u043c\\u043f\\u043b\\u0438\\u043d\\u0430. \\u0412 \\u041b\\u043e\\u043d\\u0434\\u043e\\u043d\\u0435 \\u0432\\u043e\\u043e\\u0431\\u0449\\u0435 \\u043f\\u043e\\u0432\\u0435\\u0437\\u043b\\u043e \\u043a\\u043e\\u043c\\u043c\\u0435\\u043d\\u0442\\u0438\\u0440\\u043e\\u0432\\u0430\\u0442\\u044c \\u0441\\u0445\\u0432\\u0430\\u0442\\u043a\\u0438 \\u043f\\u0440\\u0438\\u044f\\u0442\\u0435\\u043b\\u0435\\u0439, \\u0441 \\u043a\\u043e\\u0442\\u043e\\u0440\\u044b\\u043c\\u0438 \\u0442\\u0430\\u0442\\u0430\\u043c\\u0438 \\u0434\\u0435\\u043b\\u0438\\u043b. \\u0422\\u0435 \\u043a\\u0440\\u0430\\u0441\\u043a\\u0438 - \\u043e\\u0434\\u043d\\u0438 \\u0438\\u0437 \\u0433\\u043b\\u0430\\u0432\\u043d\\u044b\\u0445 \\u0432 \\u043a\\u0430\\u0440\\u044c\\u0435\\u0440\\u0435, \\u043f\\u0440\\u043e\\u043f\\u0443\\u0441\\u043a \\u043e\\u0441\\u0442\\u0430\\u043b\\u044c\\u043d\\u044b\\u0445 \\u043f\\u043e\\u0435\\u0437\\u0434\\u043e\\u043a - \\u0431\\u043e\\u043b\\u044c.   \\u041f\\u043e\\u044d\\u0442\\u043e\\u043c\\u0443 \\u044f \\u0434\\u0430\\u0436\\u0435 \\u043d\\u0435 \\u043f\\u0440\\u0435\\u0434\\u0441\\u0442\\u0430\\u0432\\u043b\\u044f\\u044e, \\u043a\\u0430\\u043a\\u043e\\u0435 \\u044d\\u0442\\u043e \\u043f\\u0440\\u043e\\u0444\\u0435\\u0441\\u0441\\u0438\\u043e\\u043d\\u0430\\u043b\\u044c\\u043d\\u043e\\u0435 \\u0433\\u043e\\u0440\\u0435 \\u0434\\u043b\\u044f \\u043d\\u0430\\u0448\\u0438\\u0445 \\u0441\\u043f\\u043e\\u0440\\u0442\\u0441\\u043c\\u0435\\u043d\\u043e\\u0432 - \\u043f\\u043e\\u0442\\u0435\\u0440\\u044f\\u0442\\u044c \\u041e\\u043b\\u0438\\u043c\\u043f\\u0438\\u0430\\u0434\\u044b. \\u0418\\u043d\\u0430\\u043b \\u0422\\u0430\\u0441\\u043e\\u0435\\u0432, \\u043d\\u0430\\u043f\\u0440\\u0438\\u043c\\u0435\\u0440, \\u043b\\u0438\\u0448\\u0438\\u043b\\u0441\\u044f \\u0448\\u0430\\u043d\\u0441\\u0430 \\u0443\\u0431\\u0440\\u0430\\u0442\\u044c \\u043b\\u0435\\u0433\\u0435\\u043d\\u0434\\u0430\\u0440\\u043d\\u043e\\u0433\\u043e \\u0422\\u0435\\u0434\\u0434\\u0438 \\u0420\\u0438\\u043d\\u0435\\u0440\\u0430 \\u0443 \\u043d\\u0435\\u0433\\u043e \\u043d\\u0430 \\u0440\\u043e\\u0434\\u0438\\u043d\\u0435, \\u0432 \\u041f\\u0430\\u0440\\u0438\\u0436\\u0435! \\u0410 \\u0432\\u0435\\u0434\\u044c \\u043c\\u043e\\u0433 \\u0431\\u044b.  \\u041e\\u0447\\u0435\\u043d\\u044c \\u0436\\u0430\\u043b\\u044c \\u0441\\u043f\\u043e\\u0440\\u0442\\u0441\\u043c\\u0435\\u043d\\u043e\\u0432. \\u0416\\u0430\\u043b\\u044c \\u0432\\u043e\\u0442 \\u0442\\u0430\\u043a\\u0438\\u0435 \\u041e\\u043b\\u0438\\u043c\\u043f\\u0438\\u0439\\u0441\\u043a\\u0438\\u0435 \\u0418\\u0433\\u0440\\u044b. \\u0410 \\u0442\\u0435\\u043c, \\u043a\\u0442\\u043e \\u0434\\u043e\\u0431\\u0440\\u0430\\u043b\\u0441\\u044f \\u0434\\u043e \\u041f\\u0430\\u0440\\u0438\\u0436\\u0430 - \\u0443\\u0434\\u0430\\u0447\\u0438. \\u042d\\u0442\\u043e \\u043f\\u0430\\u043c\\u044f\\u0442\\u044c \\u043d\\u0430 \\u0432\\u0441\\u044e \\u0436\\u0438\\u0437\\u043d\\u044c.  @shhhnyakin\",\n          \"\\u041d\\u0443 \\u0445\\u043e\\u0442\\u044c \\u043d\\u0430 \\u043c\\u0430\\u0442\\u0447\\u0438 \\u00ab\\u0422\\u0440\\u044d\\u0448\\u0435\\u0440\\u0437\\u00bb \\u043f\\u043e\\u0445\\u043e\\u0434\\u0438\\u0442, \\u0437\\u0430 \\u041a\\u043e\\u0432\\u0430\\u043b\\u044c\\u0447\\u0443\\u043a\\u0430 \\u043f\\u043e\\u0431\\u043e\\u043b\\u0435\\u0435\\u0442   \\u041f \\u041c\\u0430\\u0442\\u0447 \\u0422\\u0412  \\u041f\\u043e\\u0445\\u043e\\u0436\\u0435, \\u041c\\u0438\\u0440\\u0430\\u043d\\u0447\\u0443\\u043a \\u0440\\u0435\\u0430\\u043b\\u044c\\u043d\\u043e \\u0431\\u0443\\u0434\\u0435\\u0442 \\u0438\\u0433\\u0440\\u0430\\u0442\\u044c \\u0432\\u00a0\\u0421\\u0428\\u0410. \\u0422\\u0440\\u0430\\u043d\\u0441\\u0444\\u0435\\u0440 \\u0432\\u00a0\\u043c\\u0435\\u0441\\u0442\\u043d\\u0443\\u044e \\u00ab\\u0410\\u0442\\u043b\\u0430\\u043d\\u0442\\u0443\\u00bb \\u043e\\u0447\\u0435\\u043d\\u044c \\u0431\\u043b\\u0438\\u0437\\u043a\\u043e  \\u0422\\u043e\\u043f\\u043e\\u0432\\u044b\\u0439 \\u0438\\u043d\\u0441\\u0430\\u0439\\u0434\\u0435\\u0440 \\u0414\\u0438\\u00a0\\u041c\\u0430\\u0440\\u0446\\u0438\\u043e \\u043f\\u0438\\u0448\\u0435\\u0442: \\u0441\\u0434\\u0435\\u043b\\u043a\\u0443 \\u0437\\u0430\\u043a\\u0440\\u043e\\u044e\\u0442 \\u0432\\u00a0\\u0431\\u043b\\u0438\\u0436\\u0430\\u0439\\u0448\\u0438\\u0435 \\u0434\\u0432\\u0430\\u00a0\\u0434\\u043d\\u044f. \\u041b\\u0435\\u0448\\u0430 \\u0434\\u0430\\u043b \\u0434\\u043e\\u0431\\u0440\\u043e. \\u0414\\u0430\\u0436\\u0435 \\u043c\\u043e\\u0436\\u0435\\u0442 \\u0434\\u0435\\u0431\\u044e\\u0442\\u0438\\u0440\\u043e\\u0432\\u0430\\u0442\\u044c \\u0443\\u0436\\u0435 \\u0432\\u00a0\\u044d\\u0442\\u0438 \\u0432\\u044b\\u0445\\u043e\\u0434\\u043d\\u044b\\u0435.  \\u041a\\u043e\\u0433\\u0434\\u0430 \\u0442\\u0430\\u043c \\u0438\\u0433\\u0440\\u0430 \\u043f\\u0440\\u043e\\u0442\\u0438\\u0432 \\u00ab\\u0418\\u043d\\u0442\\u0435\\u0440 \\u041c\\u0430\\u0439\\u0430\\u043c\\u0438\\u00bb? \\u041c\\u0435\\u0441\\u0441\\u0438 \\u0443\\u0441\\u043f\\u0435\\u0435\\u0442 \\u043f\\u043e\\u043f\\u0440\\u0430\\u0432\\u0438\\u0442\\u044c\\u0441\\u044f?   @Match_TV   Alex Pantling\\u00a0\\u2013 UEFA/UEFA/Getty Images  http://t.me/Match_TV/94310\"\n        ],\n        \"semantic_type\": \"\",\n        \"description\": \"\"\n      }\n    },\n    {\n      \"column\": \"image2text\",\n      \"properties\": {\n        \"dtype\": \"category\",\n        \"num_unique_values\": 2869,\n        \"samples\": [\n          \"\\u0430\\u0441\\u0441\\u043e\\u043b\\u044c \\u043a\\u043b\\u0435\\u0432\\u0435\\u0440\\u0438\\u043d \\u043c\\u0443\\u0436\\u0435\\u0441\\u0442\\u044c, \\u0430 \\u0441\\u0435\\u043a\\u0441\\u0430 \\u043d\\u0435\\u0442! \\u043f\\u043e\\u0447\\u0435\\u043c\\u0443 \\u0438\\u0441\\u0447\\u0435\\u0437\\u0430\\u0435\\u0442 \\u0441\\u0435\\u043a\\u0441 \\u0432 \\u043f\\u0430\\u0440\\u0435\",\n          \"pov: \\u043a\\u043e\\u0433\\u0434\\u0430 \\u043d\\u0430\\u0448\\u043b\\u0438 \\u0430\\u043a\\u043a\\u0430\\u0443\\u043d\\u0442\\u044b \\u0431\\u044b\\u0432\\u0448\\u0438\\u0445 \\u0438 \\u043b\\u0430\\u0439\\u043a\\u0430\\u0435\\u0442\\u0435 \\u0432\\u0441\\u0435 \\u043d\\u0435\\u0433\\u0430\\u0442\\u0438\\u0432\\u043d\\u044b\\u0435 \\u043a\\u043e\\u043c\\u0435\\u043d\\u0442\\u044b \\u043f\\u043e\\u0434 \\u0438\\u0445 \\u043f\\u043e\\u0441\\u0442\\u0430\\u043c\\u0438\",\n          \"\\u043f\\u043e\\u0434\\u0440\\u0443\\u0436\\u043a\\u0438 \\u0430\\u0441\\u044f \\u0440\\u0435\\u0437\\u043d\\u0438\\u043a \\u043a\\u0430\\u0442\\u044f \\u0432\\u044f\\u043b\\u0438\\u043a\\u043e\\u0432\\u0430 \\u043a\\u0430\\u0440\\u0438\\u043d\\u0430 \\u043c\\u0443\\u0440\\u0430\\u0448\\u043a\\u0438\\u043d\\u0430 \\u043b\\u0438\\u0437\\u0430 \\u044e\\u0449\\u0443\\u043a \\u0443\\u043b\\u044c\\u044f\\u043d\\u0430 \\u043f\\u044b\\u043b\\u0430\\u043d\\u0430 \\u043e \\u043e : 2 \\u043e\"\n        ],\n        \"semantic_type\": \"\",\n        \"description\": \"\"\n      }\n    },\n    {\n      \"column\": \"speech2text\",\n      \"properties\": {\n        \"dtype\": \"category\",\n        \"num_unique_values\": 1685,\n        \"samples\": [\n          \"\\u0421\\u043e\\u0431\\u0430\\u043a\\u0430 \\u0433\\u0430\\u0432\\u043a\\u0430\\u0435\\u0442! \\u0425\\u0430-\\u0445\\u0430-\\u0445\\u0430-\\u0445\\u0430-\\u0445\\u0430! \\u0421\\u043e\\u0431\\u0430\\u043a\\u0430 \\u0433\\u0430\\u0432\\u043a\\u0430\\u0435\\u0442 \\u043e\\u0432\\u0447\\u0430\\u0440\\u043a\\u0430!\",\n          \"\\u041c\\u0435\\u043d\\u044f \\u0437\\u043e\\u0432\\u0443\\u0442 \\u0421\\u0442\\u0430\\u0441, \\u044f \\u0436\\u0435\\u043d\\u0430\\u0442. \\u0418 \\u0432\\u044b \\u0437\\u043d\\u0430\\u0435\\u0442\\u0435, \\u044f \\u043d\\u0435 \\u0441\\u043e\\u0433\\u043b\\u0430\\u0441\\u0435\\u043d \\u0441 \\u0442\\u0435\\u043c\\u0438 \\u043b\\u044e\\u0434\\u043c\\u0438, \\u043a\\u043e\\u0442\\u043e\\u0440\\u044b\\u0435 \\u0441\\u0447\\u0438\\u0442\\u0430\\u044e\\u0442, \\u0447\\u0442\\u043e \\u0436\\u0438\\u0437\\u043d\\u044c \\u0432 \\u0431\\u0440\\u0430\\u043a\\u0435 \\u043e\\u0447\\u0435\\u043d\\u044c \\u0441\\u043a\\u0443\\u0447\\u043d\\u0430. \\u042d\\u0442\\u043e \\u0447\\u0443\\u0448. \\u042d\\u0442\\u043e \\u0432\\u0435\\u043b\\u0438\\u043a\\u043e\\u043b\\u0435\\u043f\\u043d\\u044b\\u0439, \\u0443\\u0434\\u0438\\u0432\\u0438\\u0442\\u0435\\u043b\\u044c\\u043d\\u044b\\u0439, \\u043f\\u043e\\u0442\\u0440\\u044f\\u0441\\u0430\\u044e\\u0449\\u0438\\u0439 \\u043a\\u0432\\u0435\\u0441\\u0442. \\u041a\\u0430\\u043a \\u0432 \\u0444\\u0438\\u043b\\u044c\\u043c\\u0435 \\u00ab\\u041f\\u0438\\u043b\\u0430\\u00bb. \\u0422\\u044b \\u043f\\u0440\\u043e\\u0441\\u044b\\u043f\\u0430\\u0435\\u0448\\u044c\\u0441\\u044f \\u0438 \\u043d\\u0435 \\u043c\\u043e\\u0436\\u0435\\u0448\\u044c \\u043f\\u043e\\u0448\\u0435\\u0432\\u0435\\u043b\\u0438\\u0442\\u044c\\u0441\\u044f, \\u043f\\u043e\\u0442\\u043e\\u043c\\u0443 \\u0447\\u0442\\u043e \\u0442\\u0440\\u0435\\u0449\\u0438\\u0442 \\u0433\\u043e\\u043b\\u043e\\u0432\\u0430, \\u043d\\u0430 \\u043f\\u0430\\u043b\\u044c\\u0446\\u0430\\u0445 \\u043a\\u043e\\u043b\\u044c\\u0446\\u043e, \\u0430 \\u0440\\u044f\\u0434\\u043e\\u043c \\u0436\\u0435\\u043d\\u0449\\u0438\\u043d\\u0430 \\u0432 \\u0431\\u0435\\u043b\\u043e\\u043c, \\u0441\\u0435\\u0432\\u0448\\u0438\\u043c \\u0433\\u043e\\u043b\\u043e\\u0441\\u043e\\u043c, \\u0442\\u0435\\u0431\\u0435 \\u0433\\u043e\\u0432\\u043e\\u0440\\u0438\\u0442 \\u00ab\\u041d\\u0443 \\u0447\\u0442\\u043e? \\u0422\\u0435\\u043f\\u0435\\u0440\\u044c \\u0443 \\u043c\\u043e\\u0435\\u0433\\u043e \\u043c\\u0443\\u0436\\u0430 \\u0438 \\u0436\\u0435\\u043d\\u0430 \\u0438\\u0433\\u0440\\u0430 \\u043d\\u0430\\u0447\\u0430\\u043b\\u0430\\u0441\\u044c\\u00bb. \\u041f\\u0440\\u0438\\u0432\\u0435\\u0442! \\u041f\\u0440\\u0438\\u0432\\u0435\\u0442! \\u0412\\u044b \\u0442\\u0430\\u043a\\u0438\\u0435 \\u0441\\u043c\\u043e\\u0442\\u0440\\u0438\\u0442\\u0435, \\u043d\\u0430\\u0432\\u0435\\u0440\\u043d\\u043e\\u0435, \\u0442\\u0430\\u043a. \\u041d\\u0430\\u0448 \\u0421\\u0442\\u0430\\u0441 \\u043e\\u0442\\u043f\\u0443\\u0441\\u0442\\u0438\\u043b \\u0434\\u043b\\u0438\\u043d\\u043d\\u044b\\u0435 \\u0432\\u043e\\u043b\\u043e\\u0441\\u044b, \\u0432\\u0438\\u0434\\u0438\\u043c\\u043e, \\u0447\\u0442\\u043e-\\u0442\\u043e \\u0441\\u043b\\u0443\\u0447\\u0438\\u043b\\u043e\\u0441\\u044c. \\u0418 \\u043e\\u043d \\u043d\\u0430\\u043c \\u0441\\u0435\\u0439\\u0447\\u0430\\u0441 \\u0440\\u0430\\u0441\\u0441\\u043a\\u0430\\u0436\\u0435\\u0442. \\u0414\\u0430, \\u0441\\u043e\\u0432\\u0435\\u0440\\u0448\\u0435\\u043d\\u043d\\u043e \\u0432\\u0435\\u0440\\u043d\\u043e. \\u0414\\u0435\\u043b\\u043e \\u0432 \\u0442\\u043e\\u043c, \\u0447\\u0442\\u043e \\u044f \\u0433\\u043e\\u0434 \\u043d\\u0430\\u0437\\u0430\\u0434 \\u0437\\u0430\\u043a\\u043e\\u043d\\u0447\\u0438\\u043b \\u0441\\u0432\\u043e\\u0438 \\u0442\\u044f\\u0436\\u0435\\u043b\\u0435\\u0439\\u0448\\u0438\\u0435, \\u0430\\u0431\\u044c\\u044e\\u0437\\u0438\\u0432\\u043d\\u044b\\u0435, \\u0441\\u043e\\u0432\\u0440\\u0435\\u043c\\u0435\\u043d\\u043d\\u044b\\u0435, \\u043d\\u0435\\u0432\\u043e\\u0437\\u043c\\u043e\\u0436\\u043d\\u044b\\u0435 \\u0432\\u044b\\u0441\\u043e\\u043a\\u043e\\u0434\\u0443\\u0445\\u043e\\u0432\\u043d\\u044b\\u0435 \\u043e\\u0442\\u043d\\u043e\\u0448\\u0435\\u043d\\u0438\\u044f. 7 \\u043b\\u0435\\u0442. \\u0412\\u044b\\u0448\\u0435\\u043b \\u0438\\u0437 \\u043d\\u0438\\u0445? \\u0412\\u044b\\u0448\\u0435\\u043b. \\u042d\\u0442\\u043e \\u0431\\u044b\\u043b\\u0438 \\u0443\\u0436\\u0430\\u0441\\u043d\\u044b\\u0435 \\u043e\\u0442\\u043d\\u043e\\u0448\\u0435\\u043d\\u0438\\u044f. \\u042d\\u0442\\u043e \\u043a\\u043e\\u0433\\u0434\\u0430 \\u043b\\u044e\\u0434\\u0438 \\u043d\\u0430\\u0441\\u0442\\u043e\\u043b\\u044c\\u043a\\u043e \\u043d\\u0435\\u043d\\u0430\\u0432\\u0438\\u0434\\u044f\\u0442 \\u0434\\u0440\\u0443\\u0433 \\u0434\\u0440\\u0443\\u0433\\u0430, \\u0447\\u0442\\u043e \\u043d\\u0430 \\u044d\\u0442\\u043e\\u043c \\u0434\\u0435\\u0440\\u0436\\u0438\\u0442\\u0441\\u044f \\u0438\\u0445 \\u0441\\u0435\\u043c\\u044c\\u044f. \\u041d\\u0435 \\u0440\\u0430\\u0441\\u0441\\u0442\\u0430\\u0442\\u044c\\u0441\\u044f \\u0432\\u043e\\u043e\\u0431\\u0449\\u0435. \\u041a\\u043e\\u0433\\u0434\\u0430 \\u0438\\u0437 \\u043e\\u0431\\u0449\\u0438\\u0445 \\u0438\\u043d\\u0442\\u0435\\u0440\\u0435\\u0441\\u043e\\u0432 \\u043a\\u0430\\u0436\\u0434\\u044b\\u0439 \\u0432\\u0435\\u0447\\u0435\\u0440 \\u043e\\u0440\\u0430\\u0442\\u044c \\u0434\\u0440\\u0443\\u0433 \\u0434\\u0440\\u0443\\u0433\\u0443, \\u043a\\u0442\\u043e \\u043a\\u043e\\u043c\\u0443 \\u0431\\u043e\\u043b\\u044c\\u0448\\u0435 \\u043d\\u0430\\u0441\\u0440\\u0430\\u043b, \\u043f\\u043e\\u043a\\u0430 \\u0432\\u0442\\u043e\\u0440\\u043e\\u0439 \\u043d\\u0435 \\u0443\\u043f\\u0430\\u0434\\u0435\\u0442. \\u041f\\u0435\\u0440\\u0435\\u0434 \\u0432\\u0430\\u043c\\u0438 \\u0441\\u0435\\u0440\\u0435\\u0431\\u0440\\u044f\\u043d\\u044b\\u0439 \\u043f\\u0440\\u0438\\u0437\\u0435\\u0440 \\u044d\\u0442\\u0438\\u0445 \\u0441\\u043e\\u0440\\u0435\\u0432\\u043d\\u043e\\u0432\\u0430\\u043d\\u0438\\u0439. \\u0421\\u043e\\u0431\\u0441\\u0442\\u0432\\u0435\\u043d\\u043d\\u043e \\u0433\\u043e\\u0432\\u043e\\u0440\\u044f. \\u042f \\u043e\\u0431\\u044a\\u044f\\u0441\\u043d\\u044e. \\u042f \\u043e\\u0431\\u044a\\u044f\\u0441\\u043d\\u044e. \\u042f \\u0431\\u0435\\u0437 \\u043e\\u0431\\u044a\\u044f\\u0441\\u043d\\u0435\\u043d\\u0438\\u0439 \\u044d\\u0442\\u043e \\u0442\\u0430\\u043a \\u0438 \\u043e\\u0441\\u0442\\u0430\\u0432\\u043b\\u044e. \\u0414\\u043e\\u0441\\u0442\\u0430\\u0442\\u043e\\u0447\\u043d\\u043e \\u043b\\u044b\\u0441\\u044b\\u0439 \\u0432\\u0435\\u0447\\u0435\\u0440 \\u0432\\u043e\\u043e\\u0431\\u0449\\u0435 \\u043f\\u043e\\u043b\\u0443\\u0447\\u0430\\u0435\\u0442\\u0441\\u044f, \\u0434\\u0430? \\u0421\\u0442\\u0440\\u0430\\u043d\\u043d\\u0430\\u044f \\u0438\\u0441\\u0442\\u043e\\u0440\\u0438\\u044f.\",\n          \"\\u0417\\u0434\\u0440\\u0430\\u0432\\u0441\\u0442\\u0432\\u0443\\u0439\\u0442\\u0435 \\u0434\\u043e\\u0440\\u043e\\u0433\\u0438\\u0435 \\u0434\\u0440\\u0443\\u0437\\u044c\\u044f. \\u0412\\u0438\\u0436\\u0443 \\u0431\\u043e\\u043b\\u044c\\u0448\\u043e\\u0435 \\u043a\\u043e\\u043b\\u0438\\u0447\\u0435\\u0441\\u0442\\u0432\\u043e \\u043e\\u0431\\u0440\\u0430\\u0449\\u0435\\u043d\\u0438\\u0439 \\u0438\\u0441\\u0445\\u043e\\u0434\\u044f \\u0438\\u0437 \\u0442\\u0435\\u043a\\u0443\\u0449\\u0435\\u0439 \\u043e\\u0431\\u0441\\u0442\\u0430\\u043d\\u043e\\u0432\\u043a\\u0438. \\u041f\\u0440\\u0438\\u043d\\u0438\\u043c\\u0430\\u0435\\u043c \\u0440\\u0435\\u0448\\u0435\\u043d\\u0438\\u0435, \\u0447\\u0442\\u043e \\u0442\\u043e\\u0440\\u0433\\u043e\\u0432\\u044b\\u0435 \\u0446\\u0435\\u043d\\u0442\\u0440\\u044b \\u0432 \\u0411\\u0435\\u043b\\u0433\\u043e\\u0440\\u043e\\u0434\\u043d\\u043e\\u043c \\u0433\\u043e\\u0440\\u043e\\u0434\\u0441\\u043a\\u043e\\u043c \\u0440\\u0430\\u0439\\u043e\\u043d\\u0435 \\u0432 \\u0432\\u043e\\u0441\\u043a\\u0440\\u0435\\u0441\\u0435\\u043d\\u044c\\u0435 \\u0438 \\u043f\\u043e\\u043d\\u0435\\u0434\\u0435\\u043b\\u044c\\u043d\\u0438\\u043a \\u0440\\u0430\\u0431\\u043e\\u0442\\u0430\\u0442\\u044c \\u043d\\u0435 \\u0431\\u0443\\u0434\\u0443\\u0442. \\u041f\\u043e \\u0440\\u0430\\u0431\\u043e\\u0442\\u0435 \\u0448\\u043a\\u043e\\u043b \\u0432 \\u043f\\u043e\\u043d\\u0435\\u0434\\u0435\\u043b\\u044c\\u043d\\u0438\\u043a, \\u0432\\u0442\\u043e\\u0440\\u043d\\u0438\\u043a, \\u0432\\u044b\\u0445\\u043e\\u0434\\u043d\\u043e\\u0439. \\u0421\\u0435\\u0439\\u0447\\u0430\\u0441 \\u043f\\u043e\\u0441\\u043c\\u043e\\u0442\\u0440\\u0438\\u043c \\u0441 \\u0442\\u043e\\u0447\\u043a\\u0438 \\u0437\\u0440\\u0435\\u043d\\u0438\\u044f \\u0437\\u0430\\u043a\\u043e\\u043d\\u043e\\u0434\\u0430\\u0442\\u0435\\u043b\\u044c\\u0441\\u0442\\u0432\\u0430, \\u043a\\u0430\\u043a\\u0438\\u043c \\u043e\\u0431\\u0440\\u0430\\u0437\\u043e\\u043c, \\u0442\\u043e\\u0447\\u043d\\u0443\\u044e \\u0444\\u043e\\u0440\\u043c\\u0443\\u043b\\u0438\\u0440\\u043e\\u0432\\u043a\\u0443. \\u041d\\u043e \\u044d\\u0442\\u043e, \\u044f \\u0434\\u0443\\u043c\\u0430\\u044e, \\u043d\\u0430\\u0448\\u0430 \\u0438\\u0441\\u0442\\u043e\\u0440\\u0438\\u044f. \\u0421\\u0430\\u043c\\u043e\\u0435 \\u0433\\u043b\\u0430\\u0432\\u043d\\u043e\\u0435, \\u0447\\u0442\\u043e \\u043f\\u043e\\u043d\\u0435\\u0434\\u0435\\u043b\\u044c\\u043d\\u0438\\u043a, \\u043f\\u043e\\u0432\\u0442\\u043e\\u0440\\u043d\\u0438\\u043a \\u0437\\u0430\\u043d\\u044f\\u0442\\u0438\\u0439 \\u0432 \\u0448\\u043a\\u043e\\u043b\\u0430\\u0445 \\u043d\\u0435 \\u0431\\u0443\\u0434\\u0435\\u0442. \\u0412 \\u0442\\u043e\\u043c \\u0447\\u0438\\u0441\\u043b\\u0435 \\u0438 \\u0434\\u0438\\u0441\\u0442\\u0430\\u043d\\u0446\\u0438\\u043e\\u043d\\u043d\\u044b\\u0445. \\u041f\\u043e \\u0440\\u0430\\u0431\\u043e\\u0442\\u0435 \\u0434\\u0435\\u0436\\u0443\\u0440\\u043d\\u044b\\u0445 \\u0433\\u0440\\u0443\\u043f\\u043f \\u0432 \\u0434\\u0435\\u0442\\u0441\\u043a\\u0438\\u0445 \\u0441\\u0430\\u0434\\u0430\\u0445. \\u042f \\u0432\\u043e\\u043f\\u0440\\u043e\\u0447\\u0435\\u043d\\u0438\\u0435 \\u0434\\u0430\\u043b \\u0437\\u0430\\u043c\\u0435\\u0441\\u0442\\u0438\\u0442\\u0435\\u043b\\u044c\\u0441\\u0442\\u0432\\u0443 \\u0433\\u0443\\u0431\\u0435\\u0440\\u043d\\u0430\\u0442\\u043e\\u0440\\u0443, \\u041c\\u0438\\u043d\\u0438\\u0441\\u0442\\u0440\\u0443 \\u043e\\u0431\\u0440\\u0430\\u0437\\u043e\\u0432\\u0430\\u043d\\u0438\\u044f, \\u043f\\u0440\\u0430\\u0432\\u0438\\u0442\\u0435\\u043b\\u044c\\u0441\\u0442\\u0432\\u0443 \\u0433\\u043e\\u0440\\u043e\\u0434\\u0441\\u043a\\u043e\\u0433\\u043e \\u0443\\u043b. \\u0410\\u043d\\u0434\\u0440\\u0435\\u044f \\u0412\\u0438\\u043a\\u0442\\u043e\\u0440\\u043e\\u0432\\u0438\\u0447\\u0430 \\u041c\\u0438\\u043b\\u0435\\u0445\\u0438\\u043d\\u0443. \\u0421\\u0435\\u0439\\u0447\\u0430\\u0441 \\u0431\\u0443\\u0434\\u0435\\u0442 \\u043f\\u0440\\u043e\\u0432\\u0435\\u0434\\u0435\\u043d\\u0430 \\u0440\\u0430\\u0431\\u043e\\u0442\\u0430. \\u041e\\u043f\\u0440\\u043e\\u0441\\u0438\\u043c \\u0432\\u0441\\u0435\\u0445 \\u0440\\u043e\\u0434\\u0438\\u0442\\u0435\\u043b\\u0435\\u0439, \\u043a\\u043e\\u0442\\u043e\\u0440\\u044b\\u0435 \\u043f\\u0440\\u0438\\u0432\\u043e\\u0434\\u044f\\u0442 \\u0434\\u0435\\u0442\\u0435\\u0439 \\u0432 \\u0434\\u0435\\u0436\\u0443\\u0440\\u043d\\u044b\\u0435 \\u0433\\u0440\\u0443\\u043f\\u043f\\u044b \\u0434\\u0435\\u0442\\u0441\\u043a\\u0438\\u0445 \\u0441\\u0430\\u0434\\u043e\\u0432. \\u0418 \\u043c\\u044b \\u043f\\u0440\\u0438 \\u043e\\u0433\\u0440\\u0430\\u043d\\u0438\\u0447\\u0435\\u043d\\u043d\\u044b\\u0445 \\u043c\\u0443\\u043d\\u0438\\u0446\\u0438\\u043f\\u0430\\u043b\\u0438\\u0442\\u0435\\u0442\\u0430\\u0445. \\u0415\\u0449\\u0435 \\u0440\\u0430\\u0437 \\u043e\\u0447\\u0435\\u043d\\u044c \\u0432\\u0430\\u0436\\u043d\\u043e, \\u043d\\u0435 \\u0434\\u043e\\u0431\\u0430\\u0432\\u0438\\u043b. \\u0418 \\u043f\\u043e \\u0448\\u043a\\u043e\\u043b\\u0430\\u043c \\u0442\\u043e\\u0436\\u0435 \\u0441\\u0430\\u043c\\u043e\\u0435. \\u0428\\u043a\\u043e\\u043b\\u044b \\u043f\\u0440\\u0438 \\u043e\\u0433\\u0440\\u0430\\u043d\\u0438\\u0447\\u0435\\u043d\\u043d\\u044b\\u0445 \\u043c\\u0443\\u043d\\u0438\\u0446\\u0438\\u043f\\u0430\\u043b\\u044c\\u043d\\u044b\\u0445 \\u043e\\u0431\\u0440\\u0430\\u0437\\u043e\\u0432\\u0430\\u043d\\u0438\\u044f, \\u043f\\u043b\\u044e\\u0441 \\u0411\\u0435\\u043b\\u0433\\u043e\\u0440\\u043e\\u0434, \\u043f\\u043b\\u044e\\u0441 \\u042f\\u043a\\u043e\\u0432\\u0441\\u043a\\u0438\\u0439 \\u0433\\u043e\\u0440\\u043e\\u0434\\u0441\\u043a\\u043e\\u0439 \\u0443\\u043b. \\u0422\\u0430\\u043a \\u0432\\u043e\\u0442, \\u0432\\u043e\\u0437\\u0432\\u0440\\u0430\\u0449\\u0430\\u044f\\u0441\\u044c \\u043a \\u0434\\u0435\\u0442\\u0441\\u043a\\u0438\\u043c \\u0441\\u0430\\u0434\\u0430\\u043c. \\u041c\\u044b \\u043e\\u0431\\u0437\\u0432\\u043e\\u043d\\u0438\\u043c \\u0432\\u0441\\u0435\\u0445 \\u0440\\u043e\\u0434\\u0438\\u0442\\u0435\\u043b\\u0435\\u0439, \\u043a\\u043e\\u0442\\u043e\\u0440\\u044b\\u0435 \\u0432\\u0432\\u043e\\u0434\\u044f\\u0442 \\u0434\\u0435\\u0442\\u0435\\u0439 \\u0432 \\u0434\\u0435\\u0436\\u0443\\u0440\\u043d\\u044b\\u0435 \\u0433\\u0440\\u0443\\u043f\\u043f\\u044b. \\u0418 \\u0435\\u0441\\u043b\\u0438 \\u0435\\u0441\\u0442\\u044c \\u0432\\u043e\\u0437\\u043c\\u043e\\u0436\\u043d\\u043e\\u0441\\u0442\\u044c, \\u043c\\u044b \\u043f\\u043e\\u043f\\u0440\\u043e\\u0441\\u0438\\u043c, \\u0447\\u0442\\u043e\\u0431\\u044b \\u0434\\u0435\\u0442\\u0438 \\u043d\\u0430 \\u043f\\u0430\\u0440\\u0443 \\u0434\\u043d\\u0435\\u0439 \\u043e\\u0441\\u0442\\u0430\\u043b\\u0438\\u0441\\u044c \\u0435\\u0449\\u0435 \\u0434\\u043e\\u043c\\u0430. \\u041f\\u043e\\u043d\\u0435\\u0434\\u0435\\u043b\\u044c\\u043d\\u0438\\u043a, \\u0432\\u0442\\u043e\\u0440\\u043d\\u0438\\u043a. \\u0415\\u0441\\u043b\\u0438 \\u0442\\u0430\\u043a\\u043e\\u0439 \\u0432\\u043e\\u0437\\u043c\\u043e\\u0436\\u043d\\u043e\\u0441\\u0442\\u0438 \\u043d\\u0435\\u0442, \\u0437\\u043d\\u0430\\u0447\\u0438\\u0442 \\u0431\\u0443\\u0434\\u0435\\u043c \\u043f\\u043e\\u043c\\u043e\\u0433\\u0430\\u0442\\u044c \\u0440\\u043e\\u0434\\u0438\\u0442\\u0435\\u043b\\u0435\\u043c, \\u0435\\u0441\\u043b\\u0438 \\u043e\\u043d\\u0438 \\u0440\\u0430\\u0431\\u043e\\u0442\\u0430\\u044e\\u0442 \\u043d\\u0430 \\u043a\\u0440\\u0438\\u0442\\u0438\\u0447\\u0435\\u0441\\u043a\\u0438\\u0445 \\u0441\\u043f\\u0435\\u0446\\u0438\\u0430\\u043b\\u044c\\u043d\\u043e\\u0441\\u0442\\u044f\\u0445. \\u041f\\u043e\\u043d\\u044f\\u0442\\u043d\\u043e, \\u0447\\u0442\\u043e \\u0438 \\u0432\\u043e\\u0441\\u043f\\u0438\\u0442\\u0430\\u0442\\u0435\\u043b\\u0438, \\u043d\\u044f\\u043d\\u0438\\u0447\\u043a\\u0438, \\u0442\\u0435\\u0445\\u043d\\u0438\\u0447\\u0435\\u0441\\u043a\\u0438\\u0439 \\u043f\\u0435\\u0440\\u0441\\u043e\\u043d\\u0430\\u043b \\u043f\\u0435\\u0440\\u0435\\u0436\\u0438\\u0432\\u0430\\u044e\\u0442. \\u041f\\u043e\\u044d\\u0442\\u043e\\u043c\\u0443 \\u0441\\u0438\\u0442\\u0443\\u0430\\u0446\\u0438\\u044f \\u0434\\u043e\\u0441\\u0442\\u0430\\u0442\\u043e\\u0447\\u043d\\u043e \\u0441\\u043b\\u043e\\u0436\\u043d\\u0430\\u044f \\u0441\\u0435\\u0439\\u0447\\u0430\\u0441 \\u0443 \\u043d\\u0430\\u0441. \\u0418 \\u0432 \\u0433\\u043e\\u0440\\u043e\\u0434\\u0435, \\u0432 \\u0431\\u0435\\u043b\\u0433\\u043e\\u0440\\u043e\\u0434\\u0441\\u043a\\u043e\\u043c \\u0440\\u0430\\u0439\\u043e\\u043d\\u0435, \\u043a\\u043e\\u043d\\u0435\\u0447\\u043d\\u043e, \\u0432\\u043e\\u043f\\u0440\\u043e\\u0441 \\u0431\\u0435\\u0437\\u043e\\u043f\\u0430\\u0441\\u043d\\u043e\\u0441\\u0442\\u0438 \\u0434\\u043b\\u044f \\u043d\\u0430\\u0441, \\u0434\\u043b\\u044f \\u0432\\u0441\\u0435\\u0445 \\u0441 \\u0432\\u0430\\u043c\\u0438 \\u0433\\u043b\\u0430\\u0432\\u043d\\u044b\\u0439. \\u0421\\u0435\\u0433\\u043e\\u0434\\u043d\\u044f \\u043e\\u0431\\u044f\\u0437\\u0430\\u0442\\u0435\\u043b\\u044c\\u043d\\u043e \\u043f\\u043e\\u0441\\u0442\\u0430\\u0440\\u0430\\u044e\\u0441\\u0442\\u044c \\u043f\\u043e \\u0438\\u0442\\u043e\\u0433\\u0430\\u043c \\u0434\\u043d\\u044f, \\u043f\\u043e \\u0442\\u0435\\u043a\\u0443\\u0449\\u0435\\u0439 \\u043e\\u0431\\u0441\\u0442\\u0430\\u043d\\u043e\\u0432\\u043a\\u0435, \\u0434\\u0430\\u0442\\u044c \\u043e\\u043f\\u0435\\u0440\\u0430\\u0442\\u0438\\u0432\\u043d\\u0443\\u044e \\u0438\\u043d\\u0444\\u043e\\u0440\\u043c\\u0430\\u0446\\u0438\\u044e. \\u042f \\u0441 \\u0443\\u0442\\u0440\\u0430 \\u0437\\u0430\\u043f\\u0438\\u0441\\u0430\\u043b \\u0443\\u0442\\u0440\\u0435\\u043d\\u043d\\u0438\\u0435 \\u0441\\u043e\\u043e\\u0431\\u0449\\u0435\\u043d\\u0438\\u044f, \\u043d\\u043e \\u0432\\u0440\\u0430\\u0433 \\u043e\\u043f\\u044f\\u0442\\u044c \\u043d\\u0430\\u043d\\u0435\\u0441 \\u043f\\u043e \\u043d\\u0430\\u043c \\u0443\\u0434\\u0430\\u0440, \\u0432\\u044b\\u0435\\u0445\\u0430\\u043b \\u043d\\u0430 \\u043c\\u0435\\u0441\\u0442\\u043e. \\u041f\\u0440\\u043e\\u0448\\u0443 \\u043f\\u0440\\u043e\\u0449\\u0435\\u043d\\u0438\\u044f, \\u0441\\u0435\\u0433\\u043e\\u0434\\u043d\\u044f \\u0432\\u044b\\u0445\\u043e\\u0434\\u0438\\u043b \\u0443\\u0436\\u0435 \\u0431\\u0435\\u0437 \\u0443\\u0442\\u0440\\u0435\\u043d\\u043d\\u0435\\u0433\\u043e \\u0432\\u0438\\u0434\\u0435\\u043e. \\u0412\\u0441\\u0435\\u043c \\u0434\\u043e\\u0431\\u0440\\u043e\\u0433\\u043e \\u0434\\u043d\\u044f, \\u0437\\u0434\\u043e\\u0440\\u043e\\u0432\\u044c\\u044f \\u0438 \\u0434\\u043e\\u0431\\u0440\\u0430. \\u0411\\u0435\\u0440\\u0435\\u0433\\u0438\\u0442\\u0435 \\u0441\\u0435\\u0431\\u044f.\"\n        ],\n        \"semantic_type\": \"\",\n        \"description\": \"\"\n      }\n    },\n    {\n      \"column\": \"class\",\n      \"properties\": {\n        \"dtype\": \"number\",\n        \"std\": 1,\n        \"min\": 1,\n        \"max\": 6,\n        \"num_unique_values\": 6,\n        \"samples\": [\n          1,\n          2,\n          6\n        ],\n        \"semantic_type\": \"\",\n        \"description\": \"\"\n      }\n    },\n    {\n      \"column\": \"emojis_doc_text\",\n      \"properties\": {\n        \"dtype\": \"category\",\n        \"num_unique_values\": 1615,\n        \"samples\": [\n          \"heart suit\",\n          \"see-no-evil monkey, face with tears of joy\",\n          \"sun, desert island, check mark button, check mark button, red heart, check mark button, check mark button, check mark button, check mark button, wrapped gift, crystal ball, check mark button, backhand index pointing down, light skin tone, OK hand, light skin tone, winking face, fallen leaf, fire\"\n        ],\n        \"semantic_type\": \"\",\n        \"description\": \"\"\n      }\n    },\n    {\n      \"column\": \"cleaned_doc_text\",\n      \"properties\": {\n        \"dtype\": \"string\",\n        \"num_unique_values\": 5210,\n        \"samples\": [\n          \"breakingmash \\u0441\\u043a \\u043f\\u0440\\u043e\\u0432\\u0435\\u0440\\u044f\\u0435\\u0442 \\u044d\\u043b\\u0438\\u0442\\u043d\\u0443\\u044e \\u043f\\u043e\\u0434\\u043c\\u043e\\u0441\\u043a\\u043e\\u0432\\u043d\\u0443\\u044e \\u043f\\u0430\\u0432\\u043b\\u043e\\u0432\\u0441\\u043a\\u0443\\u044e \\u0433\\u0438\\u043c\\u043d\\u0430\\u0437\\u0438\\u044e \\u043e\\u0431\\u0443\\u0447\\u0435\\u043d\\u0438\\u0435 \\u0441\\u0442\\u043e\\u0438\\u0442 \\u043c\\u043b\\u043d \\u0440\\u0443\\u0431\\u043b\\u0435\\u0439 \\u0433\\u043e\\u0434 \\u043e\\u0431\\u0432\\u0438\\u043d\\u0435\\u043d\\u0438\\u044f \\u0430\\u0434\\u043c\\u0438\\u043d\\u0438\\u0441\\u0442\\u0440\\u0430\\u0446\\u0438\\u0438 \\u0430\\u043d\\u0442\\u0438\\u0440\\u043e\\u0441\\u0441\\u0438\\u0439\\u0441\\u043a\\u043e\\u0439 \\u043f\\u043e\\u0437\\u0438\\u0446\\u0438\\u0438 \\u0438\\u0437\\u0434\\u0435\\u0432\\u0430\\u0442\\u0435\\u043b\\u044c\\u0441\\u0442\\u0432\\u0430\\u0445 \\u0434\\u0435\\u0442\\u044c\\u043c\\u0438 \\u0443\\u0447\\u0430\\u0441\\u0442\\u043d\\u0438\\u043a\\u043e\\u0432 \\u0441\\u0432\\u043e \\u0437\\u0430\\u044f\\u0432\\u043b\\u0435\\u043d\\u0438\\u0435 \\u0443\\u0447\\u0435\\u0431\\u043d\\u043e\\u0435 \\u0437\\u0430\\u0432\\u0435\\u0434\\u0435\\u043d\\u0438\\u0435 \\u043d\\u0430\\u043f\\u0438\\u0441\\u0430\\u043b \\u043f\\u0440\\u0430\\u0432\\u043e\\u0437\\u0430\\u0449\\u0438\\u0442\\u043d\\u0438\\u043a \\u043f\\u0430\\u0432\\u0435\\u043b \\u043f\\u044f\\u0442\\u043d\\u0438\\u0446\\u043a\\u0438\\u0439 \\u0447\\u044c\\u0438 \\u0441\\u044b\\u043d \\u0434\\u043e\\u0447\\u044c \\u0443\\u0447\\u0435\\u043d\\u0438\\u043a\\u0438 \\u0433\\u0438\\u043c\\u043d\\u0430\\u0437\\u0438\\u0438 \\u0443\\u0447\\u0430\\u0441\\u0442\\u043d\\u0438\\u043a \\u0441\\u0432\\u043e \\u043a\\u043e\\u0442\\u043e\\u0440\\u044b\\u0439 \\u043f\\u043e\\u0448\\u0451\\u043b \\u0442\\u0443\\u0434\\u0430 \\u0434\\u043e\\u0431\\u0440\\u043e\\u0432\\u043e\\u043b\\u044c\\u043d\\u043e \\u0433\\u043e\\u0432\\u043e\\u0440\\u0438\\u0442 \\u043d\\u0430\\u0447\\u0430\\u043b\\u043e\\u0441\\u044c \\u0432\\u0441\\u0451 \\u0438\\u043d\\u0438\\u0446\\u0438\\u0430\\u0442\\u0438\\u0432\\u044b \\u0441\\u0443\\u043f\\u0440\\u0443\\u0433\\u0438 \\u0441\\u043e\\u0431\\u0440\\u0430\\u0442\\u044c \\u043f\\u043e\\u043c\\u043e\\u0449\\u044c \\u0443\\u0447\\u0430\\u0441\\u0442\\u043d\\u0438\\u043a\\u0430\\u043c \\u0441\\u043f\\u0435\\u0446\\u043e\\u043f\\u0435\\u0440\\u0430\\u0446\\u0438\\u0438 \\u0438\\u0434\\u0435\\u0435\\u0439 \\u043f\\u043e\\u0448\\u043b\\u0430 \\u0434\\u0438\\u0440\\u0435\\u043a\\u0442\\u043e\\u0440\\u0443 \\u043e\\u0442\\u0432\\u0435\\u0442\\u0438\\u043b \\u0434\\u0435\\u043d\\u0435\\u0433 \\u0448\\u043a\\u043e\\u043b\\u0430 \\u0432\\u043d\\u0435 \\u043f\\u043e\\u043b\\u0438\\u0442\\u0438\\u043a\\u0438 \\u043f\\u0440\\u0435\\u043a\\u0440\\u0430\\u0449\\u0430\\u0439\\u0442\\u0435 \\u0434\\u0430\\u043b\\u0435\\u0435 \\u0441\\u043c\\u043c\\u0449\\u0438\\u043a \\u0433\\u0438\\u043c\\u043d\\u0430\\u0437\\u0438\\u0438 \\u0437\\u0430\\u043c\\u0430\\u0437\\u0430\\u043b \\u043b\\u043e\\u0433\\u043e\\u0442\\u0438\\u043f \\u0440\\u0443\\u0441\\u0441\\u043a\\u0438\\u0439 \\u0441\\u0432\\u0438\\u0442\\u0448\\u043e\\u0442\\u0435 \\u0434\\u043e\\u0447\\u0435\\u0440\\u0438 \\u043f\\u0430\\u0432\\u043b\\u0430 \\u044d\\u0442\\u043e \\u0444\\u043e\\u0442\\u043e \\u0441\\u043e\\u0440\\u0435\\u0432\\u043d\\u043e\\u0432\\u0430\\u043d\\u0438\\u0439 \\u043f\\u043b\\u0430\\u0432\\u0430\\u043d\\u0438\\u044e \\u0434\\u0435\\u0432\\u043e\\u0447\\u043a\\u0430 \\u0437\\u0430\\u043d\\u044f\\u043b\\u0430 \\u043f\\u0435\\u0440\\u0432\\u043e\\u0435 \\u043c\\u0435\\u0441\\u0442\\u043e \\u0441\\u044b\\u043d\\u0430 \\u043e\\u0434\\u0435\\u0442\\u043e\\u0433\\u043e \\u0430\\u043d\\u0430\\u043b\\u043e\\u0433\\u0438\\u0447\\u043d\\u044b\\u0439 \\u043c\\u0435\\u0440\\u0447 \\u0442\\u043e\\u0440\\u043c\\u043e\\u0437\\u043d\\u0443\\u043b\\u0438 \\u043a\\u043e\\u0440\\u0438\\u0434\\u043e\\u0440\\u0435 \\u043f\\u0440\\u0438\\u0441\\u0442\\u044b\\u0434\\u0438\\u043b\\u0438 \\u043f\\u043e\\u0442\\u0440\\u0435\\u0431\\u043e\\u0432\\u0430\\u043b\\u0438 \\u0441\\u043d\\u044f\\u0442\\u044c \\u0441\\u0442\\u0435\\u043d\\u0430\\u0445 \\u0443\\u0447\\u0440\\u0435\\u0436\\u0434\\u0435\\u043d\\u0438\\u044f \\u043d\\u0430\\u0434\\u0435\\u0432\\u0430\\u0442\\u044c \\u0441\\u0443\\u043f\\u0440\\u0443\\u0433\\u0430 \\u043f\\u044f\\u0442\\u043d\\u0438\\u0446\\u043a\\u043e\\u0433\\u043e \\u0443\\u0442\\u0432\\u0435\\u0440\\u0436\\u0434\\u0430\\u0435\\u0442 \\u0434\\u0435\\u0442\\u0435\\u0439 \\u043d\\u0430\\u0447\\u0430\\u043b\\u0438 \\u043e\\u0442\\u043a\\u0440\\u043e\\u0432\\u0435\\u043d\\u043d\\u043e \\u0431\\u0443\\u043b\\u043b\\u0438\\u0442\\u044c \\u0441\\u044b\\u043d\\u0443 \\u0443\\u0447\\u0430\\u0441\\u0442\\u043d\\u0438\\u043a\\u0443 \\u043e\\u043b\\u0438\\u043c\\u043f\\u0438\\u0430\\u0434 \\u043c\\u0430\\u0442\\u0435\\u043c\\u0430\\u0442\\u0438\\u043a\\u0435 \\u0437\\u0430\\u043d\\u0438\\u0436\\u0430\\u043b\\u0438 \\u043e\\u0446\\u0435\\u043d\\u043a\\u0438 \\u0437\\u0430\\u043f\\u0440\\u0435\\u0442\\u0438\\u043b\\u0438 \\u0443\\u0447\\u0430\\u0441\\u0442\\u0432\\u043e\\u0432\\u0430\\u0442\\u044c \\u043a\\u043e\\u043d\\u043a\\u0443\\u0440\\u0441\\u0435 \\u0447\\u0442\\u0435\\u0446\\u043e\\u0432 \\u0434\\u043e\\u0447\\u043a\\u043e\\u0439\\u0434\\u043e\\u0448\\u043a\\u043e\\u043b\\u044c\\u043d\\u0438\\u0446\\u0435\\u0439 \\u043f\\u0435\\u0440\\u0435\\u0441\\u0442\\u0430\\u043b\\u0438 \\u043d\\u043e\\u0440\\u043c\\u0430\\u043b\\u044c\\u043d\\u043e \\u0437\\u0430\\u043d\\u0438\\u043c\\u0430\\u0442\\u044c\\u0441\\u044f \\u0440\\u043e\\u0434\\u0438\\u0442\\u0435\\u043b\\u044f\\u043c \\u0440\\u0435\\u0433\\u0443\\u043b\\u044f\\u0440\\u043d\\u043e \\u043f\\u0440\\u0438\\u0441\\u044b\\u043b\\u0430\\u043b\\u0438 \\u0436\\u0430\\u043b\\u043e\\u0431\\u044b \\u043f\\u0435\\u0434\\u0441\\u043e\\u0441\\u0442\\u0430\\u0432\\u0430 \\u043d\\u0435\\u0432\\u043d\\u0438\\u043c\\u0430\\u0442\\u0435\\u043b\\u044c\\u043d\\u043e\\u0441\\u0442\\u044c \\u043d\\u0435\\u0441\\u043e\\u0431\\u0440\\u0430\\u043d\\u043d\\u043e\\u0441\\u0442\\u044c \\u043d\\u0435\\u0441\\u043e\\u043e\\u0442\\u0432\\u0435\\u0442\\u0441\\u0442\\u0432\\u0438\\u0435 \\u0443\\u0440\\u043e\\u0432\\u043d\\u044e \\u043f\\u0430\\u0432\\u043b\\u043e\\u0432\\u0441\\u043a\\u0438\\u0445 \\u0433\\u0438\\u043c\\u043d\\u0430\\u0437\\u0438\\u0441\\u0442\\u043e\\u0432 \\u0444\\u0438\\u043d\\u0430\\u043b\\u043e\\u043c \\u0441\\u0442\\u0430\\u043b \\u043e\\u0442\\u043a\\u0430\\u0437 \\u043f\\u0440\\u043e\\u0434\\u043b\\u0435\\u043d\\u0438\\u044f \\u0434\\u043e\\u0433\\u043e\\u0432\\u043e\\u0440\\u0430 \\u043e\\u0431\\u044a\\u044f\\u0441\\u043d\\u0435\\u043d\\u0438\\u044f \\u043f\\u0440\\u0438\\u0447\\u0438\\u043d \\u043e\\u0437\\u0432\\u0443\\u0447\\u0438\\u0432\\u0430\\u0442\\u044c \\u043d\\u0430\\u043c \\u043f\\u043e\\u0437\\u0438\\u0446\\u0438\\u044e \\u0430\\u0434\\u043c\\u0438\\u043d\\u0438\\u0441\\u0442\\u0440\\u0430\\u0446\\u0438\\u044f \\u043f\\u0430\\u0432\\u043b\\u043e\\u0432\\u0441\\u043a\\u043e\\u0439 \\u0433\\u0438\\u043c\\u043d\\u0430\\u0437\\u0438\\u0438 \\u043e\\u0442\\u043a\\u0430\\u0437\\u0430\\u043b\\u0430\\u0441\\u044c \\u0444\\u043e\\u0442\\u043e \\u0434\\u0435\\u0432\\u043e\\u0447\\u043a\\u0438 \\u043f\\u043e\\u0434\\u0430\\u0440\\u0435\\u043d\\u043d\\u043e\\u043c \\u043b\\u0438\\u0447\\u043d\\u043e \\u0448\\u0430\\u043c\\u0430\\u043d\\u043e\\u043c \\u0441\\u0432\\u0438\\u0442\\u0448\\u043e\\u0442\\u0435 \\u0432\\u0441\\u0451 \\u0437\\u0430\\u043c\\u0435\\u043d\\u0438\\u043b\\u0438 \\u043e\\u0440\\u0438\\u0433\\u0438\\u043d\\u0430\\u043b\\u044c\\u043d\\u043e\\u0435 \\u043d\\u0435\\u0437\\u0430\\u043c\\u0430\\u0437\\u0430\\u043d\\u043d\\u043e\\u0435 \\u043f\\u043e\\u0434\\u043f\\u0438\\u0441\\u044b\\u0432\\u0430\\u0439\\u0441\\u044f mash\",\n          \"\\u0441\\u0430\\u043c\\u044b\\u0439 \\u0441\\u0438\\u043b\\u044c\\u043d\\u044b\\u0439 \\u0440\\u0438\\u0442\\u0443\\u0430\\u043b \\u0441\\u0442\\u0430\\u0440\\u044b\\u0439 \\u043d\\u043e\\u0432\\u044b\\u0439 \\u0433\\u043e\\u0434 \\u044f\\u043d\\u0432\\u0430\\u0440\\u044f \\u044d\\u0442\\u043e \\u043f\\u043e\\u0432\\u0442\\u043e\\u0440\\u0435\\u043d\\u0438\\u0435 \\u043d\\u043e\\u0432\\u043e\\u0433\\u043e\\u0434\\u043d\\u0435\\u0433\\u043e \\u0436\\u0435\\u043b\\u0430\\u043d\\u0438\\u044f \\u043f\\u0440\\u0430\\u0437\\u0434\\u043d\\u0438\\u0447\\u043d\\u044b\\u0435 \\u0441\\u043a\\u0438\\u0434\\u043a\\u0438 \\u0438\\u043d\\u0444\\u043e\\u0440\\u043c\\u0430\\u0446\\u0438\\u043e\\u043d\\u043d\\u044b\\u0435 \\u043f\\u0440\\u043e\\u0434\\u0443\\u043a\\u0442\\u044b \\u0434\\u0435\\u043d\\u0435\\u0436\\u043d\\u044b\\u0435 \\u043a\\u043e\\u0434\\u044b \\u0434\\u0440\\u0430\\u043a\\u043e\\u043d\\u0430 \\u043a\\u0430\\u0440\\u0442\\u0443 \\u0436\\u0435\\u043b\\u0430\\u043d\\u0438\\u0439 \\u043f\\u0440\\u0430\\u0437\\u0434\\u043d\\u0438\\u0447\\u043d\\u044b\\u0435 \\u0441\\u043a\\u0438\\u0434\\u043a\\u0438 \\u043c\\u0430\\u0433\\u0438\\u0447\\u0435\\u0441\\u043a\\u0438\\u0439 \\u043c\\u0430\\u0433\\u0430\\u0437\\u0438\\u043d ozon \\u0441\\u0432\\u0435\\u0447\\u0430\\u043c\\u0438 \\u0431\\u0440\\u0430\\u0441\\u043b\\u0435\\u0442\\u0430\\u043c\\u0438 \\u043f\\u0440\\u0438\\u043a\\u0440\\u0435\\u043f\\u043b\\u0451\\u043d\\u043d\\u044b\\u0435 \\u0441\\u0441\\u044b\\u043b\\u043a\\u0438\",\n          \"\\u043e\\u043f\\u0443\\u0431\\u043b\\u0438\\u043a\\u043e\\u0432\\u0430\\u043d \\u043a\\u043e\\u043c\\u043c\\u0435\\u043d\\u0442\\u0430\\u0440\\u0438\\u0439 \\u0437\\u0430\\u043f\\u0438\\u0441\\u0438 id\\u043e\\u043b\\u0435\\u0433 \\u0432\\u0430\\u0448\\u0438\\u0445 \\u043a\\u0440\\u0430\\u044f\\u0445 \\u0438\\u043d\\u0442\\u0435\\u0440\\u0435\\u0441\\u043d\\u043e\"\n        ],\n        \"semantic_type\": \"\",\n        \"description\": \"\"\n      }\n    },\n    {\n      \"column\": \"cleaned_image2text\",\n      \"properties\": {\n        \"dtype\": \"category\",\n        \"num_unique_values\": 2569,\n        \"samples\": [\n          \"\\u043b\\u0443\\u0447\\u0448\\u0435\\u0435 \\u0438\\u0437\\u0432\\u0438\\u043d\\u0435\\u043d\\u0438\\u0435\",\n          \"\\u043b\\u0438\\u0432\\u043e\\u0433\\u0438 \\u043d\\u0438\\u0437\\u043d\\u044c \\u0431\\u043b\\u0430\\u0433\\u043e\\u0442\\u0432\\u043e\\u0440\\u0438\\u0442\\u0435\\u043b\\u044c\\u043d\\u044b\\u0439 \\u0444\\u043e\\u043d\\u0434 \\u0433 \\u0434\\u0435 \\u0441\\u0434\\u0430\\u0442\\u044c \\u043a\\u0440\\u043e\\u0432\\u044c \\u043c\\u043e\\u0441\\u043a\\u0432\\u0435\",\n          \"ir \\u0445 r\"\n        ],\n        \"semantic_type\": \"\",\n        \"description\": \"\"\n      }\n    },\n    {\n      \"column\": \"cleaned_speech2text\",\n      \"properties\": {\n        \"dtype\": \"category\",\n        \"num_unique_values\": 1662,\n        \"samples\": [\n          \"\\u0441\\u043e\\u043d\\u0438\\u0442 \\u0442\\u043e\\u043d\\u0435\\u0442 \\u0442\\u043e\\u043d\\u0435\\u0442 \\u043d\\u043e\\u0447\\u0430\\u043c \\u043c\\u043e\\u0435 \\u0441\\u0435\\u0440\\u0434\\u0446\\u0435 \\u0437\\u0430\\u0433\\u0438\\u0431\\u0430\\u0435\\u0442 \\u0432\\u0435\\u043d\\u043d\\u0430\\u0445 \\u043a\\u0440\\u043e\\u0432\\u044c\\u044e \\u0432\\u043e\\u0440\\u0432\\u0430\\u043b\\u0430\\u0441\\u044c \\u043c\\u043e\\u044e \\u0436\\u0438\\u0437\\u043d\\u044c \\u043d\\u0435\\u043a\\u0443\\u0434\\u0430 \\u0434\\u0435\\u0442\\u044c\\u0441\\u044f \\u043f\\u043e\\u0432\\u0438\\u0434\\u0438\\u043c\\u043e\\u043c\\u0443 \\u044d\\u0442\\u043e \\u043b\\u044e\\u0431\\u043e\\u0432\\u044c\\u044e \\u043f\\u0440\\u0435\\u043a\\u0440\\u0430\\u0441\\u043d\\u043e \\u043f\\u043e\\u043d\\u0438\\u043c\\u0430\\u044e \\u043d\\u0435\\u0431\\u043e \\u043e\\u043d\\u043e \\u0441\\u043e\\u0437\\u0434\\u0430\\u043d\\u043e \\u0437\\u0430\\u043f\\u0430\\u043b \\u043f\\u0440\\u043e\\u043f\\u0430\\u043b \\u043d\\u0443\\u0436\\u043d\\u0430\",\n          \"\\u043d\\u0430\\u0440\\u043a\\u043e\\u043f\\u044b \\u0445\\u043e\\u0442\\u044f\\u0442 \\u0443\\u0430\\u0442\\u044c \\u043f\\u043e\\u0447\\u0443\\u0432\\u0441\\u0442\\u0432\\u043e\\u0432\\u0430\\u043b\\u0430 \\u0442\\u0432\\u043e\\u044f \\u0441\\u0435\\u043c\\u044c\\u044f \\u0431\\u043e\\u043b\\u044c \\u0434\\u0440\\u0443\\u0437\\u044c\\u044f \\u0437\\u0430\\u043a\\u0440\\u044b\\u043b\\u0438 \\u0434\\u043e\\u043c\\u0430 \\u0443\\u0437\\u043d\\u0438\\u043a \\u043e\\u0434\\u043d\\u043e\\u0439 \\u043a\\u043e\\u043c\\u043d\\u0430\\u0442\\u044b \\u043f\\u043e\\u043d\\u0438\\u043c\\u0430\\u0435\\u0448\\u044c \\u0434\\u043d\\u0435 \\u043b\\u0435\\u0448\\u0430 \\u0441\\u0442\\u0430\\u043b \\u0443\\u0430\\u0442\\u044c \\u043f\\u0440\\u043e\\u0441\\u043d\\u0443\\u043b\\u0430\\u0441\\u044c \\u0445\\u043e\\u043b\\u043e\\u0434\\u043d\\u043e\\u043c \\u0441\\u0442\\u043e\\u043b\\u0435 \\u0431\\u043e\\u043b\\u044c\\u043d\\u0438\\u0446\\u0435 \\u043e\\u0442\\u0432\\u0435\\u0440\\u043d\\u0443\\u043b\\u0438\\u0441\\u044c \\u0432\\u043e\\u043e\\u0431\\u0449\\u0435 \\u043a\\u0440\\u0443\\u0433 \\u043e\\u0431\\u0449\\u0435\\u043d\\u0438\\u0439 \\u043e\\u0441\\u0443\\u0437\\u0438\\u043b\\u0441\\u044f \\u043a\\u0443\\u0447\\u043a\\u0438 \\u0443\\u0430\\u043d\\u043e\\u0432 \\u0440\\u0435\\u0448\\u0438\\u043b\\u0430 \\u043f\\u043e\\u0439\\u0442\\u0438 \\u0447\\u0435\\u0442\\u0432\\u0435\\u0440\\u0442\\u043e\\u0433\\u043e \\u044d\\u0442\\u0430\\u0436\\u0430 \\u0433\\u043e\\u0434\\u0430 \\u043e\\u0431\\u0440\\u0435\\u043b\\u0430 \\u043c\\u0430\\u043c\\u0443\",\n          \"\\u0434\\u0440\\u0443\\u0437\\u044c\\u044f \\u0431\\u0435\\u0437\\u0443\\u043c\\u043d\\u043e \\u043a\\u043b\\u0430\\u0441\\u0441\\u043d\\u0430\\u044f \\u043d\\u043e\\u0432\\u043e\\u0441\\u0442\\u044c \\u0448\\u043e\\u0443 \\u043c\\u0430\\u0441\\u043e\\u043a \\u043c\\u043e\\u0451\\u043c youtube\\u043a\\u0430\\u043d\\u0430\\u043b\\u0435 \\u043d\\u0430\\u0431\\u0440\\u0430\\u043b\\u043e\\u0441\\u044c \\u043c\\u0438\\u043b\\u043b\\u0438\\u043e\\u043d \\u043f\\u0440\\u043e\\u0441\\u043c\\u043e\\u0442\\u0440\\u043e\\u0432 \\u044d\\u0442\\u043e \\u043e\\u0447\\u0435\\u043d\\u044c \\u043a\\u0440\\u0443\\u0442\\u043e \\u044d\\u0442\\u043e \\u0437\\u043d\\u0430\\u0447\\u0438\\u0442 \\u0448\\u043e\\u0443 \\u043c\\u0430\\u0441\\u043e\\u043a \\u0437\\u043d\\u0430\\u0447\\u0438\\u0442 \\u043a\\u0430\\u0436\\u0434\\u044b\\u0439 \\u043c\\u0435\\u0434\\u0438\\u0439\\u043d\\u0430\\u044f \\u043f\\u0443\\u0431\\u043b\\u0438\\u0447\\u043d\\u0430\\u044f \\u043b\\u0438\\u0447\\u043d\\u043e\\u0441\\u0442\\u044c \\u043c\\u043e\\u0436\\u0435\\u0442\\u0435 \\u0441\\u0442\\u0430\\u0442\\u044c \\u0433\\u0435\\u0440\\u043e\\u0435\\u043c \\u043d\\u0430\\u0448\\u0435\\u0433\\u043e \\u043f\\u0440\\u043e\\u0435\\u043a\\u0442\\u0430 \\u043e\\u0431\\u044f\\u0437\\u0430\\u0442\\u0435\\u043b\\u044c\\u043d\\u043e \\u043f\\u0438\\u0448\\u0438\\u0442\\u0435 \\u043d\\u0430\\u043f\\u0440\\u044f\\u043c\\u0443\\u044e \\u0434\\u0438\\u0440\\u0435\\u043a\\u0442\"\n        ],\n        \"semantic_type\": \"\",\n        \"description\": \"\"\n      }\n    }\n  ]\n}",
       "type": "dataframe",
       "variable_name": "df_gen"
      },
      "text/html": [
       "\n",
       "  <div id=\"df-20c3043b-5bb3-445d-91de-ef277c324e17\" class=\"colab-df-container\">\n",
       "    <div>\n",
       "<style scoped>\n",
       "    .dataframe tbody tr th:only-of-type {\n",
       "        vertical-align: middle;\n",
       "    }\n",
       "\n",
       "    .dataframe tbody tr th {\n",
       "        vertical-align: top;\n",
       "    }\n",
       "\n",
       "    .dataframe thead th {\n",
       "        text-align: right;\n",
       "    }\n",
       "</style>\n",
       "<table border=\"1\" class=\"dataframe\">\n",
       "  <thead>\n",
       "    <tr style=\"text-align: right;\">\n",
       "      <th></th>\n",
       "      <th>index</th>\n",
       "      <th>doc_text</th>\n",
       "      <th>image2text</th>\n",
       "      <th>speech2text</th>\n",
       "      <th>class</th>\n",
       "      <th>emojis_doc_text</th>\n",
       "      <th>cleaned_doc_text</th>\n",
       "      <th>cleaned_image2text</th>\n",
       "      <th>cleaned_speech2text</th>\n",
       "    </tr>\n",
       "  </thead>\n",
       "  <tbody>\n",
       "    <tr>\n",
       "      <th>0</th>\n",
       "      <td>0</td>\n",
       "      <td>Твой лучший секс спрятан здесь   Делюсь канало...</td>\n",
       "      <td>NaN</td>\n",
       "      <td>NaN</td>\n",
       "      <td>1</td>\n",
       "      <td>no one under eighteen, smiling cat with heart-...</td>\n",
       "      <td>твой лучший секс спрятан делюсь каналом диплом...</td>\n",
       "      <td>NaN</td>\n",
       "      <td>NaN</td>\n",
       "    </tr>\n",
       "    <tr>\n",
       "      <th>1</th>\n",
       "      <td>1</td>\n",
       "      <td>Кнопка: START(https://t.me/major/start?start...</td>\n",
       "      <td>NaN</td>\n",
       "      <td>NaN</td>\n",
       "      <td>1</td>\n",
       "      <td>star, star, star</td>\n",
       "      <td>кнопка start</td>\n",
       "      <td>NaN</td>\n",
       "      <td>NaN</td>\n",
       "    </tr>\n",
       "    <tr>\n",
       "      <th>2</th>\n",
       "      <td>2</td>\n",
       "      <td>А продолжение где? Правильно. В моем сообществ...</td>\n",
       "      <td>девчонки не умеют переписываться sanille они э...</td>\n",
       "      <td>NaN</td>\n",
       "      <td>1</td>\n",
       "      <td>NaN</td>\n",
       "      <td>продолжение правильно моем сообществе вк ссылк...</td>\n",
       "      <td>девчонки умеют переписываться sanille это очен...</td>\n",
       "      <td>NaN</td>\n",
       "    </tr>\n",
       "    <tr>\n",
       "      <th>3</th>\n",
       "      <td>3</td>\n",
       "      <td>Тем временем моя авторская телега уверенно в т...</td>\n",
       "      <td>10:42 nuil пул telegram ^ 51 142 подписчика 12...</td>\n",
       "      <td>NaN</td>\n",
       "      <td>1</td>\n",
       "      <td>flexed biceps</td>\n",
       "      <td>временем авторская телега уверенно тройке силь...</td>\n",
       "      <td>nuil пул telegram подписчика авторские маргари...</td>\n",
       "      <td>NaN</td>\n",
       "    </tr>\n",
       "    <tr>\n",
       "      <th>4</th>\n",
       "      <td>4</td>\n",
       "      <td>У меня есть двоюродная сестра, у нее есть сын ...</td>\n",
       "      <td>т с не ^ е z 8 * \\\"8 ничего не знала о стендап...</td>\n",
       "      <td>NaN</td>\n",
       "      <td>1</td>\n",
       "      <td>NaN</td>\n",
       "      <td>двоюродная сестра сын антон двоюродный племянн...</td>\n",
       "      <td>т е z знала стендапе маргарита родина</td>\n",
       "      <td>NaN</td>\n",
       "    </tr>\n",
       "    <tr>\n",
       "      <th>...</th>\n",
       "      <td>...</td>\n",
       "      <td>...</td>\n",
       "      <td>...</td>\n",
       "      <td>...</td>\n",
       "      <td>...</td>\n",
       "      <td>...</td>\n",
       "      <td>...</td>\n",
       "      <td>...</td>\n",
       "      <td>...</td>\n",
       "    </tr>\n",
       "    <tr>\n",
       "      <th>5995</th>\n",
       "      <td>995</td>\n",
       "      <td>Отказали ноги, стандартная ситуация!  #щербако...</td>\n",
       "      <td>NaN</td>\n",
       "      <td>Ночь, ожидания, холод, боль, словно я раскол, ...</td>\n",
       "      <td>6</td>\n",
       "      <td>NaN</td>\n",
       "      <td>отказали ноги стандартная ситуация</td>\n",
       "      <td>NaN</td>\n",
       "      <td>ночь ожидания холод боль словно раскол вижу не...</td>\n",
       "    </tr>\n",
       "    <tr>\n",
       "      <th>5996</th>\n",
       "      <td>996</td>\n",
       "      <td>Осторожно пропала собака! #алексейщербаков #ще...</td>\n",
       "      <td>(папусов^ х</td>\n",
       "      <td>Всегда очень обидно читать подобные родные объ...</td>\n",
       "      <td>6</td>\n",
       "      <td>NaN</td>\n",
       "      <td>осторожно пропала собака</td>\n",
       "      <td>папусов х</td>\n",
       "      <td>очень обидно читать подобные родные объявления...</td>\n",
       "    </tr>\n",
       "    <tr>\n",
       "      <th>5997</th>\n",
       "      <td>997</td>\n",
       "      <td>Для ваших огонёчков</td>\n",
       "      <td>v к видео</td>\n",
       "      <td>на телефонах огонёчки вдруг зажигает полный за...</td>\n",
       "      <td>6</td>\n",
       "      <td>fire</td>\n",
       "      <td>ваших огонёчков</td>\n",
       "      <td>v видео</td>\n",
       "      <td>телефонах огонёчки зажигает полный зал телефон...</td>\n",
       "    </tr>\n",
       "    <tr>\n",
       "      <th>5998</th>\n",
       "      <td>998</td>\n",
       "      <td>#зиминарулит  #актрисатеатраикино  #викторията...</td>\n",
       "      <td>о 6</td>\n",
       "      <td>Что вы умеете делать? Всё. Стрелять, варить ха...</td>\n",
       "      <td>6</td>\n",
       "      <td>face with tears of joy, face with tears of joy...</td>\n",
       "      <td>правда умею всё нашла видео</td>\n",
       "      <td>NaN</td>\n",
       "      <td>умеете делать всё стрелять варить халву подков...</td>\n",
       "    </tr>\n",
       "    <tr>\n",
       "      <th>5999</th>\n",
       "      <td>999</td>\n",
       "      <td>Девочки, ну мы?!  @katiashmatia правильно пост...</td>\n",
       "      <td>NaN</td>\n",
       "      <td>милая он не отвечает мне на сообщения уже четы...</td>\n",
       "      <td>6</td>\n",
       "      <td>teddy bear</td>\n",
       "      <td>девочки правильно поступила</td>\n",
       "      <td>NaN</td>\n",
       "      <td>милая отвечает сообщения четыре минуты тридцат...</td>\n",
       "    </tr>\n",
       "  </tbody>\n",
       "</table>\n",
       "<p>6000 rows × 9 columns</p>\n",
       "</div>\n",
       "    <div class=\"colab-df-buttons\">\n",
       "\n",
       "  <div class=\"colab-df-container\">\n",
       "    <button class=\"colab-df-convert\" onclick=\"convertToInteractive('df-20c3043b-5bb3-445d-91de-ef277c324e17')\"\n",
       "            title=\"Convert this dataframe to an interactive table.\"\n",
       "            style=\"display:none;\">\n",
       "\n",
       "  <svg xmlns=\"http://www.w3.org/2000/svg\" height=\"24px\" viewBox=\"0 -960 960 960\">\n",
       "    <path d=\"M120-120v-720h720v720H120Zm60-500h600v-160H180v160Zm220 220h160v-160H400v160Zm0 220h160v-160H400v160ZM180-400h160v-160H180v160Zm440 0h160v-160H620v160ZM180-180h160v-160H180v160Zm440 0h160v-160H620v160Z\"/>\n",
       "  </svg>\n",
       "    </button>\n",
       "\n",
       "  <style>\n",
       "    .colab-df-container {\n",
       "      display:flex;\n",
       "      gap: 12px;\n",
       "    }\n",
       "\n",
       "    .colab-df-convert {\n",
       "      background-color: #E8F0FE;\n",
       "      border: none;\n",
       "      border-radius: 50%;\n",
       "      cursor: pointer;\n",
       "      display: none;\n",
       "      fill: #1967D2;\n",
       "      height: 32px;\n",
       "      padding: 0 0 0 0;\n",
       "      width: 32px;\n",
       "    }\n",
       "\n",
       "    .colab-df-convert:hover {\n",
       "      background-color: #E2EBFA;\n",
       "      box-shadow: 0px 1px 2px rgba(60, 64, 67, 0.3), 0px 1px 3px 1px rgba(60, 64, 67, 0.15);\n",
       "      fill: #174EA6;\n",
       "    }\n",
       "\n",
       "    .colab-df-buttons div {\n",
       "      margin-bottom: 4px;\n",
       "    }\n",
       "\n",
       "    [theme=dark] .colab-df-convert {\n",
       "      background-color: #3B4455;\n",
       "      fill: #D2E3FC;\n",
       "    }\n",
       "\n",
       "    [theme=dark] .colab-df-convert:hover {\n",
       "      background-color: #434B5C;\n",
       "      box-shadow: 0px 1px 3px 1px rgba(0, 0, 0, 0.15);\n",
       "      filter: drop-shadow(0px 1px 2px rgba(0, 0, 0, 0.3));\n",
       "      fill: #FFFFFF;\n",
       "    }\n",
       "  </style>\n",
       "\n",
       "    <script>\n",
       "      const buttonEl =\n",
       "        document.querySelector('#df-20c3043b-5bb3-445d-91de-ef277c324e17 button.colab-df-convert');\n",
       "      buttonEl.style.display =\n",
       "        google.colab.kernel.accessAllowed ? 'block' : 'none';\n",
       "\n",
       "      async function convertToInteractive(key) {\n",
       "        const element = document.querySelector('#df-20c3043b-5bb3-445d-91de-ef277c324e17');\n",
       "        const dataTable =\n",
       "          await google.colab.kernel.invokeFunction('convertToInteractive',\n",
       "                                                    [key], {});\n",
       "        if (!dataTable) return;\n",
       "\n",
       "        const docLinkHtml = 'Like what you see? Visit the ' +\n",
       "          '<a target=\"_blank\" href=https://colab.research.google.com/notebooks/data_table.ipynb>data table notebook</a>'\n",
       "          + ' to learn more about interactive tables.';\n",
       "        element.innerHTML = '';\n",
       "        dataTable['output_type'] = 'display_data';\n",
       "        await google.colab.output.renderOutput(dataTable, element);\n",
       "        const docLink = document.createElement('div');\n",
       "        docLink.innerHTML = docLinkHtml;\n",
       "        element.appendChild(docLink);\n",
       "      }\n",
       "    </script>\n",
       "  </div>\n",
       "\n",
       "\n",
       "    <div id=\"df-02fc86e2-d2f5-4277-b5b1-cb1ca3bf5404\">\n",
       "      <button class=\"colab-df-quickchart\" onclick=\"quickchart('df-02fc86e2-d2f5-4277-b5b1-cb1ca3bf5404')\"\n",
       "                title=\"Suggest charts\"\n",
       "                style=\"display:none;\">\n",
       "\n",
       "<svg xmlns=\"http://www.w3.org/2000/svg\" height=\"24px\"viewBox=\"0 0 24 24\"\n",
       "     width=\"24px\">\n",
       "    <g>\n",
       "        <path d=\"M19 3H5c-1.1 0-2 .9-2 2v14c0 1.1.9 2 2 2h14c1.1 0 2-.9 2-2V5c0-1.1-.9-2-2-2zM9 17H7v-7h2v7zm4 0h-2V7h2v10zm4 0h-2v-4h2v4z\"/>\n",
       "    </g>\n",
       "</svg>\n",
       "      </button>\n",
       "\n",
       "<style>\n",
       "  .colab-df-quickchart {\n",
       "      --bg-color: #E8F0FE;\n",
       "      --fill-color: #1967D2;\n",
       "      --hover-bg-color: #E2EBFA;\n",
       "      --hover-fill-color: #174EA6;\n",
       "      --disabled-fill-color: #AAA;\n",
       "      --disabled-bg-color: #DDD;\n",
       "  }\n",
       "\n",
       "  [theme=dark] .colab-df-quickchart {\n",
       "      --bg-color: #3B4455;\n",
       "      --fill-color: #D2E3FC;\n",
       "      --hover-bg-color: #434B5C;\n",
       "      --hover-fill-color: #FFFFFF;\n",
       "      --disabled-bg-color: #3B4455;\n",
       "      --disabled-fill-color: #666;\n",
       "  }\n",
       "\n",
       "  .colab-df-quickchart {\n",
       "    background-color: var(--bg-color);\n",
       "    border: none;\n",
       "    border-radius: 50%;\n",
       "    cursor: pointer;\n",
       "    display: none;\n",
       "    fill: var(--fill-color);\n",
       "    height: 32px;\n",
       "    padding: 0;\n",
       "    width: 32px;\n",
       "  }\n",
       "\n",
       "  .colab-df-quickchart:hover {\n",
       "    background-color: var(--hover-bg-color);\n",
       "    box-shadow: 0 1px 2px rgba(60, 64, 67, 0.3), 0 1px 3px 1px rgba(60, 64, 67, 0.15);\n",
       "    fill: var(--button-hover-fill-color);\n",
       "  }\n",
       "\n",
       "  .colab-df-quickchart-complete:disabled,\n",
       "  .colab-df-quickchart-complete:disabled:hover {\n",
       "    background-color: var(--disabled-bg-color);\n",
       "    fill: var(--disabled-fill-color);\n",
       "    box-shadow: none;\n",
       "  }\n",
       "\n",
       "  .colab-df-spinner {\n",
       "    border: 2px solid var(--fill-color);\n",
       "    border-color: transparent;\n",
       "    border-bottom-color: var(--fill-color);\n",
       "    animation:\n",
       "      spin 1s steps(1) infinite;\n",
       "  }\n",
       "\n",
       "  @keyframes spin {\n",
       "    0% {\n",
       "      border-color: transparent;\n",
       "      border-bottom-color: var(--fill-color);\n",
       "      border-left-color: var(--fill-color);\n",
       "    }\n",
       "    20% {\n",
       "      border-color: transparent;\n",
       "      border-left-color: var(--fill-color);\n",
       "      border-top-color: var(--fill-color);\n",
       "    }\n",
       "    30% {\n",
       "      border-color: transparent;\n",
       "      border-left-color: var(--fill-color);\n",
       "      border-top-color: var(--fill-color);\n",
       "      border-right-color: var(--fill-color);\n",
       "    }\n",
       "    40% {\n",
       "      border-color: transparent;\n",
       "      border-right-color: var(--fill-color);\n",
       "      border-top-color: var(--fill-color);\n",
       "    }\n",
       "    60% {\n",
       "      border-color: transparent;\n",
       "      border-right-color: var(--fill-color);\n",
       "    }\n",
       "    80% {\n",
       "      border-color: transparent;\n",
       "      border-right-color: var(--fill-color);\n",
       "      border-bottom-color: var(--fill-color);\n",
       "    }\n",
       "    90% {\n",
       "      border-color: transparent;\n",
       "      border-bottom-color: var(--fill-color);\n",
       "    }\n",
       "  }\n",
       "</style>\n",
       "\n",
       "      <script>\n",
       "        async function quickchart(key) {\n",
       "          const quickchartButtonEl =\n",
       "            document.querySelector('#' + key + ' button');\n",
       "          quickchartButtonEl.disabled = true;  // To prevent multiple clicks.\n",
       "          quickchartButtonEl.classList.add('colab-df-spinner');\n",
       "          try {\n",
       "            const charts = await google.colab.kernel.invokeFunction(\n",
       "                'suggestCharts', [key], {});\n",
       "          } catch (error) {\n",
       "            console.error('Error during call to suggestCharts:', error);\n",
       "          }\n",
       "          quickchartButtonEl.classList.remove('colab-df-spinner');\n",
       "          quickchartButtonEl.classList.add('colab-df-quickchart-complete');\n",
       "        }\n",
       "        (() => {\n",
       "          let quickchartButtonEl =\n",
       "            document.querySelector('#df-02fc86e2-d2f5-4277-b5b1-cb1ca3bf5404 button');\n",
       "          quickchartButtonEl.style.display =\n",
       "            google.colab.kernel.accessAllowed ? 'block' : 'none';\n",
       "        })();\n",
       "      </script>\n",
       "    </div>\n",
       "    </div>\n",
       "  </div>\n"
      ],
      "text/plain": [
       "      index                                           doc_text  \\\n",
       "0         0  Твой лучший секс спрятан здесь   Делюсь канало...   \n",
       "1         1    Кнопка: START(https://t.me/major/start?start...   \n",
       "2         2  А продолжение где? Правильно. В моем сообществ...   \n",
       "3         3  Тем временем моя авторская телега уверенно в т...   \n",
       "4         4  У меня есть двоюродная сестра, у нее есть сын ...   \n",
       "...     ...                                                ...   \n",
       "5995    995  Отказали ноги, стандартная ситуация!  #щербако...   \n",
       "5996    996  Осторожно пропала собака! #алексейщербаков #ще...   \n",
       "5997    997                                Для ваших огонёчков   \n",
       "5998    998  #зиминарулит  #актрисатеатраикино  #викторията...   \n",
       "5999    999  Девочки, ну мы?!  @katiashmatia правильно пост...   \n",
       "\n",
       "                                             image2text  \\\n",
       "0                                                   NaN   \n",
       "1                                                   NaN   \n",
       "2     девчонки не умеют переписываться sanille они э...   \n",
       "3     10:42 nuil пул telegram ^ 51 142 подписчика 12...   \n",
       "4     т с не ^ е z 8 * \\\"8 ничего не знала о стендап...   \n",
       "...                                                 ...   \n",
       "5995                                                NaN   \n",
       "5996                                        (папусов^ х   \n",
       "5997                                          v к видео   \n",
       "5998                                                о 6   \n",
       "5999                                                NaN   \n",
       "\n",
       "                                            speech2text  class  \\\n",
       "0                                                   NaN      1   \n",
       "1                                                   NaN      1   \n",
       "2                                                   NaN      1   \n",
       "3                                                   NaN      1   \n",
       "4                                                   NaN      1   \n",
       "...                                                 ...    ...   \n",
       "5995  Ночь, ожидания, холод, боль, словно я раскол, ...      6   \n",
       "5996  Всегда очень обидно читать подобные родные объ...      6   \n",
       "5997  на телефонах огонёчки вдруг зажигает полный за...      6   \n",
       "5998  Что вы умеете делать? Всё. Стрелять, варить ха...      6   \n",
       "5999  милая он не отвечает мне на сообщения уже четы...      6   \n",
       "\n",
       "                                        emojis_doc_text  \\\n",
       "0     no one under eighteen, smiling cat with heart-...   \n",
       "1                                      star, star, star   \n",
       "2                                                   NaN   \n",
       "3                                         flexed biceps   \n",
       "4                                                   NaN   \n",
       "...                                                 ...   \n",
       "5995                                                NaN   \n",
       "5996                                                NaN   \n",
       "5997                                               fire   \n",
       "5998  face with tears of joy, face with tears of joy...   \n",
       "5999                                         teddy bear   \n",
       "\n",
       "                                       cleaned_doc_text  \\\n",
       "0     твой лучший секс спрятан делюсь каналом диплом...   \n",
       "1                                          кнопка start   \n",
       "2     продолжение правильно моем сообществе вк ссылк...   \n",
       "3     временем авторская телега уверенно тройке силь...   \n",
       "4     двоюродная сестра сын антон двоюродный племянн...   \n",
       "...                                                 ...   \n",
       "5995                 отказали ноги стандартная ситуация   \n",
       "5996                           осторожно пропала собака   \n",
       "5997                                    ваших огонёчков   \n",
       "5998                        правда умею всё нашла видео   \n",
       "5999                        девочки правильно поступила   \n",
       "\n",
       "                                     cleaned_image2text  \\\n",
       "0                                                   NaN   \n",
       "1                                                   NaN   \n",
       "2     девчонки умеют переписываться sanille это очен...   \n",
       "3     nuil пул telegram подписчика авторские маргари...   \n",
       "4                 т е z знала стендапе маргарита родина   \n",
       "...                                                 ...   \n",
       "5995                                                NaN   \n",
       "5996                                          папусов х   \n",
       "5997                                            v видео   \n",
       "5998                                                NaN   \n",
       "5999                                                NaN   \n",
       "\n",
       "                                    cleaned_speech2text  \n",
       "0                                                   NaN  \n",
       "1                                                   NaN  \n",
       "2                                                   NaN  \n",
       "3                                                   NaN  \n",
       "4                                                   NaN  \n",
       "...                                                 ...  \n",
       "5995  ночь ожидания холод боль словно раскол вижу не...  \n",
       "5996  очень обидно читать подобные родные объявления...  \n",
       "5997  телефонах огонёчки зажигает полный зал телефон...  \n",
       "5998  умеете делать всё стрелять варить халву подков...  \n",
       "5999  милая отвечает сообщения четыре минуты тридцат...  \n",
       "\n",
       "[6000 rows x 9 columns]"
      ]
     },
     "execution_count": 189,
     "metadata": {},
     "output_type": "execute_result"
    }
   ],
   "source": [
    "df_gen"
   ]
  },
  {
   "cell_type": "code",
   "execution_count": null,
   "metadata": {
    "id": "EKpfxL6GktTi"
   },
   "outputs": [],
   "source": [
    "df_gen.to_csv('df_gen.csv', index=False)"
   ]
  },
  {
   "cell_type": "code",
   "execution_count": null,
   "metadata": {
    "id": "i3Xf5g5CwJhF"
   },
   "outputs": [],
   "source": [
    "# Замена пропусков в источниках (стоит ли делать это сейчас?)\n",
    "# df_gen['image2text'] = df_gen['image2text'].fillna('')\n",
    "# df_gen['speech2text'] = df_gen['speech2text'].fillna('')"
   ]
  },
  {
   "cell_type": "code",
   "execution_count": null,
   "metadata": {
    "id": "EeJdmVqX0Psi"
   },
   "outputs": [],
   "source": [
    "# Удаление полностью пустых постов (таких на самом деле нет)\n",
    "df_gen = df_gen[~(df_gen['doc_text'].str.len() + df_gen['image2text'].str.len() + df_gen['speech2text'].str.len() == 0)]"
   ]
  },
  {
   "cell_type": "code",
   "execution_count": null,
   "metadata": {
    "id": "6AUPRw6o4gEx"
   },
   "outputs": [],
   "source": [
    "# morph = pymorphy2.MorphAnalyzer() (вопрос согласия партнера на использование лицензии MIT)\n",
    "# def preprocess(text):\n",
    "#    text = re.sub(r'[^\\w\\s]', '', text.lower())  # Удаление пунктуации\n",
    "#    words = [morph.parse(word)[0].normal_form for word in text.split()]  # Лемматизация\n",
    "#    return ' '.join(words)"
   ]
  },
  {
   "cell_type": "code",
   "execution_count": null,
   "metadata": {
    "id": "8geWlTAUwNC-"
   },
   "outputs": [],
   "source": [
    "import re\n",
    "from nltk.corpus import stopwords\n",
    "\n",
    "STOPWORDS_RU = set(stopwords.words('russian')) | {'это', 'всё', 'весь'} # (что ещё добавить?)\n",
    "\n",
    "def clean_text(text):\n",
    "    # Удаление URL, хэштегов, упоминаний\n",
    "    text = re.sub(r'(http\\S+)|(#\\w+)|(@\\w+)', '', text)\n",
    "\n",
    "    # Нормализация повторов: \"привеееет\" → \"привет\"\n",
    "    text = re.sub(r'(.)\\1{2,}', r'\\1', text)\n",
    "\n",
    "    # Удаление редких символов (сохраняем кириллицу и основные знаки)\n",
    "    text = re.sub(r'[^а-яё\\s!?.,:;-]', '', text, flags=re.IGNORECASE)\n",
    "\n",
    "    return text.strip()"
   ]
  },
  {
   "cell_type": "markdown",
   "metadata": {
    "id": "5WdgLh1VwI6o"
   },
   "source": [
    "Обработка выбросов\n",
    "- Слишком короткие тексты (менее 2 слов после очистки)\n",
    "- Повторы: дубликаты с одинаковым user_text\n",
    "- Аномалии OCR/ASR: тексты с >50% не-буквенных символов"
   ]
  },
  {
   "cell_type": "code",
   "execution_count": null,
   "metadata": {
    "id": "Cm3mzSDEwUzZ"
   },
   "outputs": [],
   "source": [
    "# Удаление слишком коротких текстов\n",
    "df['num_words'] = df['text'].apply(lambda x: len(x.split()))\n",
    "df = df[df['num_words'].between(2, 30)]\n",
    "\n",
    "# Поиск аномалий OCR/ASR\n",
    "def is_low_quality(text):\n",
    "    char_ratio = sum(c.isalpha() for c in text) / len(text) if text else 0\n",
    "    return char_ratio < 0.4\n",
    "\n",
    "mask = df[['ocr_text', 'asr_text']].applymap(is_low_quality)\n",
    "df['ocr_quality'] = ~mask['ocr_text']\n",
    "df['asr_quality'] = ~mask['asr_text']"
   ]
  },
  {
   "cell_type": "markdown",
   "metadata": {
    "id": "4KuOqthCvJjC"
   },
   "source": [
    "## 2. Feature Engineering"
   ]
  },
  {
   "cell_type": "markdown",
   "metadata": {
    "id": "Sspi8NahvO-m"
   },
   "source": [
    "Попробовать кластеризацию, насколько реально выполнена разметка/разделение датасетов"
   ]
  },
  {
   "cell_type": "markdown",
   "metadata": {
    "id": "3y9UW4tYw3KP"
   },
   "source": [
    "3 версии датасета:\n",
    "- только посты\n",
    "- посты + дополнения\n",
    "- все источники с маркерами [post] text, [OCR] text, [ASR] text"
   ]
  },
  {
   "cell_type": "code",
   "execution_count": null,
   "metadata": {
    "id": "fF1G4tcz4zYg"
   },
   "outputs": [],
   "source": [
    "# взвешенная конкатенация (тект + OCR + ASR)\n",
    "def combine_sources(row):\n",
    "    main_text = row['user_text']\n",
    "    supplements = ' '.join([row['ocr_text'], row['asr_text']])\n",
    "    return f\"{main_text} [SUPP] {supplements}\"  # Маркер для дополнений"
   ]
  },
  {
   "cell_type": "markdown",
   "metadata": {
    "id": "eDR35NR_vXwz"
   },
   "source": [
    "## 3.  Подбор признаков, их анализ и оценка важности"
   ]
  },
  {
   "cell_type": "markdown",
   "metadata": {
    "id": "1qnqf2QGvm0G"
   },
   "source": [
    "## 4. Обучение нескольких моделей, их сравнение"
   ]
  },
  {
   "cell_type": "markdown",
   "metadata": {
    "id": "GM1RbP3yvpto"
   },
   "source": [
    "## 5. Подбор гиперпараметров"
   ]
  },
  {
   "cell_type": "markdown",
   "metadata": {
    "id": "enEaQ7kMvsGc"
   },
   "source": [
    "## 6. Выбор лучшей модели и объяснение выбора"
   ]
  },
  {
   "cell_type": "markdown",
   "metadata": {
    "id": "Nw0fYN0ovvlN"
   },
   "source": [
    "## 7. Предсказание на тестовых данных"
   ]
  },
  {
   "cell_type": "code",
   "execution_count": null,
   "metadata": {
    "id": "krPA5QQBvJBU"
   },
   "outputs": [],
   "source": []
  },
  {
   "cell_type": "code",
   "execution_count": null,
   "metadata": {
    "id": "dEQ3FdMiu0I1"
   },
   "outputs": [],
   "source": []
  }
 ],
 "metadata": {
  "colab": {
   "authorship_tag": "ABX9TyPEVahx0fIW383Uz2UoYEaZ",
   "provenance": []
  },
  "kernelspec": {
   "display_name": "Python 3 (ipykernel)",
   "language": "python",
   "name": "python3"
  },
  "language_info": {
   "codemirror_mode": {
    "name": "ipython",
    "version": 3
   },
   "file_extension": ".py",
   "mimetype": "text/x-python",
   "name": "python",
   "nbconvert_exporter": "python",
   "pygments_lexer": "ipython3",
   "version": "3.12.4"
  }
 },
 "nbformat": 4,
 "nbformat_minor": 4
}
