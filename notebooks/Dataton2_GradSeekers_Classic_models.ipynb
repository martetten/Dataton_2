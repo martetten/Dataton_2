{
 "cells": [
  {
   "cell_type": "markdown",
   "metadata": {
    "id": "MLji9o16uNoU"
   },
   "source": [
    "# Партнерская задача: тематическая классификация текстов"
   ]
  },
  {
   "cell_type": "code",
   "execution_count": 51,
   "metadata": {},
   "outputs": [
    {
     "name": "stdout",
     "output_type": "stream",
     "text": [
      "Note: you may need to restart the kernel to use updated packages.\n"
     ]
    },
    {
     "name": "stderr",
     "output_type": "stream",
     "text": [
      "\n",
      "[notice] A new release of pip is available: 24.2 -> 25.1\n",
      "[notice] To update, run: python.exe -m pip install --upgrade pip\n",
      "ERROR: Could not open requirements file: [Errno 2] No such file or directory: 'requirements.txt'\n"
     ]
    }
   ],
   "source": [
    "pip install -r requirements.txt"
   ]
  },
  {
   "cell_type": "code",
   "execution_count": 52,
   "metadata": {
    "colab": {
     "base_uri": "https://localhost:8080/"
    },
    "executionInfo": {
     "elapsed": 13,
     "status": "ok",
     "timestamp": 1745934978063,
     "user": {
      "displayName": "A Martynov",
      "userId": "06661356698018382046"
     },
     "user_tz": -180
    },
    "id": "488q9BW7wgM8",
    "outputId": "a870e80f-c6ce-410a-e1de-116bbe0928ca"
   },
   "outputs": [
    {
     "name": "stderr",
     "output_type": "stream",
     "text": [
      "[nltk_data] Downloading package stopwords to\n",
      "[nltk_data]     C:\\Users\\avmar\\AppData\\Roaming\\nltk_data...\n",
      "[nltk_data]   Package stopwords is already up-to-date!\n",
      "[nltk_data] Downloading package wordnet to\n",
      "[nltk_data]     C:\\Users\\avmar\\AppData\\Roaming\\nltk_data...\n",
      "[nltk_data]   Package wordnet is already up-to-date!\n",
      "[nltk_data] Downloading package punkt_tab to\n",
      "[nltk_data]     C:\\Users\\avmar\\AppData\\Roaming\\nltk_data...\n",
      "[nltk_data]   Package punkt_tab is already up-to-date!\n"
     ]
    }
   ],
   "source": [
    "import numpy as np\n",
    "import pandas as pd\n",
    "import matplotlib.pyplot as plt\n",
    "import seaborn as sns\n",
    "import re\n",
    "import emoji\n",
    "import inflect\n",
    "import nltk\n",
    "nltk.download('stopwords')\n",
    "nltk.download('wordnet')\n",
    "nltk.download('punkt_tab')\n",
    "from nltk.corpus import stopwords\n",
    "from nltk.stem.snowball import RussianStemmer\n",
    "from nltk.tokenize import word_tokenize\n",
    "from collections import Counter\n",
    "from sklearn.feature_extraction.text import TfidfVectorizer\n",
    "from sklearn.cluster import KMeans\n",
    "from sklearn.metrics import adjusted_rand_score\n",
    "from sklearn.manifold import TSNE\n",
    "from scipy.sparse import hstack\n",
    "from sklearn.metrics import silhouette_score, adjusted_rand_score\n",
    "from scipy.sparse import hstack\n",
    "import spacy\n",
    "from sklearn.model_selection import train_test_split\n",
    "from sklearn.linear_model import LogisticRegression\n",
    "from sklearn.ensemble import RandomForestClassifier\n",
    "from sklearn.svm import SVC\n",
    "from sklearn.metrics import classification_report\n",
    "from sklearn.model_selection import GridSearchCV\n",
    "from sklearn.metrics import ConfusionMatrixDisplay\n",
    "from sklearn.preprocessing import StandardScaler\n",
    "import pickle\n",
    "from pathlib import Path"
   ]
  },
  {
   "cell_type": "code",
   "execution_count": 53,
   "metadata": {},
   "outputs": [
    {
     "name": "stdout",
     "output_type": "stream",
     "text": [
      "D:\\Studies\\MEPhI_ML\\Dataton_2\\Dataton2\\venv\\Scripts\\python.exe\n"
     ]
    }
   ],
   "source": [
    "import sys\n",
    "print(sys.executable)"
   ]
  },
  {
   "cell_type": "markdown",
   "metadata": {
    "id": "6Nqe7Fp0uxJl"
   },
   "source": [
    "## 1. Исследование датасета и предобработка данных"
   ]
  },
  {
   "cell_type": "markdown",
   "metadata": {
    "id": "G4itzOJvuYbd"
   },
   "source": [
    "даны 6 датасетов (каждый датасет - отдельный класс) + описание\n",
    "\n",
    "разделение \"текст поста\", video2text [OCR], speech2text [ASR]"
   ]
  },
  {
   "cell_type": "code",
   "execution_count": 54,
   "metadata": {
    "executionInfo": {
     "elapsed": 4144,
     "status": "ok",
     "timestamp": 1745934983818,
     "user": {
      "displayName": "A Martynov",
      "userId": "06661356698018382046"
     },
     "user_tz": -180
    },
    "id": "iaDJdEqguPEu"
   },
   "outputs": [],
   "source": [
    "df1 = pd.read_csv('https://github.com/martetten/Dataton_2/raw/main/data/raw/1.csv')\n",
    "df2 = pd.read_csv('https://github.com/martetten/Dataton_2/raw/main/data/raw/2.csv')\n",
    "df3 = pd.read_csv('https://github.com/martetten/Dataton_2/raw/main/data/raw/3.csv')\n",
    "df4 = pd.read_csv('https://github.com/martetten/Dataton_2/raw/main/data/raw/4.csv')\n",
    "df5 = pd.read_csv('https://github.com/martetten/Dataton_2/raw/main/data/raw/5.csv')\n",
    "df6 = pd.read_csv('https://github.com/martetten/Dataton_2/raw/main/data/raw/6.csv')"
   ]
  },
  {
   "cell_type": "code",
   "execution_count": 55,
   "metadata": {
    "executionInfo": {
     "elapsed": 8,
     "status": "ok",
     "timestamp": 1745936637489,
     "user": {
      "displayName": "A Martynov",
      "userId": "06661356698018382046"
     },
     "user_tz": -180
    },
    "id": "NiUWxqOAy2X4"
   },
   "outputs": [],
   "source": [
    "df1['class'] = 1\n",
    "df2['class'] = 2\n",
    "df3['class'] = 3\n",
    "df4['class'] = 4\n",
    "df5['class'] = 5\n",
    "df6['class'] = 6"
   ]
  },
  {
   "cell_type": "code",
   "execution_count": 56,
   "metadata": {
    "executionInfo": {
     "elapsed": 10,
     "status": "ok",
     "timestamp": 1745937296460,
     "user": {
      "displayName": "A Martynov",
      "userId": "06661356698018382046"
     },
     "user_tz": -180
    },
    "id": "1XfaD3rvzFDp"
   },
   "outputs": [],
   "source": [
    "df_gen = pd.concat([df1, df2, df3, df4, df5, df6]).reset_index()"
   ]
  },
  {
   "cell_type": "markdown",
   "metadata": {
    "id": "rhHZDXDlEiL2"
   },
   "source": [
    "Функция для преобразования эмоджи в их текстовые описания (перечисляет их через запятую)"
   ]
  },
  {
   "cell_type": "code",
   "execution_count": 57,
   "metadata": {
    "executionInfo": {
     "elapsed": 4,
     "status": "ok",
     "timestamp": 1745937298752,
     "user": {
      "displayName": "A Martynov",
      "userId": "06661356698018382046"
     },
     "user_tz": -180
    },
    "id": "CFSOzwJ2DopU"
   },
   "outputs": [],
   "source": [
    "def extract_emojis(text):\n",
    "    if not isinstance(text, str):\n",
    "        return np.nan\n",
    "\n",
    "    # Находим все эмодзи в тексте\n",
    "    emoji_chars = [c for c in text if c in emoji.EMOJI_DATA]\n",
    "\n",
    "    if not emoji_chars:\n",
    "        return np.nan\n",
    "\n",
    "    # Преобразуем эмодзи в текстовые описания (без : и _)\n",
    "    emoji_descriptions = [\n",
    "        emoji.demojize(e, delimiters=(\" \", \" \"))\n",
    "        .replace(\":\", \"\").replace(\"_\", \" \")\n",
    "        .strip()\n",
    "        for e in emoji_chars\n",
    "    ]\n",
    "\n",
    "    # Объединяем через запятую\n",
    "    return \", \".join(emoji_descriptions)"
   ]
  },
  {
   "cell_type": "markdown",
   "metadata": {},
   "source": [
    "Функция для удаления эмоджи из текта"
   ]
  },
  {
   "cell_type": "code",
   "execution_count": 58,
   "metadata": {
    "executionInfo": {
     "elapsed": 7,
     "status": "ok",
     "timestamp": 1745937299515,
     "user": {
      "displayName": "A Martynov",
      "userId": "06661356698018382046"
     },
     "user_tz": -180
    },
    "id": "p0ChZl_G7NM4"
   },
   "outputs": [],
   "source": [
    "def remove_emojis(text):\n",
    "    if not isinstance(text, str):\n",
    "        return np.nan\n",
    "    return emoji.replace_emoji(text, replace=\"\")"
   ]
  },
  {
   "cell_type": "markdown",
   "metadata": {
    "id": "gGWI9Eq-DS7W"
   },
   "source": [
    "Функция для предварительной очистки и нормализации текста"
   ]
  },
  {
   "cell_type": "code",
   "execution_count": 59,
   "metadata": {
    "executionInfo": {
     "elapsed": 9,
     "status": "ok",
     "timestamp": 1745937300563,
     "user": {
      "displayName": "A Martynov",
      "userId": "06661356698018382046"
     },
     "user_tz": -180
    },
    "id": "Pff4fAMrBJ92"
   },
   "outputs": [],
   "source": [
    "def base_clean_text(text: str):\n",
    "    if not isinstance(text, str):\n",
    "        return np.nan\n",
    "\n",
    "    text = text.lower()\n",
    "\n",
    "    # Удаляем URL, хэштеги, упоминания ДО split()\n",
    "    text = re.sub(r'(https?://\\S+)|(#\\w+)|(@\\w+)', '', text)\n",
    "\n",
    "    # Удаляем скобки/кавычки, мешающие обработке\n",
    "    text = re.sub(r'[()\\[\\]{}\"\\']', '', text)\n",
    "\n",
    "    # Оставляем только буквы и пробелы\n",
    "    text = re.sub(r'[^\\sа-яёa-z]', '', text)\n",
    "\n",
    "    # Убираем повторы букв (например, \"привееет\" -> \"привет\")\n",
    "    text = re.sub(r'(.)\\1{2,}', r'\\1', text)\n",
    "\n",
    "    stop_words = set(stopwords.words('russian'))\n",
    "    temp = inflect.engine()\n",
    "    words = []\n",
    "\n",
    "    for word in text.split():\n",
    "        if word.isdigit():\n",
    "            words.append(temp.number_to_words(word))\n",
    "        elif word and word not in stop_words:  # игнорируем пустые строки и стоп-слова\n",
    "            words.append(word)\n",
    "\n",
    "    return ' '.join(words) if words else np.nan"
   ]
  },
  {
   "cell_type": "markdown",
   "metadata": {
    "id": "RzFaseF3DziV"
   },
   "source": [
    "Функция для приведения слов к их корневой форме"
   ]
  },
  {
   "cell_type": "code",
   "execution_count": 60,
   "metadata": {
    "executionInfo": {
     "elapsed": 6,
     "status": "ok",
     "timestamp": 1745937301542,
     "user": {
      "displayName": "A Martynov",
      "userId": "06661356698018382046"
     },
     "user_tz": -180
    },
    "id": "nZQsieodDzy2"
   },
   "outputs": [],
   "source": [
    "def stem_russian_text(text):\n",
    "    stemmer = RussianStemmer()\n",
    "    words = text.split()\n",
    "    stemmed_words = []\n",
    "    for word in words:\n",
    "        if re.match('[а-яА-Я]', word):\n",
    "            stemmed_word = stemmer.stem(word)\n",
    "            stemmed_words.append(stemmed_word)\n",
    "        else:\n",
    "            stemmed_words.append(word)\n",
    "    return ' '.join(stemmed_words)"
   ]
  },
  {
   "cell_type": "markdown",
   "metadata": {
    "id": "-tAWydQHEAED"
   },
   "source": [
    "Применяем функции на агреггированном датасете"
   ]
  },
  {
   "cell_type": "code",
   "execution_count": 61,
   "metadata": {
    "executionInfo": {
     "elapsed": 242,
     "status": "ok",
     "timestamp": 1745937302831,
     "user": {
      "displayName": "A Martynov",
      "userId": "06661356698018382046"
     },
     "user_tz": -180
    },
    "id": "7lpgJTTQ7Qzt"
   },
   "outputs": [],
   "source": [
    "df_gen['emojis_doc_text'] = df_gen['doc_text'].apply(extract_emojis)"
   ]
  },
  {
   "cell_type": "code",
   "execution_count": 62,
   "metadata": {
    "colab": {
     "base_uri": "https://localhost:8080/",
     "height": 459
    },
    "executionInfo": {
     "elapsed": 14,
     "status": "ok",
     "timestamp": 1745936708103,
     "user": {
      "displayName": "A Martynov",
      "userId": "06661356698018382046"
     },
     "user_tz": -180
    },
    "id": "qDZPtGRr7fjw",
    "outputId": "c87cd956-c08d-4fb4-b2b4-51e04b57d6b1"
   },
   "outputs": [],
   "source": [
    "df_gen['emojis_doc_text'] = df_gen['emojis_doc_text'].fillna('').values"
   ]
  },
  {
   "cell_type": "code",
   "execution_count": 63,
   "metadata": {
    "executionInfo": {
     "elapsed": 2119,
     "status": "ok",
     "timestamp": 1745937311144,
     "user": {
      "displayName": "A Martynov",
      "userId": "06661356698018382046"
     },
     "user_tz": -180
    },
    "id": "Q0IbzO_U7jOy"
   },
   "outputs": [],
   "source": [
    "df_gen['doc_text'] = df_gen['doc_text'].apply(remove_emojis)"
   ]
  },
  {
   "cell_type": "code",
   "execution_count": 64,
   "metadata": {},
   "outputs": [],
   "source": [
    "for col in ['doc_text', 'image2text', 'speech2text']:\n",
    "    df_gen[f'cleaned_{col}'] = [base_clean_text(x) if isinstance(x, str) else np.nan\n",
    "                                 for x in df_gen[col]]"
   ]
  },
  {
   "cell_type": "code",
   "execution_count": 65,
   "metadata": {},
   "outputs": [],
   "source": [
    "for col in ['doc_text', 'image2text', 'speech2text']:\n",
    "    df_gen[f'stemmed_{col}'] = [stem_russian_text(x) if isinstance(x, str) else np.nan\n",
    "                                 for x in df_gen[f'cleaned_{col}']]"
   ]
  },
  {
   "cell_type": "code",
   "execution_count": 66,
   "metadata": {},
   "outputs": [],
   "source": [
    "def clean_text_for_spacy(text: str):\n",
    "    if not isinstance(text, str):\n",
    "        return np.nan\n",
    "    \n",
    "    # Удаляем URL, хэштеги, упоминания (но сохраняем пунктуацию!)\n",
    "    text = re.sub(r'(https?://\\S+)|(#\\w+)|(@\\w+)', '', text)\n",
    "    \n",
    "    # Удаляем только проблемные символы (например, математические)\n",
    "    text = re.sub(r'[{}<>$%^&*|\\\\]', '', text)\n",
    "    \n",
    "    # Приводим к нижнему регистру (spaCy сам обрабатывает регистр)\n",
    "    text = text.lower()\n",
    "    \n",
    "    # Убираем повторы букв (но сохраняем пунктуацию)\n",
    "    text = re.sub(r'([а-яёa-z])\\1{2,}', r'\\1', text)\n",
    "    \n",
    "    # Удаляем лишние пробелы\n",
    "    text = re.sub(r'\\s+', ' ', text).strip()\n",
    "    \n",
    "    return text if text else np.nan"
   ]
  },
  {
   "cell_type": "code",
   "execution_count": 67,
   "metadata": {},
   "outputs": [],
   "source": [
    "for col in ['doc_text', 'image2text', 'speech2text']:\n",
    "    df_gen[f'SpaCy_{col}'] = [clean_text_for_spacy(x) if isinstance(x, str) else np.nan\n",
    "                                 for x in df_gen[col]]"
   ]
  },
  {
   "cell_type": "code",
   "execution_count": 68,
   "metadata": {},
   "outputs": [],
   "source": [
    "def analyze_text_column(column):\n",
    "    all_words = ' '.join(column.fillna('')).split()\n",
    "    word_freq = Counter(all_words)\n",
    "    print(f\"Top 20 слов для {column.name}:\")\n",
    "    print(word_freq.most_common(20))"
   ]
  },
  {
   "cell_type": "code",
   "execution_count": 69,
   "metadata": {},
   "outputs": [],
   "source": [
    "# Длина текстов\n",
    "df_gen['doc_length'] = df_gen['stemmed_doc_text'].str.split().str.len()\n",
    "df_gen['image_length'] = df_gen['stemmed_image2text'].str.split().str.len()"
   ]
  },
  {
   "cell_type": "markdown",
   "metadata": {
    "id": "4KuOqthCvJjC"
   },
   "source": [
    "## 2. Feature Engineering"
   ]
  },
  {
   "cell_type": "code",
   "execution_count": 70,
   "metadata": {},
   "outputs": [],
   "source": [
    "for col in df_gen[['doc_text', 'image2text', 'speech2text', 'emojis_doc_text', 'cleaned_doc_text', 'cleaned_image2text', 'cleaned_speech2text', 'stemmed_doc_text', 'stemmed_image2text', 'stemmed_speech2text', 'SpaCy_doc_text', 'SpaCy_image2text', 'SpaCy_speech2text']]:\n",
    "    df_gen[col] = df_gen[col].fillna('').values"
   ]
  },
  {
   "cell_type": "code",
   "execution_count": 71,
   "metadata": {},
   "outputs": [],
   "source": [
    "tfidf = TfidfVectorizer(\n",
    "    max_features=5000,       # Ограничиваем количество фич\n",
    "    min_df=5,                # Игнорировать слова, встречающиеся <5 раз\n",
    "    max_df=0.7,              # Игнорировать слова, встречающиеся >70% документов\n",
    "    ngram_range=(1, 2)       # Учитывать словосочетания (1-2 слова)\n",
    ")\n",
    "\n",
    "tfidf_low_quality = TfidfVectorizer(\n",
    "    max_features=1000,\n",
    "    min_df=10,  # Более строгий фильтр для редких слов\n",
    "    max_df=0.9,\n",
    "    token_pattern=r'\\b[а-яё]{4,}\\b'  # Только слова из 4+ русских букв\n",
    ")"
   ]
  },
  {
   "cell_type": "code",
   "execution_count": 72,
   "metadata": {},
   "outputs": [],
   "source": [
    "tfidf_doc = tfidf.fit_transform(df_gen['stemmed_doc_text'].fillna(''))\n",
    "tfidf_image = tfidf_low_quality.fit_transform(df_gen['stemmed_image2text'].fillna(''))\n",
    "tfidf_speech = tfidf_low_quality.fit_transform(df_gen['stemmed_speech2text'].fillna(''))"
   ]
  },
  {
   "cell_type": "code",
   "execution_count": 73,
   "metadata": {},
   "outputs": [],
   "source": [
    "def custom_tokenizer(text):\n",
    "    # Удаляем спецсимволы (но сохраняем слова с дефисами и апострофами)\n",
    "    text = re.sub(r'[^\\w\\s-]', '', text.lower())\n",
    "    \n",
    "    # Токенизация с учетом русской морфологии\n",
    "    tokens = word_tokenize(text, language='russian')\n",
    "    \n",
    "    # Фильтрация стоп-слов и коротких токенов\n",
    "    russian_stopwords = set(stopwords.words('russian'))\n",
    "    tokens = [token for token in tokens \n",
    "              if token not in russian_stopwords \n",
    "              and len(token) > 2 \n",
    "              and not token.isdigit()]\n",
    "    \n",
    "    return tokens"
   ]
  },
  {
   "cell_type": "code",
   "execution_count": 74,
   "metadata": {},
   "outputs": [],
   "source": [
    "tfidf_advanced = TfidfVectorizer(\n",
    "    tokenizer=custom_tokenizer,          # Наш токенизатор\n",
    "    analyzer='word',                     # Анализ по словам\n",
    "    ngram_range=(1, 2),                  # Учитываем словосочетания\n",
    "    min_df=3,                            # Игнорировать редкие слова (<3 документов)\n",
    "    max_df=0.85,                         # Игнорировать слишком частые слова (>85% документов)\n",
    "    sublinear_tf=True,                   # Логарифмическое масштабирование TF\n",
    "    smooth_idf=True,                     # Сглаживание IDF\n",
    "    norm='l2',                           # Нормализация векторов\n",
    "    lowercase=True                       # Приводить к нижнему регистру (уже делаем в токенизаторе)\n",
    ")"
   ]
  },
  {
   "cell_type": "code",
   "execution_count": 75,
   "metadata": {},
   "outputs": [
    {
     "name": "stderr",
     "output_type": "stream",
     "text": [
      "D:\\Studies\\MEPhI_ML\\Dataton_2\\Dataton2\\venv\\Lib\\site-packages\\sklearn\\feature_extraction\\text.py:517: UserWarning: The parameter 'token_pattern' will not be used since 'tokenizer' is not None'\n",
      "  warnings.warn(\n"
     ]
    }
   ],
   "source": [
    "tfidf_doc_adv = tfidf_advanced.fit_transform(df_gen['SpaCy_doc_text'].fillna(''))"
   ]
  },
  {
   "cell_type": "markdown",
   "metadata": {},
   "source": [
    "## 3.  Подбор признаков, их анализ и оценка важности"
   ]
  },
  {
   "cell_type": "markdown",
   "metadata": {},
   "source": [
    "Попробуем улучшить результаты кластеризации, изменив характеристики токенизаторов"
   ]
  },
  {
   "cell_type": "code",
   "execution_count": 76,
   "metadata": {},
   "outputs": [],
   "source": [
    "tfidf = TfidfVectorizer(\n",
    "    max_features=5000,       # Ограничиваем количество фич\n",
    "    min_df=10,                # Игнорировать слова, встречающиеся <5 раз\n",
    "    max_df=0.6,              # Игнорировать слова, встречающиеся >70% документов\n",
    "    ngram_range=(1, 3)       # Учитывать словосочетания (1-2 слова)\n",
    ")\n",
    "\n",
    "tfidf_low_quality = TfidfVectorizer(\n",
    "    max_features=500,\n",
    "    min_df=10,  # Более строгий фильтр для редких слов\n",
    "    max_df=0.8,\n",
    "    token_pattern=r'\\b[а-яё]{4,}\\b'  # Только слова из 4+ русских букв\n",
    ")\n",
    "\n",
    "tfidf_advanced = TfidfVectorizer(\n",
    "    tokenizer=custom_tokenizer,          # Наш токенизатор\n",
    "    analyzer='word',                     # Анализ по словам\n",
    "    ngram_range=(1, 3),                  # Учитываем словосочетания\n",
    "    min_df=6,                            # Игнорировать редкие слова (<3 документов)\n",
    "    max_df=0.85,                         # Игнорировать слишком частые слова (>85% документов)\n",
    "    sublinear_tf=True,                   # Логарифмическое масштабирование TF\n",
    "    smooth_idf=True,                     # Сглаживание IDF\n",
    "    norm='l2',                           # Нормализация векторов\n",
    "    lowercase=True                       # Приводить к нижнему регистру (уже делаем в токенизаторе)\n",
    ")"
   ]
  },
  {
   "cell_type": "code",
   "execution_count": 77,
   "metadata": {},
   "outputs": [],
   "source": [
    "tfidf_doc = tfidf.fit_transform(df_gen['stemmed_doc_text'].fillna(''))\n",
    "tfidf_image = tfidf_low_quality.fit_transform(df_gen['stemmed_image2text'].fillna(''))\n",
    "tfidf_speech = tfidf_low_quality.fit_transform(df_gen['stemmed_speech2text'].fillna(''))\n",
    "tfidf_doc_adv = tfidf_advanced.fit_transform(df_gen['SpaCy_doc_text'].fillna(''))"
   ]
  },
  {
   "cell_type": "code",
   "execution_count": 78,
   "metadata": {},
   "outputs": [
    {
     "name": "stdout",
     "output_type": "stream",
     "text": [
      "Форма TF-IDF матрицы: (6000, 3953)\n"
     ]
    }
   ],
   "source": [
    "print(\"Форма TF-IDF матрицы:\", tfidf_doc.shape)"
   ]
  },
  {
   "cell_type": "code",
   "execution_count": 79,
   "metadata": {},
   "outputs": [],
   "source": [
    "# Токенизация для SpaCy\n",
    "nlp = spacy.load(\"ru_core_news_sm\")\n",
    "def spacy_tokenize(text):\n",
    "    if isinstance(text, float) and np.isnan(text):  # Пропускаем NaN\n",
    "        return []\n",
    "    \n",
    "    doc = nlp(text)\n",
    "    return [\n",
    "        token.text for token in doc\n",
    "        if not token.is_space  # Игнорируем пробелы\n",
    "    ]"
   ]
  },
  {
   "cell_type": "code",
   "execution_count": 80,
   "metadata": {},
   "outputs": [],
   "source": [
    "df_gen['SpaCy_doct_text_tokens'] = df_gen['SpaCy_doc_text'].apply(spacy_tokenize)"
   ]
  },
  {
   "cell_type": "markdown",
   "metadata": {},
   "source": [
    "## 4. Обучение нескольких моделей, их сравнение"
   ]
  },
  {
   "cell_type": "code",
   "execution_count": 81,
   "metadata": {},
   "outputs": [],
   "source": [
    "X_combined = hstack([\n",
    "    tfidf_doc * 0.3,\n",
    "    tfidf_doc_adv * 0.6, # Делаем вес текста для SpaCy выше\n",
    "    tfidf_image * 0.1,  # Понижаем вес OCR текста\n",
    "    tfidf_speech * 0.05  # И ASR тоже\n",
    "])"
   ]
  },
  {
   "cell_type": "code",
   "execution_count": 82,
   "metadata": {},
   "outputs": [],
   "source": [
    "X_train, X_test, y_train, y_test = train_test_split(\n",
    "    X_combined, \n",
    "    df_gen['class'], \n",
    "    test_size=0.2,\n",
    "    stratify=df_gen['class']\n",
    ")"
   ]
  },
  {
   "cell_type": "code",
   "execution_count": 83,
   "metadata": {},
   "outputs": [],
   "source": [
    "CML_models_path = Path(\"../models\")\n",
    "CML_models_path.mkdir(parents=True, exist_ok=True)"
   ]
  },
  {
   "cell_type": "code",
   "execution_count": 84,
   "metadata": {},
   "outputs": [
    {
     "name": "stdout",
     "output_type": "stream",
     "text": [
      "\n",
      "LogReg:\n",
      "               precision    recall  f1-score   support\n",
      "\n",
      "           1       0.69      0.67      0.68       200\n",
      "           2       0.53      0.52      0.52       200\n",
      "           3       0.76      0.82      0.79       200\n",
      "           4       0.61      0.49      0.55       200\n",
      "           5       0.65      0.70      0.68       200\n",
      "           6       0.63      0.68      0.66       200\n",
      "\n",
      "    accuracy                           0.65      1200\n",
      "   macro avg       0.64      0.65      0.64      1200\n",
      "weighted avg       0.64      0.65      0.64      1200\n",
      "\n",
      "Модель LogReg сохранена в ..\\models\\LogReg.pkl\n",
      "\n",
      "RanFor:\n",
      "               precision    recall  f1-score   support\n",
      "\n",
      "           1       0.62      0.61      0.62       200\n",
      "           2       0.45      0.57      0.51       200\n",
      "           3       0.79      0.74      0.76       200\n",
      "           4       0.61      0.47      0.53       200\n",
      "           5       0.61      0.67      0.64       200\n",
      "           6       0.67      0.64      0.65       200\n",
      "\n",
      "    accuracy                           0.62      1200\n",
      "   macro avg       0.63      0.62      0.62      1200\n",
      "weighted avg       0.63      0.62      0.62      1200\n",
      "\n",
      "Модель RanFor сохранена в ..\\models\\RanFor.pkl\n",
      "\n",
      "SVM:\n",
      "               precision    recall  f1-score   support\n",
      "\n",
      "           1       0.70      0.61      0.65       200\n",
      "           2       0.43      0.56      0.49       200\n",
      "           3       0.80      0.82      0.81       200\n",
      "           4       0.58      0.49      0.53       200\n",
      "           5       0.64      0.69      0.67       200\n",
      "           6       0.69      0.60      0.64       200\n",
      "\n",
      "    accuracy                           0.63      1200\n",
      "   macro avg       0.64      0.63      0.63      1200\n",
      "weighted avg       0.64      0.63      0.63      1200\n",
      "\n",
      "Модель SVM сохранена в ..\\models\\SVM.pkl\n"
     ]
    }
   ],
   "source": [
    "models = {\n",
    "    \"LogReg\": LogisticRegression(max_iter=1000, class_weight='balanced'),\n",
    "    \"RanFor\": RandomForestClassifier(class_weight='balanced'),\n",
    "    \"SVM\": SVC(class_weight='balanced')\n",
    "}\n",
    "\n",
    "for name, model in models.items():\n",
    "    # Обучение модели\n",
    "    model.fit(X_train, y_train)\n",
    "    \n",
    "    # Предсказание и оценка\n",
    "    y_pred = model.predict(X_test)\n",
    "    print(f\"\\n{name}:\\n\", classification_report(y_test, y_pred))\n",
    "    \n",
    "    # Сохранение модели\n",
    "    with open(CML_models_path / f\"{name}.pkl\", 'wb') as f:\n",
    "        pickle.dump(model, f)\n",
    "    \n",
    "    print(f\"Модель {name} сохранена в {CML_models_path / f'{name}.pkl'}\")"
   ]
  },
  {
   "cell_type": "markdown",
   "metadata": {},
   "source": [
    "Статистики для классов 2 и 4 хуже всего\n",
    "\n",
    "Модели LogReg и SVM лучше, но не достаточно хорошо, всего 64% accuracy\n",
    "\n",
    "Построим матрицу, чтобы визуализировать, какие классы больше всего путает модель SVM"
   ]
  },
  {
   "cell_type": "code",
   "execution_count": 85,
   "metadata": {},
   "outputs": [
    {
     "data": {
      "text/plain": [
       "<Figure size 1000x800 with 0 Axes>"
      ]
     },
     "metadata": {},
     "output_type": "display_data"
    },
    {
     "data": {
      "image/png": "[encoded data removed]",
      "text/plain": [
       "<Figure size 640x480 with 2 Axes>"
      ]
     },
     "metadata": {},
     "output_type": "display_data"
    }
   ],
   "source": [
    "plt.figure(figsize=(10, 8))\n",
    "ConfusionMatrixDisplay.from_estimator(models[\"SVM\"], X_test, y_test)\n",
    "plt.title(\"Confusion Matrix for SVM\")\n",
    "plt.show()"
   ]
  },
  {
   "cell_type": "markdown",
   "metadata": {},
   "source": [
    "Пробуем построить те же модели, предварительно создав метапризнаки"
   ]
  },
  {
   "cell_type": "markdown",
   "metadata": {},
   "source": [
    "Создаем метапризнаки (и сразу их скейлируем для конкретной работы моделей)"
   ]
  },
  {
   "cell_type": "code",
   "execution_count": 86,
   "metadata": {},
   "outputs": [],
   "source": [
    "meta_features = pd.DataFrame({\n",
    "    'doc_length': df_gen['doc_text'].str.len(),          # Длина исходного текста\n",
    "    'num_words': df_gen['stemmed_doc_text'].str.split().str.len(),  # Количество слов\n",
    "    'num_emojis': df_gen['emojis_doc_text'].str.count(' ') + 1,    # Число эмодзи\n",
    "    'has_image': df_gen['image2text'].notna().astype(int),          # Наличие картинки\n",
    "    'has_speech': df_gen['speech2text'].notna().astype(int)         # Наличие аудио\n",
    "})"
   ]
  },
  {
   "cell_type": "markdown",
   "metadata": {},
   "source": [
    "Проверяем отсутствие пропусков"
   ]
  },
  {
   "cell_type": "code",
   "execution_count": 87,
   "metadata": {},
   "outputs": [
    {
     "name": "stdout",
     "output_type": "stream",
     "text": [
      "doc_length    0\n",
      "num_words     0\n",
      "num_emojis    0\n",
      "has_image     0\n",
      "has_speech    0\n",
      "dtype: int64\n"
     ]
    }
   ],
   "source": [
    "print(meta_features.isna().sum())"
   ]
  },
  {
   "cell_type": "code",
   "execution_count": 88,
   "metadata": {},
   "outputs": [],
   "source": [
    "scaler = StandardScaler()\n",
    "meta_scaled = scaler.fit_transform(meta_features)"
   ]
  },
  {
   "cell_type": "code",
   "execution_count": 89,
   "metadata": {},
   "outputs": [],
   "source": [
    "# Объединяем с текстовыми признаками\n",
    "X_combined_meta = hstack([X_combined, meta_scaled])"
   ]
  },
  {
   "cell_type": "code",
   "execution_count": 90,
   "metadata": {},
   "outputs": [],
   "source": [
    "X_train, X_test, y_train, y_test = train_test_split(\n",
    "    X_combined_meta, \n",
    "    df_gen['class'], \n",
    "    test_size=0.2,\n",
    "    stratify=df_gen['class']\n",
    ")"
   ]
  },
  {
   "cell_type": "code",
   "execution_count": 91,
   "metadata": {},
   "outputs": [
    {
     "name": "stdout",
     "output_type": "stream",
     "text": [
      "\n",
      "LogReg:\n",
      "               precision    recall  f1-score   support\n",
      "\n",
      "           1       0.70      0.60      0.65       200\n",
      "           2       0.47      0.46      0.46       200\n",
      "           3       0.81      0.73      0.77       200\n",
      "           4       0.55      0.41      0.47       200\n",
      "           5       0.65      0.65      0.65       200\n",
      "           6       0.53      0.81      0.64       200\n",
      "\n",
      "    accuracy                           0.61      1200\n",
      "   macro avg       0.62      0.61      0.61      1200\n",
      "weighted avg       0.62      0.61      0.61      1200\n",
      "\n",
      "Модель LogReg сохранена в ..\\models\\LogReg.pkl\n",
      "\n",
      "RanFor:\n",
      "               precision    recall  f1-score   support\n",
      "\n",
      "           1       0.66      0.66      0.66       200\n",
      "           2       0.39      0.56      0.46       200\n",
      "           3       0.75      0.74      0.75       200\n",
      "           4       0.55      0.41      0.47       200\n",
      "           5       0.58      0.58      0.58       200\n",
      "           6       0.68      0.58      0.63       200\n",
      "\n",
      "    accuracy                           0.59      1200\n",
      "   macro avg       0.60      0.59      0.59      1200\n",
      "weighted avg       0.60      0.59      0.59      1200\n",
      "\n",
      "Модель RanFor сохранена в ..\\models\\RanFor.pkl\n",
      "\n",
      "SVM:\n",
      "               precision    recall  f1-score   support\n",
      "\n",
      "           1       0.65      0.53      0.58       200\n",
      "           2       0.45      0.29      0.36       200\n",
      "           3       0.53      0.65      0.58       200\n",
      "           4       0.50      0.40      0.44       200\n",
      "           5       0.60      0.42      0.50       200\n",
      "           6       0.46      0.83      0.59       200\n",
      "\n",
      "    accuracy                           0.52      1200\n",
      "   macro avg       0.53      0.52      0.51      1200\n",
      "weighted avg       0.53      0.52      0.51      1200\n",
      "\n",
      "Модель SVM сохранена в ..\\models\\SVM.pkl\n"
     ]
    }
   ],
   "source": [
    "models = {\n",
    "    \"LogReg\": LogisticRegression(max_iter=1000, class_weight='balanced'),\n",
    "    \"RanFor\": RandomForestClassifier(class_weight='balanced'),\n",
    "    \"SVM\": SVC(class_weight='balanced')\n",
    "}\n",
    "\n",
    "for name, model in models.items():\n",
    "    # Обучение модели\n",
    "    model.fit(X_train, y_train)\n",
    "    \n",
    "    # Предсказание и оценка\n",
    "    y_pred = model.predict(X_test)\n",
    "    print(f\"\\n{name}:\\n\", classification_report(y_test, y_pred))\n",
    "    \n",
    "    # Сохранение модели\n",
    "    with open(CML_models_path / f\"{name}.pkl\", 'wb') as f:\n",
    "        pickle.dump(model, f)\n",
    "    \n",
    "    print(f\"Модель {name} сохранена в {CML_models_path / f'{name}.pkl'}\")"
   ]
  },
  {
   "cell_type": "markdown",
   "metadata": {},
   "source": [
    "После добавления мета признаков качество моделей либо почти не изменилось (для Log Reg accuracy стала 0.62), либо сильно ухудшилось (для SVM стало 0.53)\n",
    "\n",
    "Вернемся на этап с токенизацией и попробуем BERT"
   ]
  },
  {
   "cell_type": "code",
   "execution_count": null,
   "metadata": {},
   "outputs": [],
   "source": []
  }
 ],
 "metadata": {
  "colab": {
   "authorship_tag": "ABX9TyPEVahx0fIW383Uz2UoYEaZ",
   "provenance": []
  },
  "kernelspec": {
   "display_name": "Python 3 (ipykernel)",
   "language": "python",
   "name": "python3"
  },
  "language_info": {
   "codemirror_mode": {
    "name": "ipython",
    "version": 3
   },
   "file_extension": ".py",
   "mimetype": "text/x-python",
   "name": "python",
   "nbconvert_exporter": "python",
   "pygments_lexer": "ipython3",
   "version": "3.12.6"
  }
 },
 "nbformat": 4,
 "nbformat_minor": 4
}
